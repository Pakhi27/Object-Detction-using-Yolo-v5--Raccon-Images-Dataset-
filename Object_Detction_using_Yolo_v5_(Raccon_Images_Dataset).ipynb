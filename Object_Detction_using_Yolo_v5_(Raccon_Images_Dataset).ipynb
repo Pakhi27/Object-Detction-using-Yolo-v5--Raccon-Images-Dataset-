{
  "nbformat": 4,
  "nbformat_minor": 0,
  "metadata": {
    "colab": {
      "provenance": [],
      "authorship_tag": "ABX9TyMRYDXFLIw7vtAfjVbwHhkw",
      "include_colab_link": true
    },
    "kernelspec": {
      "name": "python3",
      "display_name": "Python 3"
    },
    "language_info": {
      "name": "python"
    }
  },
  "cells": [
    {
      "cell_type": "markdown",
      "metadata": {
        "id": "view-in-github",
        "colab_type": "text"
      },
      "source": [
        "<a href=\"https://colab.research.google.com/github/Pakhi27/Object-Detction-using-Yolo-v5--Raccon-Images-Dataset-/blob/main/Object_Detction_using_Yolo_v5_(Raccon_Images_Dataset).ipynb\" target=\"_parent\"><img src=\"https://colab.research.google.com/assets/colab-badge.svg\" alt=\"Open In Colab\"/></a>"
      ]
    },
    {
      "cell_type": "markdown",
      "source": [
        "YOLO Architecture (You Only Look Once)\n",
        "YOLO is an efficient and accurate object detection model that detects multiple objects in images in a single forward pass. Below is an overview of the architecture and how it works.\n",
        "\n",
        "1. YOLO Architecture\n",
        "The YOLO architecture consists of three key parts: feature extraction, bounding box prediction, and class prediction.\n",
        "\n",
        "a) Backbone (Feature Extraction)\n",
        "Convolutional Layers: YOLO uses convolutional layers to extract features from the input image. It applies multiple convolutional layers with different filter sizes to capture spatial features at different levels of granularity.\n",
        "Grid Division: The input image is divided into an\n",
        "𝑆\n",
        "×\n",
        "𝑆\n",
        "S×S grid. Each grid cell is responsible for detecting objects whose center falls within that cell.\n",
        "b) Head (Bounding Box Prediction)\n",
        "For each grid cell, the model predicts several bounding boxes, each with:\n",
        "Coordinates:\n",
        "(\n",
        "𝑥\n",
        ",\n",
        "𝑦\n",
        ",\n",
        "𝑤\n",
        ",\n",
        "ℎ\n",
        ")\n",
        "(x,y,w,h), where\n",
        "𝑥\n",
        "x and\n",
        "𝑦\n",
        "y represent the center of the bounding box relative to the grid cell, and\n",
        "𝑤\n",
        "w and\n",
        "ℎ\n",
        "h are the width and height of the box relative to the image.\n",
        "Confidence Score: A score that reflects how confident the model is that the bounding box contains an object.\n",
        "c) Output Layer (Class Prediction)\n",
        "For each bounding box, YOLO also predicts the class probabilities of the object (e.g., person, dog, car) using a softmax function. This is based on the features extracted from the image.\n",
        "The output is a\n",
        "𝑆\n",
        "×\n",
        "𝑆\n",
        "×\n",
        "(\n",
        "𝐵\n",
        "×\n",
        "5\n",
        "+\n",
        "𝐶\n",
        ")\n",
        "S×S×(B×5+C) tensor, where:\n",
        "𝑆\n",
        "×\n",
        "𝑆\n",
        "S×S is the grid size.\n",
        "𝐵\n",
        "B is the number of bounding boxes per grid cell.\n",
        "5\n",
        "5 corresponds to 4 bounding box attributes (x, y, w, h) and the confidence score.\n",
        "𝐶\n",
        "C is the number of object classes.\n"
      ],
      "metadata": {
        "id": "5Jxxh1fl9Wfr"
      }
    },
    {
      "cell_type": "markdown",
      "source": [
        "YOLOv3 Architecture Example (A Common YOLO Version)\n",
        "Input Layer: The input is an image, typically resized to 416x416 or 608x608 pixels.\n",
        "Darknet-53 Backbone: YOLOv3 uses the Darknet-53 architecture, which consists of:\n",
        "53 convolutional layers for feature extraction.\n",
        "Residual connections (inspired by ResNet) to allow better gradient flow during training.\n",
        "Feature Pyramid Network (FPN): This is used for multi-scale detection to improve the detection of small objects.\n",
        "It detects objects at 3 different scales from the feature maps.\n",
        "Bounding Box Prediction: For each scale, the network predicts bounding boxes with objectness scores and class probabilities.\n",
        "Non-Maximum Suppression (NMS): YOLO applies NMS to remove duplicate detections and keep only the best bounding box for each object.\n"
      ],
      "metadata": {
        "id": "W-0CfmMT9kEg"
      }
    },
    {
      "cell_type": "markdown",
      "source": [
        "2. How YOLO Works\n",
        "Step 1: Image Division\n",
        "YOLO divides the input image into an\n",
        "𝑆\n",
        "×\n",
        "𝑆\n",
        "S×S grid. Each grid cell is responsible for detecting objects whose center lies within the cell.\n",
        "Step 2: Bounding Box Prediction\n",
        "Each grid cell predicts several bounding boxes. For each bounding box, YOLO predicts:\n",
        "The coordinates of the box relative to the grid cell.\n",
        "The width and height relative to the entire image.\n",
        "A confidence score representing how confident the model is that the box contains an object and how accurate it thinks the prediction is.\n",
        "Step 3: Class Prediction\n",
        "For each bounding box, the model predicts a class probability distribution using softmax activation. The output is the most likely class for the detected object.\n",
        "Step 4: Final Output\n",
        "The final output is a set of bounding boxes with class labels and confidence scores. YOLO then filters out low-confidence boxes using a confidence threshold.\n",
        "Step 5: Non-Maximum Suppression (NMS)\n",
        "To avoid multiple boxes around the same object, YOLO applies non-maximum suppression. It keeps the bounding box with the highest confidence score and removes overlapping boxes based on a threshold for Intersection over Union (IoU)."
      ],
      "metadata": {
        "id": "5QsD9tfJ9zK7"
      }
    },
    {
      "cell_type": "markdown",
      "source": [
        "Racoon Images Dataset"
      ],
      "metadata": {
        "id": "Nqsl5BvIfFuK"
      }
    },
    {
      "cell_type": "code",
      "execution_count": 1,
      "metadata": {
        "id": "0d-BLtbt7Eg5"
      },
      "outputs": [],
      "source": [
        "import numpy as np\n",
        "import pandas as pd\n",
        "import matplotlib.pyplot as plt\n",
        "import seaborn as sns\n",
        "import os"
      ]
    },
    {
      "cell_type": "code",
      "source": [
        "from google.colab import drive\n",
        "drive.mount('/content/drive')"
      ],
      "metadata": {
        "colab": {
          "base_uri": "https://localhost:8080/"
        },
        "id": "0LUg9QIqf3Kr",
        "outputId": "d68a1567-8417-476a-f735-08837a7ee4a0"
      },
      "execution_count": 2,
      "outputs": [
        {
          "output_type": "stream",
          "name": "stdout",
          "text": [
            "Mounted at /content/drive\n"
          ]
        }
      ]
    },
    {
      "cell_type": "code",
      "source": [
        "!git clone https://github.com/ultralytics/yolov5  # Clone the YOLOv5 repo\n",
        "%cd yolov5\n",
        "!pip install -r requirements.txt  # Install the necessary libraries\n"
      ],
      "metadata": {
        "colab": {
          "base_uri": "https://localhost:8080/",
          "height": 1000
        },
        "id": "mwKD7rn7gFrz",
        "outputId": "60988aec-543e-4729-b37b-21c8256b82d8"
      },
      "execution_count": 3,
      "outputs": [
        {
          "output_type": "stream",
          "name": "stdout",
          "text": [
            "Cloning into 'yolov5'...\n",
            "remote: Enumerating objects: 16954, done.\u001b[K\n",
            "remote: Counting objects: 100% (149/149), done.\u001b[K\n",
            "remote: Compressing objects: 100% (104/104), done.\u001b[K\n",
            "remote: Total 16954 (delta 73), reused 94 (delta 45), pack-reused 16805 (from 1)\u001b[K\n",
            "Receiving objects: 100% (16954/16954), 15.71 MiB | 15.91 MiB/s, done.\n",
            "Resolving deltas: 100% (11606/11606), done.\n",
            "/content/yolov5\n",
            "Collecting gitpython>=3.1.30 (from -r requirements.txt (line 5))\n",
            "  Downloading GitPython-3.1.43-py3-none-any.whl.metadata (13 kB)\n",
            "Requirement already satisfied: matplotlib>=3.3 in /usr/local/lib/python3.10/dist-packages (from -r requirements.txt (line 6)) (3.7.1)\n",
            "Requirement already satisfied: numpy>=1.23.5 in /usr/local/lib/python3.10/dist-packages (from -r requirements.txt (line 7)) (1.26.4)\n",
            "Requirement already satisfied: opencv-python>=4.1.1 in /usr/local/lib/python3.10/dist-packages (from -r requirements.txt (line 8)) (4.10.0.84)\n",
            "Collecting pillow>=10.3.0 (from -r requirements.txt (line 9))\n",
            "  Downloading pillow-10.4.0-cp310-cp310-manylinux_2_28_x86_64.whl.metadata (9.2 kB)\n",
            "Requirement already satisfied: psutil in /usr/local/lib/python3.10/dist-packages (from -r requirements.txt (line 10)) (5.9.5)\n",
            "Requirement already satisfied: PyYAML>=5.3.1 in /usr/local/lib/python3.10/dist-packages (from -r requirements.txt (line 11)) (6.0.2)\n",
            "Requirement already satisfied: requests>=2.32.0 in /usr/local/lib/python3.10/dist-packages (from -r requirements.txt (line 12)) (2.32.3)\n",
            "Requirement already satisfied: scipy>=1.4.1 in /usr/local/lib/python3.10/dist-packages (from -r requirements.txt (line 13)) (1.13.1)\n",
            "Collecting thop>=0.1.1 (from -r requirements.txt (line 14))\n",
            "  Downloading thop-0.1.1.post2209072238-py3-none-any.whl.metadata (2.7 kB)\n",
            "Requirement already satisfied: torch>=1.8.0 in /usr/local/lib/python3.10/dist-packages (from -r requirements.txt (line 15)) (2.4.0+cu121)\n",
            "Requirement already satisfied: torchvision>=0.9.0 in /usr/local/lib/python3.10/dist-packages (from -r requirements.txt (line 16)) (0.19.0+cu121)\n",
            "Requirement already satisfied: tqdm>=4.64.0 in /usr/local/lib/python3.10/dist-packages (from -r requirements.txt (line 17)) (4.66.5)\n",
            "Collecting ultralytics>=8.2.34 (from -r requirements.txt (line 18))\n",
            "  Downloading ultralytics-8.2.93-py3-none-any.whl.metadata (41 kB)\n",
            "\u001b[2K     \u001b[90m━━━━━━━━━━━━━━━━━━━━━━━━━━━━━━━━━━━━━━━━\u001b[0m \u001b[32m41.9/41.9 kB\u001b[0m \u001b[31m2.4 MB/s\u001b[0m eta \u001b[36m0:00:00\u001b[0m\n",
            "\u001b[?25hRequirement already satisfied: pandas>=1.1.4 in /usr/local/lib/python3.10/dist-packages (from -r requirements.txt (line 27)) (2.1.4)\n",
            "Requirement already satisfied: seaborn>=0.11.0 in /usr/local/lib/python3.10/dist-packages (from -r requirements.txt (line 28)) (0.13.1)\n",
            "Requirement already satisfied: setuptools>=70.0.0 in /usr/local/lib/python3.10/dist-packages (from -r requirements.txt (line 42)) (71.0.4)\n",
            "Collecting gitdb<5,>=4.0.1 (from gitpython>=3.1.30->-r requirements.txt (line 5))\n",
            "  Downloading gitdb-4.0.11-py3-none-any.whl.metadata (1.2 kB)\n",
            "Requirement already satisfied: contourpy>=1.0.1 in /usr/local/lib/python3.10/dist-packages (from matplotlib>=3.3->-r requirements.txt (line 6)) (1.3.0)\n",
            "Requirement already satisfied: cycler>=0.10 in /usr/local/lib/python3.10/dist-packages (from matplotlib>=3.3->-r requirements.txt (line 6)) (0.12.1)\n",
            "Requirement already satisfied: fonttools>=4.22.0 in /usr/local/lib/python3.10/dist-packages (from matplotlib>=3.3->-r requirements.txt (line 6)) (4.53.1)\n",
            "Requirement already satisfied: kiwisolver>=1.0.1 in /usr/local/lib/python3.10/dist-packages (from matplotlib>=3.3->-r requirements.txt (line 6)) (1.4.7)\n",
            "Requirement already satisfied: packaging>=20.0 in /usr/local/lib/python3.10/dist-packages (from matplotlib>=3.3->-r requirements.txt (line 6)) (24.1)\n",
            "Requirement already satisfied: pyparsing>=2.3.1 in /usr/local/lib/python3.10/dist-packages (from matplotlib>=3.3->-r requirements.txt (line 6)) (3.1.4)\n",
            "Requirement already satisfied: python-dateutil>=2.7 in /usr/local/lib/python3.10/dist-packages (from matplotlib>=3.3->-r requirements.txt (line 6)) (2.8.2)\n",
            "Requirement already satisfied: charset-normalizer<4,>=2 in /usr/local/lib/python3.10/dist-packages (from requests>=2.32.0->-r requirements.txt (line 12)) (3.3.2)\n",
            "Requirement already satisfied: idna<4,>=2.5 in /usr/local/lib/python3.10/dist-packages (from requests>=2.32.0->-r requirements.txt (line 12)) (3.8)\n",
            "Requirement already satisfied: urllib3<3,>=1.21.1 in /usr/local/lib/python3.10/dist-packages (from requests>=2.32.0->-r requirements.txt (line 12)) (2.0.7)\n",
            "Requirement already satisfied: certifi>=2017.4.17 in /usr/local/lib/python3.10/dist-packages (from requests>=2.32.0->-r requirements.txt (line 12)) (2024.8.30)\n",
            "Requirement already satisfied: filelock in /usr/local/lib/python3.10/dist-packages (from torch>=1.8.0->-r requirements.txt (line 15)) (3.16.0)\n",
            "Requirement already satisfied: typing-extensions>=4.8.0 in /usr/local/lib/python3.10/dist-packages (from torch>=1.8.0->-r requirements.txt (line 15)) (4.12.2)\n",
            "Requirement already satisfied: sympy in /usr/local/lib/python3.10/dist-packages (from torch>=1.8.0->-r requirements.txt (line 15)) (1.13.2)\n",
            "Requirement already satisfied: networkx in /usr/local/lib/python3.10/dist-packages (from torch>=1.8.0->-r requirements.txt (line 15)) (3.3)\n",
            "Requirement already satisfied: jinja2 in /usr/local/lib/python3.10/dist-packages (from torch>=1.8.0->-r requirements.txt (line 15)) (3.1.4)\n",
            "Requirement already satisfied: fsspec in /usr/local/lib/python3.10/dist-packages (from torch>=1.8.0->-r requirements.txt (line 15)) (2024.6.1)\n",
            "Requirement already satisfied: py-cpuinfo in /usr/local/lib/python3.10/dist-packages (from ultralytics>=8.2.34->-r requirements.txt (line 18)) (9.0.0)\n",
            "Collecting ultralytics-thop>=2.0.0 (from ultralytics>=8.2.34->-r requirements.txt (line 18))\n",
            "  Downloading ultralytics_thop-2.0.6-py3-none-any.whl.metadata (9.1 kB)\n",
            "Requirement already satisfied: pytz>=2020.1 in /usr/local/lib/python3.10/dist-packages (from pandas>=1.1.4->-r requirements.txt (line 27)) (2024.2)\n",
            "Requirement already satisfied: tzdata>=2022.1 in /usr/local/lib/python3.10/dist-packages (from pandas>=1.1.4->-r requirements.txt (line 27)) (2024.1)\n",
            "Collecting smmap<6,>=3.0.1 (from gitdb<5,>=4.0.1->gitpython>=3.1.30->-r requirements.txt (line 5))\n",
            "  Downloading smmap-5.0.1-py3-none-any.whl.metadata (4.3 kB)\n",
            "Requirement already satisfied: six>=1.5 in /usr/local/lib/python3.10/dist-packages (from python-dateutil>=2.7->matplotlib>=3.3->-r requirements.txt (line 6)) (1.16.0)\n",
            "Requirement already satisfied: MarkupSafe>=2.0 in /usr/local/lib/python3.10/dist-packages (from jinja2->torch>=1.8.0->-r requirements.txt (line 15)) (2.1.5)\n",
            "Requirement already satisfied: mpmath<1.4,>=1.1.0 in /usr/local/lib/python3.10/dist-packages (from sympy->torch>=1.8.0->-r requirements.txt (line 15)) (1.3.0)\n",
            "Downloading GitPython-3.1.43-py3-none-any.whl (207 kB)\n",
            "\u001b[2K   \u001b[90m━━━━━━━━━━━━━━━━━━━━━━━━━━━━━━━━━━━━━━━━\u001b[0m \u001b[32m207.3/207.3 kB\u001b[0m \u001b[31m9.0 MB/s\u001b[0m eta \u001b[36m0:00:00\u001b[0m\n",
            "\u001b[?25hDownloading pillow-10.4.0-cp310-cp310-manylinux_2_28_x86_64.whl (4.5 MB)\n",
            "\u001b[2K   \u001b[90m━━━━━━━━━━━━━━━━━━━━━━━━━━━━━━━━━━━━━━━━\u001b[0m \u001b[32m4.5/4.5 MB\u001b[0m \u001b[31m73.3 MB/s\u001b[0m eta \u001b[36m0:00:00\u001b[0m\n",
            "\u001b[?25hDownloading thop-0.1.1.post2209072238-py3-none-any.whl (15 kB)\n",
            "Downloading ultralytics-8.2.93-py3-none-any.whl (871 kB)\n",
            "\u001b[2K   \u001b[90m━━━━━━━━━━━━━━━━━━━━━━━━━━━━━━━━━━━━━━━━\u001b[0m \u001b[32m871.6/871.6 kB\u001b[0m \u001b[31m46.7 MB/s\u001b[0m eta \u001b[36m0:00:00\u001b[0m\n",
            "\u001b[?25hDownloading gitdb-4.0.11-py3-none-any.whl (62 kB)\n",
            "\u001b[2K   \u001b[90m━━━━━━━━━━━━━━━━━━━━━━━━━━━━━━━━━━━━━━━━\u001b[0m \u001b[32m62.7/62.7 kB\u001b[0m \u001b[31m4.6 MB/s\u001b[0m eta \u001b[36m0:00:00\u001b[0m\n",
            "\u001b[?25hDownloading ultralytics_thop-2.0.6-py3-none-any.whl (26 kB)\n",
            "Downloading smmap-5.0.1-py3-none-any.whl (24 kB)\n",
            "Installing collected packages: smmap, pillow, gitdb, ultralytics-thop, thop, gitpython, ultralytics\n",
            "  Attempting uninstall: pillow\n",
            "    Found existing installation: Pillow 9.4.0\n",
            "    Uninstalling Pillow-9.4.0:\n",
            "      Successfully uninstalled Pillow-9.4.0\n",
            "Successfully installed gitdb-4.0.11 gitpython-3.1.43 pillow-10.4.0 smmap-5.0.1 thop-0.1.1.post2209072238 ultralytics-8.2.93 ultralytics-thop-2.0.6\n"
          ]
        },
        {
          "output_type": "display_data",
          "data": {
            "application/vnd.colab-display-data+json": {
              "pip_warning": {
                "packages": [
                  "PIL"
                ]
              },
              "id": "ab6123e7a2ff4c278ff8258a496298c4"
            }
          },
          "metadata": {}
        }
      ]
    },
    {
      "cell_type": "code",
      "source": [
        "\n",
        "!pip install torch torchvision opencv-python\n"
      ],
      "metadata": {
        "colab": {
          "base_uri": "https://localhost:8080/"
        },
        "id": "ZUmcSbaSpL04",
        "outputId": "13247e19-af28-4eb4-fef3-97858d029f01"
      },
      "execution_count": 4,
      "outputs": [
        {
          "output_type": "stream",
          "name": "stdout",
          "text": [
            "Requirement already satisfied: torch in /usr/local/lib/python3.10/dist-packages (2.4.0+cu121)\n",
            "Requirement already satisfied: torchvision in /usr/local/lib/python3.10/dist-packages (0.19.0+cu121)\n",
            "Requirement already satisfied: opencv-python in /usr/local/lib/python3.10/dist-packages (4.10.0.84)\n",
            "Requirement already satisfied: filelock in /usr/local/lib/python3.10/dist-packages (from torch) (3.16.0)\n",
            "Requirement already satisfied: typing-extensions>=4.8.0 in /usr/local/lib/python3.10/dist-packages (from torch) (4.12.2)\n",
            "Requirement already satisfied: sympy in /usr/local/lib/python3.10/dist-packages (from torch) (1.13.2)\n",
            "Requirement already satisfied: networkx in /usr/local/lib/python3.10/dist-packages (from torch) (3.3)\n",
            "Requirement already satisfied: jinja2 in /usr/local/lib/python3.10/dist-packages (from torch) (3.1.4)\n",
            "Requirement already satisfied: fsspec in /usr/local/lib/python3.10/dist-packages (from torch) (2024.6.1)\n",
            "Requirement already satisfied: numpy in /usr/local/lib/python3.10/dist-packages (from torchvision) (1.26.4)\n",
            "Requirement already satisfied: pillow!=8.3.*,>=5.3.0 in /usr/local/lib/python3.10/dist-packages (from torchvision) (10.4.0)\n",
            "Requirement already satisfied: MarkupSafe>=2.0 in /usr/local/lib/python3.10/dist-packages (from jinja2->torch) (2.1.5)\n",
            "Requirement already satisfied: mpmath<1.4,>=1.1.0 in /usr/local/lib/python3.10/dist-packages (from sympy->torch) (1.3.0)\n"
          ]
        }
      ]
    },
    {
      "cell_type": "code",
      "source": [
        "!git clone https://github.com/ultralytics/yolov5\n",
        "!cd yolov5\n"
      ],
      "metadata": {
        "colab": {
          "base_uri": "https://localhost:8080/"
        },
        "id": "t1H4LnQBGalO",
        "outputId": "3029ade1-bbe8-4885-f81e-2fa1b6b9a422"
      },
      "execution_count": 1,
      "outputs": [
        {
          "output_type": "stream",
          "name": "stdout",
          "text": [
            "fatal: destination path 'yolov5' already exists and is not an empty directory.\n"
          ]
        }
      ]
    },
    {
      "cell_type": "code",
      "source": [
        "import os\n",
        "import pandas as pd\n",
        "\n",
        "# Load the CSV file\n",
        "csv_file = '/content/drive/MyDrive/Racoon Images/train_labels_.csv'  # Replace with actual path\n",
        "images_folder = '/content/drive/MyDrive/Racoon Images/images'  # Replace with actual path\n",
        "output_label_folder = 'labels'  # Folder to store YOLO format labels\n",
        "os.makedirs(output_label_folder, exist_ok=True)\n",
        "\n",
        "# Read the CSV file\n",
        "df = pd.read_csv(csv_file)\n",
        "\n",
        "# Convert each row to YOLO format\n",
        "for index, row in df.iterrows():\n",
        "    # Image dimensions\n",
        "    img_width = row['width']\n",
        "    img_height = row['height']\n",
        "\n",
        "    # Bounding box coordinates\n",
        "    xmin = row['xmin']\n",
        "    ymin = row['ymin']\n",
        "    xmax = row['xmax']\n",
        "    ymax = row['ymax']\n",
        "\n",
        "    # Convert to YOLO format\n",
        "    x_center = ((xmin + xmax) / 2) / img_width\n",
        "    y_center = ((ymin + ymax) / 2) / img_height\n",
        "    width = (xmax - xmin) / img_width\n",
        "    height = (ymax - ymin) / img_height\n",
        "\n",
        "    # Get the class (assuming 'raccoon' is the only class, class index is 0)\n",
        "    class_id = row['class']\n",
        "\n",
        "    # Create label file in YOLO format\n",
        "    image_filename = row['filename']\n",
        "    label_filename = os.path.splitext(image_filename)[0] + \".txt\"\n",
        "    label_filepath = os.path.join(output_label_folder, label_filename)\n",
        "\n",
        "    # Write to the label file\n",
        "    with open(label_filepath, 'a') as f:\n",
        "        f.write(f\"{class_id} {x_center} {y_center} {width} {height}\\n\")\n",
        "\n",
        "print(\"Conversion to YOLO format complete.\")\n"
      ],
      "metadata": {
        "colab": {
          "base_uri": "https://localhost:8080/"
        },
        "id": "UyixaS32KdB6",
        "outputId": "60513eee-f00e-411f-e2b1-3f2e06eb643f"
      },
      "execution_count": 2,
      "outputs": [
        {
          "output_type": "stream",
          "name": "stdout",
          "text": [
            "Conversion to YOLO format complete.\n"
          ]
        }
      ]
    },
    {
      "cell_type": "code",
      "source": [
        "\n",
        "yaml_content = \"\"\"\n",
        "train: '/content/drive/MyDrive/Racoon Images/images'  # Path to the folder with training images\n",
        "val: '/content/drive/MyDrive/Racoon Images/images'    # Using same folder for validation\n",
        "\n",
        "nc: 1\n",
        "names: ['raccoon']\n",
        "\"\"\"\n",
        "\n",
        "# Write the YAML content to a file\n",
        "with open('raccoon.yaml', 'w') as file:\n",
        "    file.write(yaml_content)\n",
        "\n",
        "print(\"raccoon.yaml file created.\")\n",
        "\n"
      ],
      "metadata": {
        "colab": {
          "base_uri": "https://localhost:8080/"
        },
        "id": "hl5AkfW_LNn2",
        "outputId": "556bd7f6-0d30-4d0e-94cf-3bfa868e5376"
      },
      "execution_count": 7,
      "outputs": [
        {
          "output_type": "stream",
          "name": "stdout",
          "text": [
            "raccoon.yaml file created.\n"
          ]
        }
      ]
    },
    {
      "cell_type": "code",
      "source": [
        "!python /content/yolov5/train.py --img 640 --batch 16 --epochs 50 --data raccoon.yaml --weights yolov5s.pt\n"
      ],
      "metadata": {
        "colab": {
          "base_uri": "https://localhost:8080/"
        },
        "id": "H3eFsfNWGaov",
        "outputId": "f5d9e73f-8d16-4b4c-b042-01da04e5388e"
      },
      "execution_count": 8,
      "outputs": [
        {
          "output_type": "stream",
          "name": "stdout",
          "text": [
            "2024-09-13 18:33:29.010588: E external/local_xla/xla/stream_executor/cuda/cuda_fft.cc:485] Unable to register cuFFT factory: Attempting to register factory for plugin cuFFT when one has already been registered\n",
            "2024-09-13 18:33:29.046219: E external/local_xla/xla/stream_executor/cuda/cuda_dnn.cc:8454] Unable to register cuDNN factory: Attempting to register factory for plugin cuDNN when one has already been registered\n",
            "2024-09-13 18:33:29.056763: E external/local_xla/xla/stream_executor/cuda/cuda_blas.cc:1452] Unable to register cuBLAS factory: Attempting to register factory for plugin cuBLAS when one has already been registered\n",
            "\u001b[34m\u001b[1mtrain: \u001b[0mweights=yolov5s.pt, cfg=, data=raccoon.yaml, hyp=yolov5/data/hyps/hyp.scratch-low.yaml, epochs=50, batch_size=16, imgsz=640, rect=False, resume=False, nosave=False, noval=False, noautoanchor=False, noplots=False, evolve=None, evolve_population=yolov5/data/hyps, resume_evolve=None, bucket=, cache=None, image_weights=False, device=, multi_scale=False, single_cls=False, optimizer=SGD, sync_bn=False, workers=8, project=yolov5/runs/train, name=exp, exist_ok=False, quad=False, cos_lr=False, label_smoothing=0.0, patience=100, freeze=[0], save_period=-1, seed=0, local_rank=-1, entity=None, upload_dataset=False, bbox_interval=-1, artifact_alias=latest, ndjson_console=False, ndjson_file=False\n",
            "\u001b[34m\u001b[1mgithub: \u001b[0mup to date with https://github.com/ultralytics/yolov5 ✅\n",
            "YOLOv5 🚀 v7.0-366-gf7322921 Python-3.10.12 torch-2.4.0+cu121 CPU\n",
            "\n",
            "\u001b[34m\u001b[1mhyperparameters: \u001b[0mlr0=0.01, lrf=0.01, momentum=0.937, weight_decay=0.0005, warmup_epochs=3.0, warmup_momentum=0.8, warmup_bias_lr=0.1, box=0.05, cls=0.5, cls_pw=1.0, obj=1.0, obj_pw=1.0, iou_t=0.2, anchor_t=4.0, fl_gamma=0.0, hsv_h=0.015, hsv_s=0.7, hsv_v=0.4, degrees=0.0, translate=0.1, scale=0.5, shear=0.0, perspective=0.0, flipud=0.0, fliplr=0.5, mosaic=1.0, mixup=0.0, copy_paste=0.0\n",
            "\u001b[34m\u001b[1mComet: \u001b[0mrun 'pip install comet_ml' to automatically track and visualize YOLOv5 🚀 runs in Comet\n",
            "\u001b[34m\u001b[1mTensorBoard: \u001b[0mStart with 'tensorboard --logdir yolov5/runs/train', view at http://localhost:6006/\n",
            "Downloading https://github.com/ultralytics/assets/releases/download/v0.0.0/Arial.ttf to /root/.config/Ultralytics/Arial.ttf...\n",
            "100% 755k/755k [00:00<00:00, 19.7MB/s]\n",
            "Downloading https://github.com/ultralytics/yolov5/releases/download/v7.0/yolov5s.pt to yolov5s.pt...\n",
            "100% 14.1M/14.1M [00:00<00:00, 105MB/s] \n",
            "\n",
            "Overriding model.yaml nc=80 with nc=1\n",
            "\n",
            "                 from  n    params  module                                  arguments                     \n",
            "  0                -1  1      3520  models.common.Conv                      [3, 32, 6, 2, 2]              \n",
            "  1                -1  1     18560  models.common.Conv                      [32, 64, 3, 2]                \n",
            "  2                -1  1     18816  models.common.C3                        [64, 64, 1]                   \n",
            "  3                -1  1     73984  models.common.Conv                      [64, 128, 3, 2]               \n",
            "  4                -1  2    115712  models.common.C3                        [128, 128, 2]                 \n",
            "  5                -1  1    295424  models.common.Conv                      [128, 256, 3, 2]              \n",
            "  6                -1  3    625152  models.common.C3                        [256, 256, 3]                 \n",
            "  7                -1  1   1180672  models.common.Conv                      [256, 512, 3, 2]              \n",
            "  8                -1  1   1182720  models.common.C3                        [512, 512, 1]                 \n",
            "  9                -1  1    656896  models.common.SPPF                      [512, 512, 5]                 \n",
            " 10                -1  1    131584  models.common.Conv                      [512, 256, 1, 1]              \n",
            " 11                -1  1         0  torch.nn.modules.upsampling.Upsample    [None, 2, 'nearest']          \n",
            " 12           [-1, 6]  1         0  models.common.Concat                    [1]                           \n",
            " 13                -1  1    361984  models.common.C3                        [512, 256, 1, False]          \n",
            " 14                -1  1     33024  models.common.Conv                      [256, 128, 1, 1]              \n",
            " 15                -1  1         0  torch.nn.modules.upsampling.Upsample    [None, 2, 'nearest']          \n",
            " 16           [-1, 4]  1         0  models.common.Concat                    [1]                           \n",
            " 17                -1  1     90880  models.common.C3                        [256, 128, 1, False]          \n",
            " 18                -1  1    147712  models.common.Conv                      [128, 128, 3, 2]              \n",
            " 19          [-1, 14]  1         0  models.common.Concat                    [1]                           \n",
            " 20                -1  1    296448  models.common.C3                        [256, 256, 1, False]          \n",
            " 21                -1  1    590336  models.common.Conv                      [256, 256, 3, 2]              \n",
            " 22          [-1, 10]  1         0  models.common.Concat                    [1]                           \n",
            " 23                -1  1   1182720  models.common.C3                        [512, 512, 1, False]          \n",
            " 24      [17, 20, 23]  1     16182  models.yolo.Detect                      [1, [[10, 13, 16, 30, 33, 23], [30, 61, 62, 45, 59, 119], [116, 90, 156, 198, 373, 326]], [128, 256, 512]]\n",
            "Model summary: 214 layers, 7022326 parameters, 7022326 gradients, 15.9 GFLOPs\n",
            "\n",
            "Transferred 343/349 items from yolov5s.pt\n",
            "\u001b[34m\u001b[1moptimizer:\u001b[0m SGD(lr=0.01) with parameter groups 57 weight(decay=0.0), 60 weight(decay=0.0005), 60 bias\n",
            "\u001b[34m\u001b[1malbumentations: \u001b[0mBlur(p=0.01, blur_limit=(3, 7)), MedianBlur(p=0.01, blur_limit=(3, 7)), ToGray(p=0.01), CLAHE(p=0.01, clip_limit=(1, 4.0), tile_grid_size=(8, 8))\n",
            "/usr/lib/python3.10/multiprocessing/popen_fork.py:66: RuntimeWarning: os.fork() was called. os.fork() is incompatible with multithreaded code, and JAX is multithreaded, so this will likely lead to a deadlock.\n",
            "  self.pid = os.fork()\n",
            "\u001b[34m\u001b[1mtrain: \u001b[0mScanning /content/drive/MyDrive/Racoon Images/labels... 0 images, 200 backgrounds, 0 corrupt: 100% 200/200 [00:05<00:00, 39.15it/s] \n",
            "\u001b[34m\u001b[1mtrain: \u001b[0mWARNING ⚠️ No labels found in /content/drive/MyDrive/Racoon Images/labels.cache. See https://docs.ultralytics.com/yolov5/tutorials/train_custom_data\n",
            "\u001b[34m\u001b[1mtrain: \u001b[0mNew cache created: /content/drive/MyDrive/Racoon Images/labels.cache\n",
            "Traceback (most recent call last):\n",
            "  File \"/content/yolov5/train.py\", line 986, in <module>\n",
            "    main(opt)\n",
            "  File \"/content/yolov5/train.py\", line 688, in main\n",
            "    train(opt.hyp, opt, device, callbacks)\n",
            "  File \"/content/yolov5/train.py\", line 285, in train\n",
            "    train_loader, dataset = create_dataloader(\n",
            "  File \"/content/yolov5/utils/dataloaders.py\", line 184, in create_dataloader\n",
            "    dataset = LoadImagesAndLabels(\n",
            "  File \"/content/yolov5/utils/dataloaders.py\", line 611, in __init__\n",
            "    assert nf > 0 or not augment, f\"{prefix}No labels found in {cache_path}, can not start training. {HELP_URL}\"\n",
            "AssertionError: \u001b[34m\u001b[1mtrain: \u001b[0mNo labels found in /content/drive/MyDrive/Racoon Images/labels.cache, can not start training. See https://docs.ultralytics.com/yolov5/tutorials/train_custom_data\n"
          ]
        }
      ]
    },
    {
      "cell_type": "code",
      "source": [
        "\n",
        "import torch\n",
        "import os\n",
        "from PIL import Image\n",
        "\n",
        "# Load the pre-trained YOLOv5 model\n",
        "model = torch.hub.load('ultralytics/yolov5', 'yolov5s')  # Load YOLOv5 small pre-trained model\n",
        "\n",
        "# Path to your raccoon images folder\n",
        "images_folder = '/content/drive/MyDrive/Racoon Images/images'  # Replace with the actual path\n",
        "output_folder = 'output_images_folder'  # Folder to save output images with detections\n",
        "\n",
        "# Create the output folder if it doesn't exist\n",
        "os.makedirs(output_folder, exist_ok=True)\n",
        "\n",
        "# Loop through all images in the folder\n",
        "for image_name in os.listdir(images_folder):\n",
        "    if image_name.endswith(('.jpg', '.jpeg', '.png')):  # Check for image files\n",
        "        image_path = os.path.join(images_folder, image_name)\n",
        "\n",
        "        # Load the image\n",
        "        img = Image.open(image_path)\n",
        "\n",
        "        # Perform object detection\n",
        "        results = model(img)\n",
        "\n",
        "        # Print detection results\n",
        "        results.print()\n",
        "\n",
        "        # Save output image with bounding boxes\n",
        "        output_image_path = os.path.join(output_folder, image_name)\n",
        "        results.save(save_dir=output_folder)\n",
        "\n",
        "        print(f\"Processed {image_name} and saved to {output_image_path}\")\n",
        "\n",
        "print(\"Object detection complete for all images.\")\n"
      ],
      "metadata": {
        "colab": {
          "base_uri": "https://localhost:8080/"
        },
        "id": "8923CxY4h3nQ",
        "outputId": "690edc1a-8a62-4d2a-b942-0c22e40bb88f"
      },
      "execution_count": 9,
      "outputs": [
        {
          "output_type": "stream",
          "name": "stderr",
          "text": [
            "/usr/local/lib/python3.10/dist-packages/torch/hub.py:295: UserWarning: You are about to download and run code from an untrusted repository. In a future release, this won't be allowed. To add the repository to your trusted list, change the command to {calling_fn}(..., trust_repo=False) and a command prompt will appear asking for an explicit confirmation of trust, or load(..., trust_repo=True), which will assume that the prompt is to be answered with 'yes'. You can also use load(..., trust_repo='check') which will only prompt for confirmation if the repo is not already trusted. This will eventually be the default behaviour\n",
            "  warnings.warn(\n",
            "Downloading: \"https://github.com/ultralytics/yolov5/zipball/master\" to /root/.cache/torch/hub/master.zip\n",
            "YOLOv5 🚀 2024-9-13 Python-3.10.12 torch-2.4.0+cu121 CPU\n",
            "\n",
            "Fusing layers... \n",
            "YOLOv5s summary: 213 layers, 7225885 parameters, 0 gradients, 16.4 GFLOPs\n",
            "Adding AutoShape... \n",
            "/root/.cache/torch/hub/ultralytics_yolov5_master/models/common.py:892: FutureWarning: `torch.cuda.amp.autocast(args...)` is deprecated. Please use `torch.amp.autocast('cuda', args...)` instead.\n",
            "  with amp.autocast(autocast):\n",
            "image 1/1: 304x600 1 person, 1 dog, 1 potted plant, 1 bed\n",
            "Speed: 69.7ms pre-process, 325.7ms inference, 29.2ms NMS per image at shape (1, 3, 352, 640)\n",
            "Saved 1 image to \u001b[1moutput_images_folder2\u001b[0m\n",
            "/root/.cache/torch/hub/ultralytics_yolov5_master/models/common.py:892: FutureWarning: `torch.cuda.amp.autocast(args...)` is deprecated. Please use `torch.amp.autocast('cuda', args...)` instead.\n",
            "  with amp.autocast(autocast):\n"
          ]
        },
        {
          "output_type": "stream",
          "name": "stdout",
          "text": [
            "Processed raccoon-104.jpg and saved to output_images_folder/raccoon-104.jpg\n"
          ]
        },
        {
          "output_type": "stream",
          "name": "stderr",
          "text": [
            "image 1/1: 640x426 1 bear\n",
            "Speed: 19.5ms pre-process, 383.2ms inference, 3.7ms NMS per image at shape (1, 3, 640, 448)\n",
            "Saved 1 image to \u001b[1moutput_images_folder3\u001b[0m\n",
            "/root/.cache/torch/hub/ultralytics_yolov5_master/models/common.py:892: FutureWarning: `torch.cuda.amp.autocast(args...)` is deprecated. Please use `torch.amp.autocast('cuda', args...)` instead.\n",
            "  with amp.autocast(autocast):\n"
          ]
        },
        {
          "output_type": "stream",
          "name": "stdout",
          "text": [
            "Processed raccoon-115.jpg and saved to output_images_folder/raccoon-115.jpg\n"
          ]
        },
        {
          "output_type": "stream",
          "name": "stderr",
          "text": [
            "image 1/1: 960x720 1 person\n",
            "Speed: 40.0ms pre-process, 385.9ms inference, 4.5ms NMS per image at shape (1, 3, 640, 480)\n",
            "Saved 1 image to \u001b[1moutput_images_folder4\u001b[0m\n",
            "/root/.cache/torch/hub/ultralytics_yolov5_master/models/common.py:892: FutureWarning: `torch.cuda.amp.autocast(args...)` is deprecated. Please use `torch.amp.autocast('cuda', args...)` instead.\n",
            "  with amp.autocast(autocast):\n"
          ]
        },
        {
          "output_type": "stream",
          "name": "stdout",
          "text": [
            "Processed raccoon-105.jpg and saved to output_images_folder/raccoon-105.jpg\n"
          ]
        },
        {
          "output_type": "stream",
          "name": "stderr",
          "text": [
            "image 1/1: 426x640 1 bear\n",
            "Speed: 9.5ms pre-process, 406.9ms inference, 4.7ms NMS per image at shape (1, 3, 448, 640)\n",
            "Saved 1 image to \u001b[1moutput_images_folder5\u001b[0m\n",
            "/root/.cache/torch/hub/ultralytics_yolov5_master/models/common.py:892: FutureWarning: `torch.cuda.amp.autocast(args...)` is deprecated. Please use `torch.amp.autocast('cuda', args...)` instead.\n",
            "  with amp.autocast(autocast):\n"
          ]
        },
        {
          "output_type": "stream",
          "name": "stdout",
          "text": [
            "Processed raccoon-101.jpg and saved to output_images_folder/raccoon-101.jpg\n"
          ]
        },
        {
          "output_type": "stream",
          "name": "stderr",
          "text": [
            "image 1/1: 274x184 (no detections)\n",
            "Speed: 5.9ms pre-process, 462.8ms inference, 5.2ms NMS per image at shape (1, 3, 640, 448)\n",
            "Saved 1 image to \u001b[1moutput_images_folder6\u001b[0m\n",
            "/root/.cache/torch/hub/ultralytics_yolov5_master/models/common.py:892: FutureWarning: `torch.cuda.amp.autocast(args...)` is deprecated. Please use `torch.amp.autocast('cuda', args...)` instead.\n",
            "  with amp.autocast(autocast):\n"
          ]
        },
        {
          "output_type": "stream",
          "name": "stdout",
          "text": [
            "Processed raccoon-110.jpg and saved to output_images_folder/raccoon-110.jpg\n"
          ]
        },
        {
          "output_type": "stream",
          "name": "stderr",
          "text": [
            "image 1/1: 371x660 1 bear\n",
            "Speed: 10.5ms pre-process, 452.4ms inference, 2.0ms NMS per image at shape (1, 3, 384, 640)\n",
            "Saved 1 image to \u001b[1moutput_images_folder7\u001b[0m\n",
            "/root/.cache/torch/hub/ultralytics_yolov5_master/models/common.py:892: FutureWarning: `torch.cuda.amp.autocast(args...)` is deprecated. Please use `torch.amp.autocast('cuda', args...)` instead.\n",
            "  with amp.autocast(autocast):\n"
          ]
        },
        {
          "output_type": "stream",
          "name": "stdout",
          "text": [
            "Processed raccoon-120.jpg and saved to output_images_folder/raccoon-120.jpg\n"
          ]
        },
        {
          "output_type": "stream",
          "name": "stderr",
          "text": [
            "image 1/1: 533x400 1 bear\n",
            "Speed: 9.1ms pre-process, 534.9ms inference, 8.3ms NMS per image at shape (1, 3, 640, 480)\n",
            "Saved 1 image to \u001b[1moutput_images_folder8\u001b[0m\n",
            "/root/.cache/torch/hub/ultralytics_yolov5_master/models/common.py:892: FutureWarning: `torch.cuda.amp.autocast(args...)` is deprecated. Please use `torch.amp.autocast('cuda', args...)` instead.\n",
            "  with amp.autocast(autocast):\n"
          ]
        },
        {
          "output_type": "stream",
          "name": "stdout",
          "text": [
            "Processed raccoon-119.jpg and saved to output_images_folder/raccoon-119.jpg\n"
          ]
        },
        {
          "output_type": "stream",
          "name": "stderr",
          "text": [
            "image 1/1: 576x960 1 person\n",
            "Speed: 21.0ms pre-process, 461.8ms inference, 4.9ms NMS per image at shape (1, 3, 384, 640)\n",
            "Saved 1 image to \u001b[1moutput_images_folder9\u001b[0m\n",
            "/root/.cache/torch/hub/ultralytics_yolov5_master/models/common.py:892: FutureWarning: `torch.cuda.amp.autocast(args...)` is deprecated. Please use `torch.amp.autocast('cuda', args...)` instead.\n",
            "  with amp.autocast(autocast):\n"
          ]
        },
        {
          "output_type": "stream",
          "name": "stdout",
          "text": [
            "Processed raccoon-100.jpg and saved to output_images_folder/raccoon-100.jpg\n"
          ]
        },
        {
          "output_type": "stream",
          "name": "stderr",
          "text": [
            "image 1/1: 481x604 1 person, 1 dog, 1 surfboard, 1 mouse, 1 clock\n",
            "Speed: 15.1ms pre-process, 639.1ms inference, 4.7ms NMS per image at shape (1, 3, 512, 640)\n",
            "Saved 1 image to \u001b[1moutput_images_folder10\u001b[0m\n",
            "/root/.cache/torch/hub/ultralytics_yolov5_master/models/common.py:892: FutureWarning: `torch.cuda.amp.autocast(args...)` is deprecated. Please use `torch.amp.autocast('cuda', args...)` instead.\n",
            "  with amp.autocast(autocast):\n"
          ]
        },
        {
          "output_type": "stream",
          "name": "stdout",
          "text": [
            "Processed raccoon-108.jpg and saved to output_images_folder/raccoon-108.jpg\n"
          ]
        },
        {
          "output_type": "stream",
          "name": "stderr",
          "text": [
            "image 1/1: 399x600 (no detections)\n",
            "Speed: 9.0ms pre-process, 530.6ms inference, 1.5ms NMS per image at shape (1, 3, 448, 640)\n",
            "Saved 1 image to \u001b[1moutput_images_folder11\u001b[0m\n",
            "/root/.cache/torch/hub/ultralytics_yolov5_master/models/common.py:892: FutureWarning: `torch.cuda.amp.autocast(args...)` is deprecated. Please use `torch.amp.autocast('cuda', args...)` instead.\n",
            "  with amp.autocast(autocast):\n"
          ]
        },
        {
          "output_type": "stream",
          "name": "stdout",
          "text": [
            "Processed raccoon-121.jpg and saved to output_images_folder/raccoon-121.jpg\n"
          ]
        },
        {
          "output_type": "stream",
          "name": "stderr",
          "text": [
            "image 1/1: 574x800 1 cat\n",
            "Speed: 18.4ms pre-process, 593.7ms inference, 8.5ms NMS per image at shape (1, 3, 480, 640)\n",
            "Saved 1 image to \u001b[1moutput_images_folder12\u001b[0m\n",
            "/root/.cache/torch/hub/ultralytics_yolov5_master/models/common.py:892: FutureWarning: `torch.cuda.amp.autocast(args...)` is deprecated. Please use `torch.amp.autocast('cuda', args...)` instead.\n",
            "  with amp.autocast(autocast):\n"
          ]
        },
        {
          "output_type": "stream",
          "name": "stdout",
          "text": [
            "Processed raccoon-112.jpg and saved to output_images_folder/raccoon-112.jpg\n"
          ]
        },
        {
          "output_type": "stream",
          "name": "stderr",
          "text": [
            "image 1/1: 640x480 1 bear\n",
            "Speed: 23.1ms pre-process, 612.4ms inference, 8.6ms NMS per image at shape (1, 3, 640, 480)\n",
            "Saved 1 image to \u001b[1moutput_images_folder13\u001b[0m\n",
            "/root/.cache/torch/hub/ultralytics_yolov5_master/models/common.py:892: FutureWarning: `torch.cuda.amp.autocast(args...)` is deprecated. Please use `torch.amp.autocast('cuda', args...)` instead.\n",
            "  with amp.autocast(autocast):\n"
          ]
        },
        {
          "output_type": "stream",
          "name": "stdout",
          "text": [
            "Processed raccoon-103.jpg and saved to output_images_folder/raccoon-103.jpg\n"
          ]
        },
        {
          "output_type": "stream",
          "name": "stderr",
          "text": [
            "image 1/1: 418x625 1 person, 2 cats, 1 dog, 2 bowls\n",
            "Speed: 11.1ms pre-process, 543.2ms inference, 6.0ms NMS per image at shape (1, 3, 448, 640)\n",
            "Saved 1 image to \u001b[1moutput_images_folder14\u001b[0m\n",
            "/root/.cache/torch/hub/ultralytics_yolov5_master/models/common.py:892: FutureWarning: `torch.cuda.amp.autocast(args...)` is deprecated. Please use `torch.amp.autocast('cuda', args...)` instead.\n",
            "  with amp.autocast(autocast):\n"
          ]
        },
        {
          "output_type": "stream",
          "name": "stdout",
          "text": [
            "Processed raccoon-114.jpg and saved to output_images_folder/raccoon-114.jpg\n"
          ]
        },
        {
          "output_type": "stream",
          "name": "stderr",
          "text": [
            "image 1/1: 495x450 1 dog\n",
            "Speed: 17.3ms pre-process, 739.1ms inference, 3.2ms NMS per image at shape (1, 3, 640, 608)\n",
            "Saved 1 image to \u001b[1moutput_images_folder15\u001b[0m\n",
            "/root/.cache/torch/hub/ultralytics_yolov5_master/models/common.py:892: FutureWarning: `torch.cuda.amp.autocast(args...)` is deprecated. Please use `torch.amp.autocast('cuda', args...)` instead.\n",
            "  with amp.autocast(autocast):\n"
          ]
        },
        {
          "output_type": "stream",
          "name": "stdout",
          "text": [
            "Processed raccoon-10.jpg and saved to output_images_folder/raccoon-10.jpg\n"
          ]
        },
        {
          "output_type": "stream",
          "name": "stderr",
          "text": [
            "image 1/1: 417x650 1 bear\n",
            "Speed: 12.3ms pre-process, 379.4ms inference, 1.4ms NMS per image at shape (1, 3, 416, 640)\n",
            "Saved 1 image to \u001b[1moutput_images_folder16\u001b[0m\n",
            "/root/.cache/torch/hub/ultralytics_yolov5_master/models/common.py:892: FutureWarning: `torch.cuda.amp.autocast(args...)` is deprecated. Please use `torch.amp.autocast('cuda', args...)` instead.\n",
            "  with amp.autocast(autocast):\n"
          ]
        },
        {
          "output_type": "stream",
          "name": "stdout",
          "text": [
            "Processed raccoon-1.jpg and saved to output_images_folder/raccoon-1.jpg\n"
          ]
        },
        {
          "output_type": "stream",
          "name": "stderr",
          "text": [
            "image 1/1: 297x448 1 cat, 2 apples\n",
            "Speed: 6.8ms pre-process, 331.4ms inference, 1.5ms NMS per image at shape (1, 3, 448, 640)\n",
            "Saved 1 image to \u001b[1moutput_images_folder17\u001b[0m\n",
            "/root/.cache/torch/hub/ultralytics_yolov5_master/models/common.py:892: FutureWarning: `torch.cuda.amp.autocast(args...)` is deprecated. Please use `torch.amp.autocast('cuda', args...)` instead.\n",
            "  with amp.autocast(autocast):\n"
          ]
        },
        {
          "output_type": "stream",
          "name": "stdout",
          "text": [
            "Processed raccoon-118.jpg and saved to output_images_folder/raccoon-118.jpg\n"
          ]
        },
        {
          "output_type": "stream",
          "name": "stderr",
          "text": [
            "image 1/1: 194x259 1 cat\n",
            "Speed: 5.7ms pre-process, 327.4ms inference, 1.5ms NMS per image at shape (1, 3, 480, 640)\n",
            "Saved 1 image to \u001b[1moutput_images_folder18\u001b[0m\n",
            "/root/.cache/torch/hub/ultralytics_yolov5_master/models/common.py:892: FutureWarning: `torch.cuda.amp.autocast(args...)` is deprecated. Please use `torch.amp.autocast('cuda', args...)` instead.\n",
            "  with amp.autocast(autocast):\n"
          ]
        },
        {
          "output_type": "stream",
          "name": "stdout",
          "text": [
            "Processed raccoon-12.jpg and saved to output_images_folder/raccoon-12.jpg\n"
          ]
        },
        {
          "output_type": "stream",
          "name": "stderr",
          "text": [
            "image 1/1: 259x192 1 dog\n",
            "Speed: 4.1ms pre-process, 336.9ms inference, 1.4ms NMS per image at shape (1, 3, 640, 480)\n",
            "Saved 1 image to \u001b[1moutput_images_folder19\u001b[0m\n",
            "/root/.cache/torch/hub/ultralytics_yolov5_master/models/common.py:892: FutureWarning: `torch.cuda.amp.autocast(args...)` is deprecated. Please use `torch.amp.autocast('cuda', args...)` instead.\n",
            "  with amp.autocast(autocast):\n"
          ]
        },
        {
          "output_type": "stream",
          "name": "stdout",
          "text": [
            "Processed raccoon-109.jpg and saved to output_images_folder/raccoon-109.jpg\n"
          ]
        },
        {
          "output_type": "stream",
          "name": "stderr",
          "text": [
            "image 1/1: 622x500 1 dog, 1 mouse\n",
            "Speed: 15.4ms pre-process, 391.6ms inference, 1.5ms NMS per image at shape (1, 3, 640, 544)\n",
            "Saved 1 image to \u001b[1moutput_images_folder20\u001b[0m\n",
            "/root/.cache/torch/hub/ultralytics_yolov5_master/models/common.py:892: FutureWarning: `torch.cuda.amp.autocast(args...)` is deprecated. Please use `torch.amp.autocast('cuda', args...)` instead.\n",
            "  with amp.autocast(autocast):\n"
          ]
        },
        {
          "output_type": "stream",
          "name": "stdout",
          "text": [
            "Processed raccoon-107.jpg and saved to output_images_folder/raccoon-107.jpg\n"
          ]
        },
        {
          "output_type": "stream",
          "name": "stderr",
          "text": [
            "image 1/1: 194x259 1 sheep\n",
            "Speed: 5.0ms pre-process, 329.2ms inference, 1.4ms NMS per image at shape (1, 3, 480, 640)\n",
            "Saved 1 image to \u001b[1moutput_images_folder21\u001b[0m\n",
            "/root/.cache/torch/hub/ultralytics_yolov5_master/models/common.py:892: FutureWarning: `torch.cuda.amp.autocast(args...)` is deprecated. Please use `torch.amp.autocast('cuda', args...)` instead.\n",
            "  with amp.autocast(autocast):\n"
          ]
        },
        {
          "output_type": "stream",
          "name": "stdout",
          "text": [
            "Processed raccoon-102.jpg and saved to output_images_folder/raccoon-102.jpg\n"
          ]
        },
        {
          "output_type": "stream",
          "name": "stderr",
          "text": [
            "image 1/1: 432x660 1 dog\n",
            "Speed: 8.7ms pre-process, 338.7ms inference, 1.5ms NMS per image at shape (1, 3, 448, 640)\n",
            "Saved 1 image to \u001b[1moutput_images_folder22\u001b[0m\n",
            "/root/.cache/torch/hub/ultralytics_yolov5_master/models/common.py:892: FutureWarning: `torch.cuda.amp.autocast(args...)` is deprecated. Please use `torch.amp.autocast('cuda', args...)` instead.\n",
            "  with amp.autocast(autocast):\n"
          ]
        },
        {
          "output_type": "stream",
          "name": "stdout",
          "text": [
            "Processed raccoon-116.jpg and saved to output_images_folder/raccoon-116.jpg\n"
          ]
        },
        {
          "output_type": "stream",
          "name": "stderr",
          "text": [
            "image 1/1: 448x640 2 bears\n",
            "Speed: 9.9ms pre-process, 323.0ms inference, 1.8ms NMS per image at shape (1, 3, 448, 640)\n",
            "Saved 1 image to \u001b[1moutput_images_folder23\u001b[0m\n",
            "/root/.cache/torch/hub/ultralytics_yolov5_master/models/common.py:892: FutureWarning: `torch.cuda.amp.autocast(args...)` is deprecated. Please use `torch.amp.autocast('cuda', args...)` instead.\n",
            "  with amp.autocast(autocast):\n"
          ]
        },
        {
          "output_type": "stream",
          "name": "stdout",
          "text": [
            "Processed raccoon-117.jpg and saved to output_images_folder/raccoon-117.jpg\n"
          ]
        },
        {
          "output_type": "stream",
          "name": "stderr",
          "text": [
            "image 1/1: 432x660 1 dog\n",
            "Speed: 10.0ms pre-process, 447.5ms inference, 2.5ms NMS per image at shape (1, 3, 448, 640)\n",
            "Saved 1 image to \u001b[1moutput_images_folder24\u001b[0m\n",
            "/root/.cache/torch/hub/ultralytics_yolov5_master/models/common.py:892: FutureWarning: `torch.cuda.amp.autocast(args...)` is deprecated. Please use `torch.amp.autocast('cuda', args...)` instead.\n",
            "  with amp.autocast(autocast):\n"
          ]
        },
        {
          "output_type": "stream",
          "name": "stdout",
          "text": [
            "Processed raccoon-11.jpg and saved to output_images_folder/raccoon-11.jpg\n"
          ]
        },
        {
          "output_type": "stream",
          "name": "stderr",
          "text": [
            "image 1/1: 283x178 1 cat\n",
            "Speed: 7.9ms pre-process, 529.8ms inference, 2.2ms NMS per image at shape (1, 3, 640, 416)\n",
            "Saved 1 image to \u001b[1moutput_images_folder25\u001b[0m\n",
            "/root/.cache/torch/hub/ultralytics_yolov5_master/models/common.py:892: FutureWarning: `torch.cuda.amp.autocast(args...)` is deprecated. Please use `torch.amp.autocast('cuda', args...)` instead.\n",
            "  with amp.autocast(autocast):\n"
          ]
        },
        {
          "output_type": "stream",
          "name": "stdout",
          "text": [
            "Processed raccoon-122.jpg and saved to output_images_folder/raccoon-122.jpg\n"
          ]
        },
        {
          "output_type": "stream",
          "name": "stderr",
          "text": [
            "image 1/1: 480x640 1 bear\n",
            "Speed: 15.6ms pre-process, 518.8ms inference, 2.2ms NMS per image at shape (1, 3, 480, 640)\n",
            "Saved 1 image to \u001b[1moutput_images_folder26\u001b[0m\n",
            "/root/.cache/torch/hub/ultralytics_yolov5_master/models/common.py:892: FutureWarning: `torch.cuda.amp.autocast(args...)` is deprecated. Please use `torch.amp.autocast('cuda', args...)` instead.\n",
            "  with amp.autocast(autocast):\n"
          ]
        },
        {
          "output_type": "stream",
          "name": "stdout",
          "text": [
            "Processed raccoon-113.jpg and saved to output_images_folder/raccoon-113.jpg\n"
          ]
        },
        {
          "output_type": "stream",
          "name": "stderr",
          "text": [
            "image 1/1: 187x269 (no detections)\n",
            "Speed: 6.2ms pre-process, 524.7ms inference, 1.4ms NMS per image at shape (1, 3, 448, 640)\n",
            "Saved 1 image to \u001b[1moutput_images_folder27\u001b[0m\n",
            "/root/.cache/torch/hub/ultralytics_yolov5_master/models/common.py:892: FutureWarning: `torch.cuda.amp.autocast(args...)` is deprecated. Please use `torch.amp.autocast('cuda', args...)` instead.\n",
            "  with amp.autocast(autocast):\n"
          ]
        },
        {
          "output_type": "stream",
          "name": "stdout",
          "text": [
            "Processed raccoon-106.jpg and saved to output_images_folder/raccoon-106.jpg\n"
          ]
        },
        {
          "output_type": "stream",
          "name": "stderr",
          "text": [
            "image 1/1: 960x768 1 dog\n",
            "Speed: 19.5ms pre-process, 587.9ms inference, 5.9ms NMS per image at shape (1, 3, 640, 512)\n",
            "Saved 1 image to \u001b[1moutput_images_folder28\u001b[0m\n",
            "/root/.cache/torch/hub/ultralytics_yolov5_master/models/common.py:892: FutureWarning: `torch.cuda.amp.autocast(args...)` is deprecated. Please use `torch.amp.autocast('cuda', args...)` instead.\n",
            "  with amp.autocast(autocast):\n"
          ]
        },
        {
          "output_type": "stream",
          "name": "stdout",
          "text": [
            "Processed raccoon-111.jpg and saved to output_images_folder/raccoon-111.jpg\n"
          ]
        },
        {
          "output_type": "stream",
          "name": "stderr",
          "text": [
            "image 1/1: 390x570 1 bear\n",
            "Speed: 10.0ms pre-process, 506.6ms inference, 2.5ms NMS per image at shape (1, 3, 448, 640)\n",
            "Saved 1 image to \u001b[1moutput_images_folder29\u001b[0m\n",
            "/root/.cache/torch/hub/ultralytics_yolov5_master/models/common.py:892: FutureWarning: `torch.cuda.amp.autocast(args...)` is deprecated. Please use `torch.amp.autocast('cuda', args...)` instead.\n",
            "  with amp.autocast(autocast):\n"
          ]
        },
        {
          "output_type": "stream",
          "name": "stdout",
          "text": [
            "Processed raccoon-144.jpg and saved to output_images_folder/raccoon-144.jpg\n"
          ]
        },
        {
          "output_type": "stream",
          "name": "stderr",
          "text": [
            "image 1/1: 194x259 1 cat\n",
            "Speed: 6.6ms pre-process, 558.9ms inference, 2.3ms NMS per image at shape (1, 3, 480, 640)\n",
            "Saved 1 image to \u001b[1moutput_images_folder30\u001b[0m\n",
            "/root/.cache/torch/hub/ultralytics_yolov5_master/models/common.py:892: FutureWarning: `torch.cuda.amp.autocast(args...)` is deprecated. Please use `torch.amp.autocast('cuda', args...)` instead.\n",
            "  with amp.autocast(autocast):\n"
          ]
        },
        {
          "output_type": "stream",
          "name": "stdout",
          "text": [
            "Processed raccoon-138.jpg and saved to output_images_folder/raccoon-138.jpg\n"
          ]
        },
        {
          "output_type": "stream",
          "name": "stderr",
          "text": [
            "image 1/1: 360x640 1 cat, 1 bed\n",
            "Speed: 8.8ms pre-process, 444.0ms inference, 1.9ms NMS per image at shape (1, 3, 384, 640)\n",
            "Saved 1 image to \u001b[1moutput_images_folder31\u001b[0m\n",
            "/root/.cache/torch/hub/ultralytics_yolov5_master/models/common.py:892: FutureWarning: `torch.cuda.amp.autocast(args...)` is deprecated. Please use `torch.amp.autocast('cuda', args...)` instead.\n",
            "  with amp.autocast(autocast):\n"
          ]
        },
        {
          "output_type": "stream",
          "name": "stdout",
          "text": [
            "Processed raccoon-15.jpg and saved to output_images_folder/raccoon-15.jpg\n"
          ]
        },
        {
          "output_type": "stream",
          "name": "stderr",
          "text": [
            "image 1/1: 426x640 1 bear\n",
            "Speed: 17.3ms pre-process, 535.2ms inference, 2.0ms NMS per image at shape (1, 3, 448, 640)\n",
            "Saved 1 image to \u001b[1moutput_images_folder32\u001b[0m\n",
            "/root/.cache/torch/hub/ultralytics_yolov5_master/models/common.py:892: FutureWarning: `torch.cuda.amp.autocast(args...)` is deprecated. Please use `torch.amp.autocast('cuda', args...)` instead.\n",
            "  with amp.autocast(autocast):\n"
          ]
        },
        {
          "output_type": "stream",
          "name": "stdout",
          "text": [
            "Processed raccoon-135.jpg and saved to output_images_folder/raccoon-135.jpg\n"
          ]
        },
        {
          "output_type": "stream",
          "name": "stderr",
          "text": [
            "image 1/1: 194x259 (no detections)\n",
            "Speed: 5.8ms pre-process, 561.6ms inference, 1.7ms NMS per image at shape (1, 3, 480, 640)\n",
            "Saved 1 image to \u001b[1moutput_images_folder33\u001b[0m\n",
            "/root/.cache/torch/hub/ultralytics_yolov5_master/models/common.py:892: FutureWarning: `torch.cuda.amp.autocast(args...)` is deprecated. Please use `torch.amp.autocast('cuda', args...)` instead.\n",
            "  with amp.autocast(autocast):\n"
          ]
        },
        {
          "output_type": "stream",
          "name": "stdout",
          "text": [
            "Processed raccoon-131.jpg and saved to output_images_folder/raccoon-131.jpg\n"
          ]
        },
        {
          "output_type": "stream",
          "name": "stderr",
          "text": [
            "image 1/1: 419x650 1 cat\n",
            "Speed: 11.7ms pre-process, 478.8ms inference, 3.7ms NMS per image at shape (1, 3, 416, 640)\n",
            "Saved 1 image to \u001b[1moutput_images_folder34\u001b[0m\n",
            "/root/.cache/torch/hub/ultralytics_yolov5_master/models/common.py:892: FutureWarning: `torch.cuda.amp.autocast(args...)` is deprecated. Please use `torch.amp.autocast('cuda', args...)` instead.\n",
            "  with amp.autocast(autocast):\n"
          ]
        },
        {
          "output_type": "stream",
          "name": "stdout",
          "text": [
            "Processed raccoon-154.jpg and saved to output_images_folder/raccoon-154.jpg\n"
          ]
        },
        {
          "output_type": "stream",
          "name": "stderr",
          "text": [
            "image 1/1: 195x259 1 cat\n",
            "Speed: 6.7ms pre-process, 544.1ms inference, 1.5ms NMS per image at shape (1, 3, 512, 640)\n",
            "Saved 1 image to \u001b[1moutput_images_folder35\u001b[0m\n",
            "/root/.cache/torch/hub/ultralytics_yolov5_master/models/common.py:892: FutureWarning: `torch.cuda.amp.autocast(args...)` is deprecated. Please use `torch.amp.autocast('cuda', args...)` instead.\n",
            "  with amp.autocast(autocast):\n"
          ]
        },
        {
          "output_type": "stream",
          "name": "stdout",
          "text": [
            "Processed raccoon-125.jpg and saved to output_images_folder/raccoon-125.jpg\n"
          ]
        },
        {
          "output_type": "stream",
          "name": "stderr",
          "text": [
            "image 1/1: 194x259 1 dog\n",
            "Speed: 5.9ms pre-process, 355.3ms inference, 1.6ms NMS per image at shape (1, 3, 480, 640)\n",
            "Saved 1 image to \u001b[1moutput_images_folder36\u001b[0m\n",
            "/root/.cache/torch/hub/ultralytics_yolov5_master/models/common.py:892: FutureWarning: `torch.cuda.amp.autocast(args...)` is deprecated. Please use `torch.amp.autocast('cuda', args...)` instead.\n",
            "  with amp.autocast(autocast):\n"
          ]
        },
        {
          "output_type": "stream",
          "name": "stdout",
          "text": [
            "Processed raccoon-139.jpg and saved to output_images_folder/raccoon-139.jpg\n"
          ]
        },
        {
          "output_type": "stream",
          "name": "stderr",
          "text": [
            "image 1/1: 406x640 1 bear\n",
            "Speed: 6.9ms pre-process, 416.4ms inference, 1.9ms NMS per image at shape (1, 3, 416, 640)\n",
            "Saved 1 image to \u001b[1moutput_images_folder37\u001b[0m\n",
            "/root/.cache/torch/hub/ultralytics_yolov5_master/models/common.py:892: FutureWarning: `torch.cuda.amp.autocast(args...)` is deprecated. Please use `torch.amp.autocast('cuda', args...)` instead.\n",
            "  with amp.autocast(autocast):\n"
          ]
        },
        {
          "output_type": "stream",
          "name": "stdout",
          "text": [
            "Processed raccoon-123.jpg and saved to output_images_folder/raccoon-123.jpg\n"
          ]
        },
        {
          "output_type": "stream",
          "name": "stderr",
          "text": [
            "image 1/1: 197x256 (no detections)\n",
            "Speed: 7.0ms pre-process, 571.6ms inference, 1.8ms NMS per image at shape (1, 3, 512, 640)\n",
            "Saved 1 image to \u001b[1moutput_images_folder38\u001b[0m\n",
            "/root/.cache/torch/hub/ultralytics_yolov5_master/models/common.py:892: FutureWarning: `torch.cuda.amp.autocast(args...)` is deprecated. Please use `torch.amp.autocast('cuda', args...)` instead.\n",
            "  with amp.autocast(autocast):\n"
          ]
        },
        {
          "output_type": "stream",
          "name": "stdout",
          "text": [
            "Processed raccoon-136.jpg and saved to output_images_folder/raccoon-136.jpg\n"
          ]
        },
        {
          "output_type": "stream",
          "name": "stderr",
          "text": [
            "image 1/1: 194x259 (no detections)\n",
            "Speed: 6.1ms pre-process, 540.0ms inference, 1.3ms NMS per image at shape (1, 3, 480, 640)\n",
            "Saved 1 image to \u001b[1moutput_images_folder39\u001b[0m\n",
            "/root/.cache/torch/hub/ultralytics_yolov5_master/models/common.py:892: FutureWarning: `torch.cuda.amp.autocast(args...)` is deprecated. Please use `torch.amp.autocast('cuda', args...)` instead.\n",
            "  with amp.autocast(autocast):\n"
          ]
        },
        {
          "output_type": "stream",
          "name": "stdout",
          "text": [
            "Processed raccoon-128.jpg and saved to output_images_folder/raccoon-128.jpg\n"
          ]
        },
        {
          "output_type": "stream",
          "name": "stderr",
          "text": [
            "image 1/1: 202x249 1 mouse\n",
            "Speed: 8.9ms pre-process, 657.7ms inference, 6.1ms NMS per image at shape (1, 3, 544, 640)\n",
            "Saved 1 image to \u001b[1moutput_images_folder40\u001b[0m\n",
            "/root/.cache/torch/hub/ultralytics_yolov5_master/models/common.py:892: FutureWarning: `torch.cuda.amp.autocast(args...)` is deprecated. Please use `torch.amp.autocast('cuda', args...)` instead.\n",
            "  with amp.autocast(autocast):\n"
          ]
        },
        {
          "output_type": "stream",
          "name": "stdout",
          "text": [
            "Processed raccoon-141.jpg and saved to output_images_folder/raccoon-141.jpg\n"
          ]
        },
        {
          "output_type": "stream",
          "name": "stderr",
          "text": [
            "image 1/1: 315x639 1 dog\n",
            "Speed: 10.3ms pre-process, 384.7ms inference, 1.6ms NMS per image at shape (1, 3, 320, 640)\n",
            "Saved 1 image to \u001b[1moutput_images_folder41\u001b[0m\n",
            "/root/.cache/torch/hub/ultralytics_yolov5_master/models/common.py:892: FutureWarning: `torch.cuda.amp.autocast(args...)` is deprecated. Please use `torch.amp.autocast('cuda', args...)` instead.\n",
            "  with amp.autocast(autocast):\n"
          ]
        },
        {
          "output_type": "stream",
          "name": "stdout",
          "text": [
            "Processed raccoon-129.jpg and saved to output_images_folder/raccoon-129.jpg\n"
          ]
        },
        {
          "output_type": "stream",
          "name": "stderr",
          "text": [
            "image 1/1: 197x255 (no detections)\n",
            "Speed: 6.2ms pre-process, 545.8ms inference, 1.7ms NMS per image at shape (1, 3, 512, 640)\n",
            "Saved 1 image to \u001b[1moutput_images_folder42\u001b[0m\n",
            "/root/.cache/torch/hub/ultralytics_yolov5_master/models/common.py:892: FutureWarning: `torch.cuda.amp.autocast(args...)` is deprecated. Please use `torch.amp.autocast('cuda', args...)` instead.\n",
            "  with amp.autocast(autocast):\n"
          ]
        },
        {
          "output_type": "stream",
          "name": "stdout",
          "text": [
            "Processed raccoon-126.jpg and saved to output_images_folder/raccoon-126.jpg\n"
          ]
        },
        {
          "output_type": "stream",
          "name": "stderr",
          "text": [
            "image 1/1: 194x259 1 cat, 1 toilet\n",
            "Speed: 7.3ms pre-process, 511.0ms inference, 1.9ms NMS per image at shape (1, 3, 480, 640)\n",
            "Saved 1 image to \u001b[1moutput_images_folder43\u001b[0m\n",
            "/root/.cache/torch/hub/ultralytics_yolov5_master/models/common.py:892: FutureWarning: `torch.cuda.amp.autocast(args...)` is deprecated. Please use `torch.amp.autocast('cuda', args...)` instead.\n",
            "  with amp.autocast(autocast):\n"
          ]
        },
        {
          "output_type": "stream",
          "name": "stdout",
          "text": [
            "Processed raccoon-124.jpg and saved to output_images_folder/raccoon-124.jpg\n"
          ]
        },
        {
          "output_type": "stream",
          "name": "stderr",
          "text": [
            "image 1/1: 700x700 1 cat\n",
            "Speed: 17.4ms pre-process, 679.8ms inference, 2.3ms NMS per image at shape (1, 3, 640, 640)\n",
            "Saved 1 image to \u001b[1moutput_images_folder44\u001b[0m\n",
            "/root/.cache/torch/hub/ultralytics_yolov5_master/models/common.py:892: FutureWarning: `torch.cuda.amp.autocast(args...)` is deprecated. Please use `torch.amp.autocast('cuda', args...)` instead.\n",
            "  with amp.autocast(autocast):\n"
          ]
        },
        {
          "output_type": "stream",
          "name": "stdout",
          "text": [
            "Processed raccoon-153.jpg and saved to output_images_folder/raccoon-153.jpg\n"
          ]
        },
        {
          "output_type": "stream",
          "name": "stderr",
          "text": [
            "image 1/1: 247x204 (no detections)\n",
            "Speed: 6.4ms pre-process, 582.5ms inference, 1.7ms NMS per image at shape (1, 3, 640, 544)\n",
            "Saved 1 image to \u001b[1moutput_images_folder45\u001b[0m\n",
            "/root/.cache/torch/hub/ultralytics_yolov5_master/models/common.py:892: FutureWarning: `torch.cuda.amp.autocast(args...)` is deprecated. Please use `torch.amp.autocast('cuda', args...)` instead.\n",
            "  with amp.autocast(autocast):\n"
          ]
        },
        {
          "output_type": "stream",
          "name": "stdout",
          "text": [
            "Processed raccoon-140.jpg and saved to output_images_folder/raccoon-140.jpg\n"
          ]
        },
        {
          "output_type": "stream",
          "name": "stderr",
          "text": [
            "image 1/1: 375x500 (no detections)\n",
            "Speed: 9.0ms pre-process, 528.3ms inference, 1.6ms NMS per image at shape (1, 3, 480, 640)\n",
            "Saved 1 image to \u001b[1moutput_images_folder46\u001b[0m\n",
            "/root/.cache/torch/hub/ultralytics_yolov5_master/models/common.py:892: FutureWarning: `torch.cuda.amp.autocast(args...)` is deprecated. Please use `torch.amp.autocast('cuda', args...)` instead.\n",
            "  with amp.autocast(autocast):\n"
          ]
        },
        {
          "output_type": "stream",
          "name": "stdout",
          "text": [
            "Processed raccoon-149.jpg and saved to output_images_folder/raccoon-149.jpg\n"
          ]
        },
        {
          "output_type": "stream",
          "name": "stderr",
          "text": [
            "image 1/1: 640x426 1 bear\n",
            "Speed: 10.4ms pre-process, 477.2ms inference, 2.2ms NMS per image at shape (1, 3, 640, 448)\n",
            "Saved 1 image to \u001b[1moutput_images_folder47\u001b[0m\n",
            "/root/.cache/torch/hub/ultralytics_yolov5_master/models/common.py:892: FutureWarning: `torch.cuda.amp.autocast(args...)` is deprecated. Please use `torch.amp.autocast('cuda', args...)` instead.\n",
            "  with amp.autocast(autocast):\n"
          ]
        },
        {
          "output_type": "stream",
          "name": "stdout",
          "text": [
            "Processed raccoon-147.jpg and saved to output_images_folder/raccoon-147.jpg\n"
          ]
        },
        {
          "output_type": "stream",
          "name": "stderr",
          "text": [
            "image 1/1: 640x490 1 bear\n",
            "Speed: 9.8ms pre-process, 426.9ms inference, 1.6ms NMS per image at shape (1, 3, 640, 512)\n",
            "Saved 1 image to \u001b[1moutput_images_folder48\u001b[0m\n",
            "/root/.cache/torch/hub/ultralytics_yolov5_master/models/common.py:892: FutureWarning: `torch.cuda.amp.autocast(args...)` is deprecated. Please use `torch.amp.autocast('cuda', args...)` instead.\n",
            "  with amp.autocast(autocast):\n"
          ]
        },
        {
          "output_type": "stream",
          "name": "stdout",
          "text": [
            "Processed raccoon-133.jpg and saved to output_images_folder/raccoon-133.jpg\n"
          ]
        },
        {
          "output_type": "stream",
          "name": "stderr",
          "text": [
            "image 1/1: 225x225 1 person, 1 car, 2 dogs\n",
            "Speed: 5.7ms pre-process, 452.6ms inference, 1.9ms NMS per image at shape (1, 3, 640, 640)\n",
            "Saved 1 image to \u001b[1moutput_images_folder49\u001b[0m\n",
            "/root/.cache/torch/hub/ultralytics_yolov5_master/models/common.py:892: FutureWarning: `torch.cuda.amp.autocast(args...)` is deprecated. Please use `torch.amp.autocast('cuda', args...)` instead.\n",
            "  with amp.autocast(autocast):\n"
          ]
        },
        {
          "output_type": "stream",
          "name": "stdout",
          "text": [
            "Processed raccoon-134.jpg and saved to output_images_folder/raccoon-134.jpg\n"
          ]
        },
        {
          "output_type": "stream",
          "name": "stderr",
          "text": [
            "image 1/1: 183x275 1 dog\n",
            "Speed: 13.3ms pre-process, 392.2ms inference, 1.8ms NMS per image at shape (1, 3, 448, 640)\n",
            "Saved 1 image to \u001b[1moutput_images_folder50\u001b[0m\n",
            "/root/.cache/torch/hub/ultralytics_yolov5_master/models/common.py:892: FutureWarning: `torch.cuda.amp.autocast(args...)` is deprecated. Please use `torch.amp.autocast('cuda', args...)` instead.\n",
            "  with amp.autocast(autocast):\n"
          ]
        },
        {
          "output_type": "stream",
          "name": "stdout",
          "text": [
            "Processed raccoon-150.jpg and saved to output_images_folder/raccoon-150.jpg\n"
          ]
        },
        {
          "output_type": "stream",
          "name": "stderr",
          "text": [
            "image 1/1: 183x275 1 train\n",
            "Speed: 4.8ms pre-process, 323.3ms inference, 1.8ms NMS per image at shape (1, 3, 448, 640)\n",
            "Saved 1 image to \u001b[1moutput_images_folder51\u001b[0m\n",
            "/root/.cache/torch/hub/ultralytics_yolov5_master/models/common.py:892: FutureWarning: `torch.cuda.amp.autocast(args...)` is deprecated. Please use `torch.amp.autocast('cuda', args...)` instead.\n",
            "  with amp.autocast(autocast):\n"
          ]
        },
        {
          "output_type": "stream",
          "name": "stdout",
          "text": [
            "Processed raccoon-152.jpg and saved to output_images_folder/raccoon-152.jpg\n"
          ]
        },
        {
          "output_type": "stream",
          "name": "stderr",
          "text": [
            "image 1/1: 194x259 (no detections)\n",
            "Speed: 4.8ms pre-process, 348.3ms inference, 0.9ms NMS per image at shape (1, 3, 480, 640)\n",
            "Saved 1 image to \u001b[1moutput_images_folder52\u001b[0m\n",
            "/root/.cache/torch/hub/ultralytics_yolov5_master/models/common.py:892: FutureWarning: `torch.cuda.amp.autocast(args...)` is deprecated. Please use `torch.amp.autocast('cuda', args...)` instead.\n",
            "  with amp.autocast(autocast):\n"
          ]
        },
        {
          "output_type": "stream",
          "name": "stdout",
          "text": [
            "Processed raccoon-143.jpg and saved to output_images_folder/raccoon-143.jpg\n"
          ]
        },
        {
          "output_type": "stream",
          "name": "stderr",
          "text": [
            "image 1/1: 194x259 1 cat\n",
            "Speed: 6.3ms pre-process, 371.0ms inference, 1.5ms NMS per image at shape (1, 3, 480, 640)\n",
            "Saved 1 image to \u001b[1moutput_images_folder53\u001b[0m\n",
            "/root/.cache/torch/hub/ultralytics_yolov5_master/models/common.py:892: FutureWarning: `torch.cuda.amp.autocast(args...)` is deprecated. Please use `torch.amp.autocast('cuda', args...)` instead.\n",
            "  with amp.autocast(autocast):\n"
          ]
        },
        {
          "output_type": "stream",
          "name": "stdout",
          "text": [
            "Processed raccoon-132.jpg and saved to output_images_folder/raccoon-132.jpg\n"
          ]
        },
        {
          "output_type": "stream",
          "name": "stderr",
          "text": [
            "image 1/1: 450x600 1 dog\n",
            "Speed: 10.6ms pre-process, 345.2ms inference, 1.7ms NMS per image at shape (1, 3, 480, 640)\n",
            "Saved 1 image to \u001b[1moutput_images_folder54\u001b[0m\n",
            "/root/.cache/torch/hub/ultralytics_yolov5_master/models/common.py:892: FutureWarning: `torch.cuda.amp.autocast(args...)` is deprecated. Please use `torch.amp.autocast('cuda', args...)` instead.\n",
            "  with amp.autocast(autocast):\n"
          ]
        },
        {
          "output_type": "stream",
          "name": "stdout",
          "text": [
            "Processed raccoon-145.jpg and saved to output_images_folder/raccoon-145.jpg\n"
          ]
        },
        {
          "output_type": "stream",
          "name": "stderr",
          "text": [
            "image 1/1: 199x253 3 cats, 1 dog, 2 bowls\n",
            "Speed: 6.6ms pre-process, 391.7ms inference, 1.6ms NMS per image at shape (1, 3, 512, 640)\n",
            "Saved 1 image to \u001b[1moutput_images_folder55\u001b[0m\n",
            "/root/.cache/torch/hub/ultralytics_yolov5_master/models/common.py:892: FutureWarning: `torch.cuda.amp.autocast(args...)` is deprecated. Please use `torch.amp.autocast('cuda', args...)` instead.\n",
            "  with amp.autocast(autocast):\n"
          ]
        },
        {
          "output_type": "stream",
          "name": "stdout",
          "text": [
            "Processed raccoon-127.jpg and saved to output_images_folder/raccoon-127.jpg\n"
          ]
        },
        {
          "output_type": "stream",
          "name": "stderr",
          "text": [
            "image 1/1: 240x320 1 cat\n",
            "Speed: 6.1ms pre-process, 343.8ms inference, 2.8ms NMS per image at shape (1, 3, 480, 640)\n",
            "Saved 1 image to \u001b[1moutput_images_folder56\u001b[0m\n",
            "/root/.cache/torch/hub/ultralytics_yolov5_master/models/common.py:892: FutureWarning: `torch.cuda.amp.autocast(args...)` is deprecated. Please use `torch.amp.autocast('cuda', args...)` instead.\n",
            "  with amp.autocast(autocast):\n"
          ]
        },
        {
          "output_type": "stream",
          "name": "stdout",
          "text": [
            "Processed raccoon-137.jpg and saved to output_images_folder/raccoon-137.jpg\n"
          ]
        },
        {
          "output_type": "stream",
          "name": "stderr",
          "text": [
            "image 1/1: 484x900 1 cat\n",
            "Speed: 9.6ms pre-process, 258.9ms inference, 1.8ms NMS per image at shape (1, 3, 352, 640)\n",
            "Saved 1 image to \u001b[1moutput_images_folder57\u001b[0m\n",
            "/root/.cache/torch/hub/ultralytics_yolov5_master/models/common.py:892: FutureWarning: `torch.cuda.amp.autocast(args...)` is deprecated. Please use `torch.amp.autocast('cuda', args...)` instead.\n",
            "  with amp.autocast(autocast):\n"
          ]
        },
        {
          "output_type": "stream",
          "name": "stdout",
          "text": [
            "Processed raccoon-14.jpg and saved to output_images_folder/raccoon-14.jpg\n"
          ]
        },
        {
          "output_type": "stream",
          "name": "stderr",
          "text": [
            "image 1/1: 426x640 2 bears\n",
            "Speed: 8.2ms pre-process, 371.3ms inference, 1.8ms NMS per image at shape (1, 3, 448, 640)\n",
            "Saved 1 image to \u001b[1moutput_images_folder58\u001b[0m\n",
            "/root/.cache/torch/hub/ultralytics_yolov5_master/models/common.py:892: FutureWarning: `torch.cuda.amp.autocast(args...)` is deprecated. Please use `torch.amp.autocast('cuda', args...)` instead.\n",
            "  with amp.autocast(autocast):\n"
          ]
        },
        {
          "output_type": "stream",
          "name": "stdout",
          "text": [
            "Processed raccoon-130.jpg and saved to output_images_folder/raccoon-130.jpg\n"
          ]
        },
        {
          "output_type": "stream",
          "name": "stderr",
          "text": [
            "image 1/1: 225x225 1 person\n",
            "Speed: 5.8ms pre-process, 448.6ms inference, 1.6ms NMS per image at shape (1, 3, 640, 640)\n",
            "Saved 1 image to \u001b[1moutput_images_folder59\u001b[0m\n",
            "/root/.cache/torch/hub/ultralytics_yolov5_master/models/common.py:892: FutureWarning: `torch.cuda.amp.autocast(args...)` is deprecated. Please use `torch.amp.autocast('cuda', args...)` instead.\n",
            "  with amp.autocast(autocast):\n"
          ]
        },
        {
          "output_type": "stream",
          "name": "stdout",
          "text": [
            "Processed raccoon-151.jpg and saved to output_images_folder/raccoon-151.jpg\n"
          ]
        },
        {
          "output_type": "stream",
          "name": "stderr",
          "text": [
            "image 1/1: 183x275 1 cat\n",
            "Speed: 4.0ms pre-process, 331.2ms inference, 1.4ms NMS per image at shape (1, 3, 448, 640)\n",
            "Saved 1 image to \u001b[1moutput_images_folder60\u001b[0m\n",
            "/root/.cache/torch/hub/ultralytics_yolov5_master/models/common.py:892: FutureWarning: `torch.cuda.amp.autocast(args...)` is deprecated. Please use `torch.amp.autocast('cuda', args...)` instead.\n",
            "  with amp.autocast(autocast):\n"
          ]
        },
        {
          "output_type": "stream",
          "name": "stdout",
          "text": [
            "Processed raccoon-146.jpg and saved to output_images_folder/raccoon-146.jpg\n"
          ]
        },
        {
          "output_type": "stream",
          "name": "stderr",
          "text": [
            "image 1/1: 495x660 1 cat, 1 bowl, 1 sink\n",
            "Speed: 8.6ms pre-process, 344.7ms inference, 2.1ms NMS per image at shape (1, 3, 480, 640)\n",
            "Saved 1 image to \u001b[1moutput_images_folder61\u001b[0m\n",
            "/root/.cache/torch/hub/ultralytics_yolov5_master/models/common.py:892: FutureWarning: `torch.cuda.amp.autocast(args...)` is deprecated. Please use `torch.amp.autocast('cuda', args...)` instead.\n",
            "  with amp.autocast(autocast):\n"
          ]
        },
        {
          "output_type": "stream",
          "name": "stdout",
          "text": [
            "Processed raccoon-13.jpg and saved to output_images_folder/raccoon-13.jpg\n"
          ]
        },
        {
          "output_type": "stream",
          "name": "stderr",
          "text": [
            "image 1/1: 768x1024 1 cat, 1 bear\n",
            "Speed: 16.0ms pre-process, 345.8ms inference, 1.9ms NMS per image at shape (1, 3, 480, 640)\n",
            "Saved 1 image to \u001b[1moutput_images_folder62\u001b[0m\n",
            "/root/.cache/torch/hub/ultralytics_yolov5_master/models/common.py:892: FutureWarning: `torch.cuda.amp.autocast(args...)` is deprecated. Please use `torch.amp.autocast('cuda', args...)` instead.\n",
            "  with amp.autocast(autocast):\n"
          ]
        },
        {
          "output_type": "stream",
          "name": "stdout",
          "text": [
            "Processed raccoon-142.jpg and saved to output_images_folder/raccoon-142.jpg\n"
          ]
        },
        {
          "output_type": "stream",
          "name": "stderr",
          "text": [
            "image 1/1: 375x500 2 cats\n",
            "Speed: 7.6ms pre-process, 345.2ms inference, 1.6ms NMS per image at shape (1, 3, 480, 640)\n",
            "Saved 1 image to \u001b[1moutput_images_folder63\u001b[0m\n",
            "/root/.cache/torch/hub/ultralytics_yolov5_master/models/common.py:892: FutureWarning: `torch.cuda.amp.autocast(args...)` is deprecated. Please use `torch.amp.autocast('cuda', args...)` instead.\n",
            "  with amp.autocast(autocast):\n"
          ]
        },
        {
          "output_type": "stream",
          "name": "stdout",
          "text": [
            "Processed raccoon-148.jpg and saved to output_images_folder/raccoon-148.jpg\n"
          ]
        },
        {
          "output_type": "stream",
          "name": "stderr",
          "text": [
            "image 1/1: 357x362 1 cat\n",
            "Speed: 10.6ms pre-process, 472.0ms inference, 2.0ms NMS per image at shape (1, 3, 640, 640)\n",
            "Saved 1 image to \u001b[1moutput_images_folder64\u001b[0m\n",
            "/root/.cache/torch/hub/ultralytics_yolov5_master/models/common.py:892: FutureWarning: `torch.cuda.amp.autocast(args...)` is deprecated. Please use `torch.amp.autocast('cuda', args...)` instead.\n",
            "  with amp.autocast(autocast):\n"
          ]
        },
        {
          "output_type": "stream",
          "name": "stdout",
          "text": [
            "Processed raccoon-187.jpg and saved to output_images_folder/raccoon-187.jpg\n"
          ]
        },
        {
          "output_type": "stream",
          "name": "stderr",
          "text": [
            "image 1/1: 388x550 1 dog\n",
            "Speed: 8.0ms pre-process, 364.1ms inference, 1.8ms NMS per image at shape (1, 3, 480, 640)\n",
            "Saved 1 image to \u001b[1moutput_images_folder65\u001b[0m\n",
            "/root/.cache/torch/hub/ultralytics_yolov5_master/models/common.py:892: FutureWarning: `torch.cuda.amp.autocast(args...)` is deprecated. Please use `torch.amp.autocast('cuda', args...)` instead.\n",
            "  with amp.autocast(autocast):\n"
          ]
        },
        {
          "output_type": "stream",
          "name": "stdout",
          "text": [
            "Processed raccoon-173.jpg and saved to output_images_folder/raccoon-173.jpg\n"
          ]
        },
        {
          "output_type": "stream",
          "name": "stderr",
          "text": [
            "image 1/1: 1333x2000 5 persons, 1 tie\n",
            "Speed: 39.3ms pre-process, 360.2ms inference, 1.7ms NMS per image at shape (1, 3, 448, 640)\n",
            "Saved 1 image to \u001b[1moutput_images_folder66\u001b[0m\n",
            "/root/.cache/torch/hub/ultralytics_yolov5_master/models/common.py:892: FutureWarning: `torch.cuda.amp.autocast(args...)` is deprecated. Please use `torch.amp.autocast('cuda', args...)` instead.\n",
            "  with amp.autocast(autocast):\n"
          ]
        },
        {
          "output_type": "stream",
          "name": "stdout",
          "text": [
            "Processed raccoon-183.jpg and saved to output_images_folder/raccoon-183.jpg\n"
          ]
        },
        {
          "output_type": "stream",
          "name": "stderr",
          "text": [
            "image 1/1: 500x500 2 persons, 1 dog, 1 tie\n",
            "Speed: 10.1ms pre-process, 583.9ms inference, 2.1ms NMS per image at shape (1, 3, 640, 640)\n",
            "Saved 1 image to \u001b[1moutput_images_folder67\u001b[0m\n",
            "/root/.cache/torch/hub/ultralytics_yolov5_master/models/common.py:892: FutureWarning: `torch.cuda.amp.autocast(args...)` is deprecated. Please use `torch.amp.autocast('cuda', args...)` instead.\n",
            "  with amp.autocast(autocast):\n"
          ]
        },
        {
          "output_type": "stream",
          "name": "stdout",
          "text": [
            "Processed raccoon-182.jpg and saved to output_images_folder/raccoon-182.jpg\n"
          ]
        },
        {
          "output_type": "stream",
          "name": "stderr",
          "text": [
            "image 1/1: 253x199 1 cat\n",
            "Speed: 6.3ms pre-process, 434.9ms inference, 1.7ms NMS per image at shape (1, 3, 640, 512)\n",
            "Saved 1 image to \u001b[1moutput_images_folder68\u001b[0m\n",
            "/root/.cache/torch/hub/ultralytics_yolov5_master/models/common.py:892: FutureWarning: `torch.cuda.amp.autocast(args...)` is deprecated. Please use `torch.amp.autocast('cuda', args...)` instead.\n",
            "  with amp.autocast(autocast):\n"
          ]
        },
        {
          "output_type": "stream",
          "name": "stdout",
          "text": [
            "Processed raccoon-165.jpg and saved to output_images_folder/raccoon-165.jpg\n"
          ]
        },
        {
          "output_type": "stream",
          "name": "stderr",
          "text": [
            "image 1/1: 184x274 1 cat\n",
            "Speed: 7.0ms pre-process, 346.6ms inference, 1.4ms NMS per image at shape (1, 3, 448, 640)\n",
            "Saved 1 image to \u001b[1moutput_images_folder69\u001b[0m\n",
            "/root/.cache/torch/hub/ultralytics_yolov5_master/models/common.py:892: FutureWarning: `torch.cuda.amp.autocast(args...)` is deprecated. Please use `torch.amp.autocast('cuda', args...)` instead.\n",
            "  with amp.autocast(autocast):\n"
          ]
        },
        {
          "output_type": "stream",
          "name": "stdout",
          "text": [
            "Processed raccoon-164.jpg and saved to output_images_folder/raccoon-164.jpg\n"
          ]
        },
        {
          "output_type": "stream",
          "name": "stderr",
          "text": [
            "image 1/1: 194x259 1 sheep\n",
            "Speed: 4.2ms pre-process, 348.9ms inference, 1.4ms NMS per image at shape (1, 3, 480, 640)\n",
            "Saved 1 image to \u001b[1moutput_images_folder70\u001b[0m\n",
            "/root/.cache/torch/hub/ultralytics_yolov5_master/models/common.py:892: FutureWarning: `torch.cuda.amp.autocast(args...)` is deprecated. Please use `torch.amp.autocast('cuda', args...)` instead.\n",
            "  with amp.autocast(autocast):\n"
          ]
        },
        {
          "output_type": "stream",
          "name": "stdout",
          "text": [
            "Processed raccoon-155.jpg and saved to output_images_folder/raccoon-155.jpg\n"
          ]
        },
        {
          "output_type": "stream",
          "name": "stderr",
          "text": [
            "image 1/1: 428x640 1 bear\n",
            "Speed: 10.2ms pre-process, 313.1ms inference, 1.4ms NMS per image at shape (1, 3, 448, 640)\n",
            "Saved 1 image to \u001b[1moutput_images_folder71\u001b[0m\n",
            "/root/.cache/torch/hub/ultralytics_yolov5_master/models/common.py:892: FutureWarning: `torch.cuda.amp.autocast(args...)` is deprecated. Please use `torch.amp.autocast('cuda', args...)` instead.\n",
            "  with amp.autocast(autocast):\n"
          ]
        },
        {
          "output_type": "stream",
          "name": "stdout",
          "text": [
            "Processed raccoon-186.jpg and saved to output_images_folder/raccoon-186.jpg\n"
          ]
        },
        {
          "output_type": "stream",
          "name": "stderr",
          "text": [
            "image 1/1: 533x800 3 persons, 1 cat, 1 dog, 1 bowl, 1 chair\n",
            "Speed: 13.5ms pre-process, 357.0ms inference, 2.3ms NMS per image at shape (1, 3, 448, 640)\n",
            "Saved 1 image to \u001b[1moutput_images_folder72\u001b[0m\n",
            "/root/.cache/torch/hub/ultralytics_yolov5_master/models/common.py:892: FutureWarning: `torch.cuda.amp.autocast(args...)` is deprecated. Please use `torch.amp.autocast('cuda', args...)` instead.\n",
            "  with amp.autocast(autocast):\n"
          ]
        },
        {
          "output_type": "stream",
          "name": "stdout",
          "text": [
            "Processed raccoon-176.jpg and saved to output_images_folder/raccoon-176.jpg\n"
          ]
        },
        {
          "output_type": "stream",
          "name": "stderr",
          "text": [
            "image 1/1: 314x628 2 bears\n",
            "Speed: 10.6ms pre-process, 357.8ms inference, 1.6ms NMS per image at shape (1, 3, 320, 640)\n",
            "Saved 1 image to \u001b[1moutput_images_folder73\u001b[0m\n",
            "/root/.cache/torch/hub/ultralytics_yolov5_master/models/common.py:892: FutureWarning: `torch.cuda.amp.autocast(args...)` is deprecated. Please use `torch.amp.autocast('cuda', args...)` instead.\n",
            "  with amp.autocast(autocast):\n"
          ]
        },
        {
          "output_type": "stream",
          "name": "stdout",
          "text": [
            "Processed raccoon-168.jpg and saved to output_images_folder/raccoon-168.jpg\n"
          ]
        },
        {
          "output_type": "stream",
          "name": "stderr",
          "text": [
            "image 1/1: 347x500 1 cat\n",
            "Speed: 6.2ms pre-process, 480.4ms inference, 1.7ms NMS per image at shape (1, 3, 448, 640)\n",
            "Saved 1 image to \u001b[1moutput_images_folder74\u001b[0m\n",
            "/root/.cache/torch/hub/ultralytics_yolov5_master/models/common.py:892: FutureWarning: `torch.cuda.amp.autocast(args...)` is deprecated. Please use `torch.amp.autocast('cuda', args...)` instead.\n",
            "  with amp.autocast(autocast):\n"
          ]
        },
        {
          "output_type": "stream",
          "name": "stdout",
          "text": [
            "Processed raccoon-161.jpg and saved to output_images_folder/raccoon-161.jpg\n"
          ]
        },
        {
          "output_type": "stream",
          "name": "stderr",
          "text": [
            "image 1/1: 640x640 1 bear\n",
            "Speed: 12.7ms pre-process, 671.1ms inference, 2.1ms NMS per image at shape (1, 3, 640, 640)\n",
            "Saved 1 image to \u001b[1moutput_images_folder75\u001b[0m\n",
            "/root/.cache/torch/hub/ultralytics_yolov5_master/models/common.py:892: FutureWarning: `torch.cuda.amp.autocast(args...)` is deprecated. Please use `torch.amp.autocast('cuda', args...)` instead.\n",
            "  with amp.autocast(autocast):\n"
          ]
        },
        {
          "output_type": "stream",
          "name": "stdout",
          "text": [
            "Processed raccoon-184.jpg and saved to output_images_folder/raccoon-184.jpg\n"
          ]
        },
        {
          "output_type": "stream",
          "name": "stderr",
          "text": [
            "image 1/1: 381x634 1 person, 1 car, 1 dog\n",
            "Speed: 8.4ms pre-process, 411.6ms inference, 1.6ms NMS per image at shape (1, 3, 384, 640)\n",
            "Saved 1 image to \u001b[1moutput_images_folder76\u001b[0m\n",
            "/root/.cache/torch/hub/ultralytics_yolov5_master/models/common.py:892: FutureWarning: `torch.cuda.amp.autocast(args...)` is deprecated. Please use `torch.amp.autocast('cuda', args...)` instead.\n",
            "  with amp.autocast(autocast):\n"
          ]
        },
        {
          "output_type": "stream",
          "name": "stdout",
          "text": [
            "Processed raccoon-175.jpg and saved to output_images_folder/raccoon-175.jpg\n"
          ]
        },
        {
          "output_type": "stream",
          "name": "stderr",
          "text": [
            "image 1/1: 195x259 1 person, 1 cat, 1 bottle\n",
            "Speed: 6.5ms pre-process, 565.0ms inference, 2.4ms NMS per image at shape (1, 3, 512, 640)\n",
            "Saved 1 image to \u001b[1moutput_images_folder77\u001b[0m\n",
            "/root/.cache/torch/hub/ultralytics_yolov5_master/models/common.py:892: FutureWarning: `torch.cuda.amp.autocast(args...)` is deprecated. Please use `torch.amp.autocast('cuda', args...)` instead.\n",
            "  with amp.autocast(autocast):\n"
          ]
        },
        {
          "output_type": "stream",
          "name": "stdout",
          "text": [
            "Processed raccoon-167.jpg and saved to output_images_folder/raccoon-167.jpg\n"
          ]
        },
        {
          "output_type": "stream",
          "name": "stderr",
          "text": [
            "image 1/1: 183x275 1 cat\n",
            "Speed: 8.5ms pre-process, 491.3ms inference, 2.8ms NMS per image at shape (1, 3, 448, 640)\n",
            "Saved 1 image to \u001b[1moutput_images_folder78\u001b[0m\n",
            "/root/.cache/torch/hub/ultralytics_yolov5_master/models/common.py:892: FutureWarning: `torch.cuda.amp.autocast(args...)` is deprecated. Please use `torch.amp.autocast('cuda', args...)` instead.\n",
            "  with amp.autocast(autocast):\n"
          ]
        },
        {
          "output_type": "stream",
          "name": "stdout",
          "text": [
            "Processed raccoon-158.jpg and saved to output_images_folder/raccoon-158.jpg\n"
          ]
        },
        {
          "output_type": "stream",
          "name": "stderr",
          "text": [
            "image 1/1: 223x226 (no detections)\n",
            "Speed: 9.4ms pre-process, 695.1ms inference, 1.4ms NMS per image at shape (1, 3, 640, 640)\n",
            "Saved 1 image to \u001b[1moutput_images_folder79\u001b[0m\n",
            "/root/.cache/torch/hub/ultralytics_yolov5_master/models/common.py:892: FutureWarning: `torch.cuda.amp.autocast(args...)` is deprecated. Please use `torch.amp.autocast('cuda', args...)` instead.\n",
            "  with amp.autocast(autocast):\n"
          ]
        },
        {
          "output_type": "stream",
          "name": "stdout",
          "text": [
            "Processed raccoon-159.jpg and saved to output_images_folder/raccoon-159.jpg\n"
          ]
        },
        {
          "output_type": "stream",
          "name": "stderr",
          "text": [
            "image 1/1: 197x256 1 person\n",
            "Speed: 6.9ms pre-process, 548.6ms inference, 2.5ms NMS per image at shape (1, 3, 512, 640)\n",
            "Saved 1 image to \u001b[1moutput_images_folder80\u001b[0m\n",
            "/root/.cache/torch/hub/ultralytics_yolov5_master/models/common.py:892: FutureWarning: `torch.cuda.amp.autocast(args...)` is deprecated. Please use `torch.amp.autocast('cuda', args...)` instead.\n",
            "  with amp.autocast(autocast):\n"
          ]
        },
        {
          "output_type": "stream",
          "name": "stdout",
          "text": [
            "Processed raccoon-160.jpg and saved to output_images_folder/raccoon-160.jpg\n"
          ]
        },
        {
          "output_type": "stream",
          "name": "stderr",
          "text": [
            "image 1/1: 251x201 1 bear\n",
            "Speed: 8.5ms pre-process, 598.2ms inference, 2.7ms NMS per image at shape (1, 3, 640, 512)\n",
            "Saved 1 image to \u001b[1moutput_images_folder81\u001b[0m\n",
            "/root/.cache/torch/hub/ultralytics_yolov5_master/models/common.py:892: FutureWarning: `torch.cuda.amp.autocast(args...)` is deprecated. Please use `torch.amp.autocast('cuda', args...)` instead.\n",
            "  with amp.autocast(autocast):\n"
          ]
        },
        {
          "output_type": "stream",
          "name": "stdout",
          "text": [
            "Processed raccoon-156.jpg and saved to output_images_folder/raccoon-156.jpg\n"
          ]
        },
        {
          "output_type": "stream",
          "name": "stderr",
          "text": [
            "image 1/1: 183x275 1 boat, 1 bird, 1 dog\n",
            "Speed: 8.6ms pre-process, 508.9ms inference, 2.5ms NMS per image at shape (1, 3, 448, 640)\n",
            "Saved 1 image to \u001b[1moutput_images_folder82\u001b[0m\n",
            "/root/.cache/torch/hub/ultralytics_yolov5_master/models/common.py:892: FutureWarning: `torch.cuda.amp.autocast(args...)` is deprecated. Please use `torch.amp.autocast('cuda', args...)` instead.\n",
            "  with amp.autocast(autocast):\n"
          ]
        },
        {
          "output_type": "stream",
          "name": "stdout",
          "text": [
            "Processed raccoon-185.jpg and saved to output_images_folder/raccoon-185.jpg\n"
          ]
        },
        {
          "output_type": "stream",
          "name": "stderr",
          "text": [
            "image 1/1: 229x220 (no detections)\n",
            "Speed: 7.7ms pre-process, 524.9ms inference, 1.5ms NMS per image at shape (1, 3, 640, 640)\n",
            "Saved 1 image to \u001b[1moutput_images_folder83\u001b[0m\n",
            "/root/.cache/torch/hub/ultralytics_yolov5_master/models/common.py:892: FutureWarning: `torch.cuda.amp.autocast(args...)` is deprecated. Please use `torch.amp.autocast('cuda', args...)` instead.\n",
            "  with amp.autocast(autocast):\n"
          ]
        },
        {
          "output_type": "stream",
          "name": "stdout",
          "text": [
            "Processed raccoon-157.jpg and saved to output_images_folder/raccoon-157.jpg\n"
          ]
        },
        {
          "output_type": "stream",
          "name": "stderr",
          "text": [
            "image 1/1: 422x750 6 persons, 1 tie\n",
            "Speed: 8.3ms pre-process, 284.9ms inference, 1.3ms NMS per image at shape (1, 3, 384, 640)\n",
            "Saved 1 image to \u001b[1moutput_images_folder84\u001b[0m\n",
            "/root/.cache/torch/hub/ultralytics_yolov5_master/models/common.py:892: FutureWarning: `torch.cuda.amp.autocast(args...)` is deprecated. Please use `torch.amp.autocast('cuda', args...)` instead.\n",
            "  with amp.autocast(autocast):\n"
          ]
        },
        {
          "output_type": "stream",
          "name": "stdout",
          "text": [
            "Processed raccoon-181.jpg and saved to output_images_folder/raccoon-181.jpg\n"
          ]
        },
        {
          "output_type": "stream",
          "name": "stderr",
          "text": [
            "image 1/1: 346x615 1 person\n",
            "Speed: 6.5ms pre-process, 296.7ms inference, 1.3ms NMS per image at shape (1, 3, 384, 640)\n",
            "Saved 1 image to \u001b[1moutput_images_folder85\u001b[0m\n",
            "/root/.cache/torch/hub/ultralytics_yolov5_master/models/common.py:892: FutureWarning: `torch.cuda.amp.autocast(args...)` is deprecated. Please use `torch.amp.autocast('cuda', args...)` instead.\n",
            "  with amp.autocast(autocast):\n"
          ]
        },
        {
          "output_type": "stream",
          "name": "stdout",
          "text": [
            "Processed raccoon-172.jpg and saved to output_images_folder/raccoon-172.jpg\n"
          ]
        },
        {
          "output_type": "stream",
          "name": "stderr",
          "text": [
            "image 1/1: 194x259 1 dog\n",
            "Speed: 5.4ms pre-process, 321.7ms inference, 1.4ms NMS per image at shape (1, 3, 480, 640)\n",
            "Saved 1 image to \u001b[1moutput_images_folder86\u001b[0m\n",
            "/root/.cache/torch/hub/ultralytics_yolov5_master/models/common.py:892: FutureWarning: `torch.cuda.amp.autocast(args...)` is deprecated. Please use `torch.amp.autocast('cuda', args...)` instead.\n",
            "  with amp.autocast(autocast):\n"
          ]
        },
        {
          "output_type": "stream",
          "name": "stdout",
          "text": [
            "Processed raccoon-170.jpg and saved to output_images_folder/raccoon-170.jpg\n"
          ]
        },
        {
          "output_type": "stream",
          "name": "stderr",
          "text": [
            "image 1/1: 225x224 1 dog\n",
            "Speed: 5.2ms pre-process, 420.1ms inference, 2.0ms NMS per image at shape (1, 3, 640, 640)\n",
            "Saved 1 image to \u001b[1moutput_images_folder87\u001b[0m\n",
            "/root/.cache/torch/hub/ultralytics_yolov5_master/models/common.py:892: FutureWarning: `torch.cuda.amp.autocast(args...)` is deprecated. Please use `torch.amp.autocast('cuda', args...)` instead.\n",
            "  with amp.autocast(autocast):\n"
          ]
        },
        {
          "output_type": "stream",
          "name": "stdout",
          "text": [
            "Processed raccoon-171.jpg and saved to output_images_folder/raccoon-171.jpg\n"
          ]
        },
        {
          "output_type": "stream",
          "name": "stderr",
          "text": [
            "image 1/1: 194x259 (no detections)\n",
            "Speed: 4.1ms pre-process, 341.3ms inference, 1.1ms NMS per image at shape (1, 3, 480, 640)\n",
            "Saved 1 image to \u001b[1moutput_images_folder88\u001b[0m\n",
            "/root/.cache/torch/hub/ultralytics_yolov5_master/models/common.py:892: FutureWarning: `torch.cuda.amp.autocast(args...)` is deprecated. Please use `torch.amp.autocast('cuda', args...)` instead.\n",
            "  with amp.autocast(autocast):\n"
          ]
        },
        {
          "output_type": "stream",
          "name": "stdout",
          "text": [
            "Processed raccoon-162.jpg and saved to output_images_folder/raccoon-162.jpg\n"
          ]
        },
        {
          "output_type": "stream",
          "name": "stderr",
          "text": [
            "image 1/1: 409x615 1 cat\n",
            "Speed: 7.0ms pre-process, 300.0ms inference, 1.4ms NMS per image at shape (1, 3, 448, 640)\n",
            "Saved 1 image to \u001b[1moutput_images_folder89\u001b[0m\n",
            "/root/.cache/torch/hub/ultralytics_yolov5_master/models/common.py:892: FutureWarning: `torch.cuda.amp.autocast(args...)` is deprecated. Please use `torch.amp.autocast('cuda', args...)` instead.\n",
            "  with amp.autocast(autocast):\n"
          ]
        },
        {
          "output_type": "stream",
          "name": "stdout",
          "text": [
            "Processed raccoon-169.jpg and saved to output_images_folder/raccoon-169.jpg\n"
          ]
        },
        {
          "output_type": "stream",
          "name": "stderr",
          "text": [
            "image 1/1: 203x248 (no detections)\n",
            "Speed: 5.8ms pre-process, 369.0ms inference, 1.1ms NMS per image at shape (1, 3, 544, 640)\n",
            "Saved 1 image to \u001b[1moutput_images_folder90\u001b[0m\n",
            "/root/.cache/torch/hub/ultralytics_yolov5_master/models/common.py:892: FutureWarning: `torch.cuda.amp.autocast(args...)` is deprecated. Please use `torch.amp.autocast('cuda', args...)` instead.\n",
            "  with amp.autocast(autocast):\n"
          ]
        },
        {
          "output_type": "stream",
          "name": "stdout",
          "text": [
            "Processed raccoon-163.jpg and saved to output_images_folder/raccoon-163.jpg\n"
          ]
        },
        {
          "output_type": "stream",
          "name": "stderr",
          "text": [
            "image 1/1: 450x600 1 cat\n",
            "Speed: 7.6ms pre-process, 329.7ms inference, 1.3ms NMS per image at shape (1, 3, 480, 640)\n",
            "Saved 1 image to \u001b[1moutput_images_folder91\u001b[0m\n",
            "/root/.cache/torch/hub/ultralytics_yolov5_master/models/common.py:892: FutureWarning: `torch.cuda.amp.autocast(args...)` is deprecated. Please use `torch.amp.autocast('cuda', args...)` instead.\n",
            "  with amp.autocast(autocast):\n"
          ]
        },
        {
          "output_type": "stream",
          "name": "stdout",
          "text": [
            "Processed raccoon-179.jpg and saved to output_images_folder/raccoon-179.jpg\n"
          ]
        },
        {
          "output_type": "stream",
          "name": "stderr",
          "text": [
            "image 1/1: 183x276 1 bowl\n",
            "Speed: 4.0ms pre-process, 294.0ms inference, 1.6ms NMS per image at shape (1, 3, 448, 640)\n",
            "Saved 1 image to \u001b[1moutput_images_folder92\u001b[0m\n",
            "/root/.cache/torch/hub/ultralytics_yolov5_master/models/common.py:892: FutureWarning: `torch.cuda.amp.autocast(args...)` is deprecated. Please use `torch.amp.autocast('cuda', args...)` instead.\n",
            "  with amp.autocast(autocast):\n"
          ]
        },
        {
          "output_type": "stream",
          "name": "stdout",
          "text": [
            "Processed raccoon-177.jpg and saved to output_images_folder/raccoon-177.jpg\n"
          ]
        },
        {
          "output_type": "stream",
          "name": "stderr",
          "text": [
            "image 1/1: 194x259 1 car, 1 dog\n",
            "Speed: 4.1ms pre-process, 319.2ms inference, 2.0ms NMS per image at shape (1, 3, 480, 640)\n",
            "Saved 1 image to \u001b[1moutput_images_folder93\u001b[0m\n",
            "/root/.cache/torch/hub/ultralytics_yolov5_master/models/common.py:892: FutureWarning: `torch.cuda.amp.autocast(args...)` is deprecated. Please use `torch.amp.autocast('cuda', args...)` instead.\n",
            "  with amp.autocast(autocast):\n"
          ]
        },
        {
          "output_type": "stream",
          "name": "stdout",
          "text": [
            "Processed raccoon-17.jpg and saved to output_images_folder/raccoon-17.jpg\n"
          ]
        },
        {
          "output_type": "stream",
          "name": "stderr",
          "text": [
            "image 1/1: 156x240 1 bear\n",
            "Speed: 4.7ms pre-process, 299.5ms inference, 1.3ms NMS per image at shape (1, 3, 416, 640)\n",
            "Saved 1 image to \u001b[1moutput_images_folder94\u001b[0m\n",
            "/root/.cache/torch/hub/ultralytics_yolov5_master/models/common.py:892: FutureWarning: `torch.cuda.amp.autocast(args...)` is deprecated. Please use `torch.amp.autocast('cuda', args...)` instead.\n",
            "  with amp.autocast(autocast):\n"
          ]
        },
        {
          "output_type": "stream",
          "name": "stdout",
          "text": [
            "Processed raccoon-18.jpg and saved to output_images_folder/raccoon-18.jpg\n"
          ]
        },
        {
          "output_type": "stream",
          "name": "stderr",
          "text": [
            "image 1/1: 640x424 1 bear\n",
            "Speed: 8.2ms pre-process, 293.1ms inference, 1.3ms NMS per image at shape (1, 3, 640, 448)\n",
            "Saved 1 image to \u001b[1moutput_images_folder95\u001b[0m\n",
            "/root/.cache/torch/hub/ultralytics_yolov5_master/models/common.py:892: FutureWarning: `torch.cuda.amp.autocast(args...)` is deprecated. Please use `torch.amp.autocast('cuda', args...)` instead.\n",
            "  with amp.autocast(autocast):\n"
          ]
        },
        {
          "output_type": "stream",
          "name": "stdout",
          "text": [
            "Processed raccoon-16.jpg and saved to output_images_folder/raccoon-16.jpg\n"
          ]
        },
        {
          "output_type": "stream",
          "name": "stderr",
          "text": [
            "image 1/1: 639x960 4 persons\n",
            "Speed: 12.0ms pre-process, 298.1ms inference, 1.3ms NMS per image at shape (1, 3, 448, 640)\n",
            "Saved 1 image to \u001b[1moutput_images_folder96\u001b[0m\n",
            "/root/.cache/torch/hub/ultralytics_yolov5_master/models/common.py:892: FutureWarning: `torch.cuda.amp.autocast(args...)` is deprecated. Please use `torch.amp.autocast('cuda', args...)` instead.\n",
            "  with amp.autocast(autocast):\n"
          ]
        },
        {
          "output_type": "stream",
          "name": "stdout",
          "text": [
            "Processed raccoon-174.jpg and saved to output_images_folder/raccoon-174.jpg\n"
          ]
        },
        {
          "output_type": "stream",
          "name": "stderr",
          "text": [
            "image 1/1: 154x328 1 dog\n",
            "Speed: 3.1ms pre-process, 241.4ms inference, 1.2ms NMS per image at shape (1, 3, 320, 640)\n",
            "Saved 1 image to \u001b[1moutput_images_folder97\u001b[0m\n",
            "/root/.cache/torch/hub/ultralytics_yolov5_master/models/common.py:892: FutureWarning: `torch.cuda.amp.autocast(args...)` is deprecated. Please use `torch.amp.autocast('cuda', args...)` instead.\n",
            "  with amp.autocast(autocast):\n"
          ]
        },
        {
          "output_type": "stream",
          "name": "stdout",
          "text": [
            "Processed raccoon-166.jpg and saved to output_images_folder/raccoon-166.jpg\n"
          ]
        },
        {
          "output_type": "stream",
          "name": "stderr",
          "text": [
            "image 1/1: 183x275 1 cat\n",
            "Speed: 4.0ms pre-process, 292.6ms inference, 1.2ms NMS per image at shape (1, 3, 448, 640)\n",
            "Saved 1 image to \u001b[1moutput_images_folder98\u001b[0m\n",
            "/root/.cache/torch/hub/ultralytics_yolov5_master/models/common.py:892: FutureWarning: `torch.cuda.amp.autocast(args...)` is deprecated. Please use `torch.amp.autocast('cuda', args...)` instead.\n",
            "  with amp.autocast(autocast):\n"
          ]
        },
        {
          "output_type": "stream",
          "name": "stdout",
          "text": [
            "Processed raccoon-178.jpg and saved to output_images_folder/raccoon-178.jpg\n"
          ]
        },
        {
          "output_type": "stream",
          "name": "stderr",
          "text": [
            "image 1/1: 400x600 1 person, 1 dog, 1 tie\n",
            "Speed: 6.0ms pre-process, 295.2ms inference, 1.4ms NMS per image at shape (1, 3, 448, 640)\n",
            "Saved 1 image to \u001b[1moutput_images_folder99\u001b[0m\n",
            "/root/.cache/torch/hub/ultralytics_yolov5_master/models/common.py:892: FutureWarning: `torch.cuda.amp.autocast(args...)` is deprecated. Please use `torch.amp.autocast('cuda', args...)` instead.\n",
            "  with amp.autocast(autocast):\n"
          ]
        },
        {
          "output_type": "stream",
          "name": "stdout",
          "text": [
            "Processed raccoon-180.jpg and saved to output_images_folder/raccoon-180.jpg\n"
          ]
        },
        {
          "output_type": "stream",
          "name": "stderr",
          "text": [
            "image 1/1: 852x634 1 person, 1 cat, 1 sink\n",
            "Speed: 11.1ms pre-process, 390.5ms inference, 1.3ms NMS per image at shape (1, 3, 640, 480)\n",
            "Saved 1 image to \u001b[1moutput_images_folder100\u001b[0m\n",
            "/root/.cache/torch/hub/ultralytics_yolov5_master/models/common.py:892: FutureWarning: `torch.cuda.amp.autocast(args...)` is deprecated. Please use `torch.amp.autocast('cuda', args...)` instead.\n",
            "  with amp.autocast(autocast):\n"
          ]
        },
        {
          "output_type": "stream",
          "name": "stdout",
          "text": [
            "Processed raccoon-193.jpg and saved to output_images_folder/raccoon-193.jpg\n"
          ]
        },
        {
          "output_type": "stream",
          "name": "stderr",
          "text": [
            "image 1/1: 379x460 2 sheeps\n",
            "Speed: 6.4ms pre-process, 354.6ms inference, 1.3ms NMS per image at shape (1, 3, 544, 640)\n",
            "Saved 1 image to \u001b[1moutput_images_folder101\u001b[0m\n",
            "/root/.cache/torch/hub/ultralytics_yolov5_master/models/common.py:892: FutureWarning: `torch.cuda.amp.autocast(args...)` is deprecated. Please use `torch.amp.autocast('cuda', args...)` instead.\n",
            "  with amp.autocast(autocast):\n"
          ]
        },
        {
          "output_type": "stream",
          "name": "stdout",
          "text": [
            "Processed raccoon-188.jpg and saved to output_images_folder/raccoon-188.jpg\n"
          ]
        },
        {
          "output_type": "stream",
          "name": "stderr",
          "text": [
            "image 1/1: 194x259 (no detections)\n",
            "Speed: 5.1ms pre-process, 320.2ms inference, 1.2ms NMS per image at shape (1, 3, 480, 640)\n",
            "Saved 1 image to \u001b[1moutput_images_folder102\u001b[0m\n",
            "/root/.cache/torch/hub/ultralytics_yolov5_master/models/common.py:892: FutureWarning: `torch.cuda.amp.autocast(args...)` is deprecated. Please use `torch.amp.autocast('cuda', args...)` instead.\n",
            "  with amp.autocast(autocast):\n"
          ]
        },
        {
          "output_type": "stream",
          "name": "stdout",
          "text": [
            "Processed raccoon-34.jpg and saved to output_images_folder/raccoon-34.jpg\n"
          ]
        },
        {
          "output_type": "stream",
          "name": "stderr",
          "text": [
            "image 1/1: 360x640 1 bear\n",
            "Speed: 7.9ms pre-process, 289.8ms inference, 1.2ms NMS per image at shape (1, 3, 384, 640)\n",
            "Saved 1 image to \u001b[1moutput_images_folder103\u001b[0m\n",
            "/root/.cache/torch/hub/ultralytics_yolov5_master/models/common.py:892: FutureWarning: `torch.cuda.amp.autocast(args...)` is deprecated. Please use `torch.amp.autocast('cuda', args...)` instead.\n",
            "  with amp.autocast(autocast):\n"
          ]
        },
        {
          "output_type": "stream",
          "name": "stdout",
          "text": [
            "Processed raccoon-22.jpg and saved to output_images_folder/raccoon-22.jpg\n"
          ]
        },
        {
          "output_type": "stream",
          "name": "stderr",
          "text": [
            "image 1/1: 194x259 1 bird\n",
            "Speed: 4.0ms pre-process, 316.9ms inference, 1.3ms NMS per image at shape (1, 3, 480, 640)\n",
            "Saved 1 image to \u001b[1moutput_images_folder104\u001b[0m\n",
            "/root/.cache/torch/hub/ultralytics_yolov5_master/models/common.py:892: FutureWarning: `torch.cuda.amp.autocast(args...)` is deprecated. Please use `torch.amp.autocast('cuda', args...)` instead.\n",
            "  with amp.autocast(autocast):\n"
          ]
        },
        {
          "output_type": "stream",
          "name": "stdout",
          "text": [
            "Processed raccoon-38.jpg and saved to output_images_folder/raccoon-38.jpg\n"
          ]
        },
        {
          "output_type": "stream",
          "name": "stderr",
          "text": [
            "image 1/1: 190x266 1 dog\n",
            "Speed: 6.3ms pre-process, 323.7ms inference, 1.8ms NMS per image at shape (1, 3, 480, 640)\n",
            "Saved 1 image to \u001b[1moutput_images_folder105\u001b[0m\n",
            "/root/.cache/torch/hub/ultralytics_yolov5_master/models/common.py:892: FutureWarning: `torch.cuda.amp.autocast(args...)` is deprecated. Please use `torch.amp.autocast('cuda', args...)` instead.\n",
            "  with amp.autocast(autocast):\n"
          ]
        },
        {
          "output_type": "stream",
          "name": "stdout",
          "text": [
            "Processed raccoon-30.jpg and saved to output_images_folder/raccoon-30.jpg\n"
          ]
        },
        {
          "output_type": "stream",
          "name": "stderr",
          "text": [
            "image 1/1: 183x275 1 bird\n",
            "Speed: 6.3ms pre-process, 344.7ms inference, 1.4ms NMS per image at shape (1, 3, 448, 640)\n",
            "Saved 1 image to \u001b[1moutput_images_folder106\u001b[0m\n",
            "/root/.cache/torch/hub/ultralytics_yolov5_master/models/common.py:892: FutureWarning: `torch.cuda.amp.autocast(args...)` is deprecated. Please use `torch.amp.autocast('cuda', args...)` instead.\n",
            "  with amp.autocast(autocast):\n"
          ]
        },
        {
          "output_type": "stream",
          "name": "stdout",
          "text": [
            "Processed raccoon-35.jpg and saved to output_images_folder/raccoon-35.jpg\n"
          ]
        },
        {
          "output_type": "stream",
          "name": "stderr",
          "text": [
            "image 1/1: 415x625 1 cat, 1 chair, 1 laptop\n",
            "Speed: 8.3ms pre-process, 328.7ms inference, 1.6ms NMS per image at shape (1, 3, 448, 640)\n",
            "Saved 1 image to \u001b[1moutput_images_folder107\u001b[0m\n",
            "/root/.cache/torch/hub/ultralytics_yolov5_master/models/common.py:892: FutureWarning: `torch.cuda.amp.autocast(args...)` is deprecated. Please use `torch.amp.autocast('cuda', args...)` instead.\n",
            "  with amp.autocast(autocast):\n"
          ]
        },
        {
          "output_type": "stream",
          "name": "stdout",
          "text": [
            "Processed raccoon-32.jpg and saved to output_images_folder/raccoon-32.jpg\n"
          ]
        },
        {
          "output_type": "stream",
          "name": "stderr",
          "text": [
            "image 1/1: 194x259 2 dogs\n",
            "Speed: 4.8ms pre-process, 367.4ms inference, 1.6ms NMS per image at shape (1, 3, 480, 640)\n",
            "Saved 1 image to \u001b[1moutput_images_folder108\u001b[0m\n",
            "/root/.cache/torch/hub/ultralytics_yolov5_master/models/common.py:892: FutureWarning: `torch.cuda.amp.autocast(args...)` is deprecated. Please use `torch.amp.autocast('cuda', args...)` instead.\n",
            "  with amp.autocast(autocast):\n"
          ]
        },
        {
          "output_type": "stream",
          "name": "stdout",
          "text": [
            "Processed raccoon-198.jpg and saved to output_images_folder/raccoon-198.jpg\n"
          ]
        },
        {
          "output_type": "stream",
          "name": "stderr",
          "text": [
            "image 1/1: 325x510 1 cat\n",
            "Speed: 6.8ms pre-process, 312.3ms inference, 1.5ms NMS per image at shape (1, 3, 416, 640)\n",
            "Saved 1 image to \u001b[1moutput_images_folder109\u001b[0m\n",
            "/root/.cache/torch/hub/ultralytics_yolov5_master/models/common.py:892: FutureWarning: `torch.cuda.amp.autocast(args...)` is deprecated. Please use `torch.amp.autocast('cuda', args...)` instead.\n",
            "  with amp.autocast(autocast):\n"
          ]
        },
        {
          "output_type": "stream",
          "name": "stdout",
          "text": [
            "Processed raccoon-192.jpg and saved to output_images_folder/raccoon-192.jpg\n"
          ]
        },
        {
          "output_type": "stream",
          "name": "stderr",
          "text": [
            "image 1/1: 193x261 (no detections)\n",
            "Speed: 4.9ms pre-process, 344.2ms inference, 1.1ms NMS per image at shape (1, 3, 480, 640)\n",
            "Saved 1 image to \u001b[1moutput_images_folder110\u001b[0m\n",
            "/root/.cache/torch/hub/ultralytics_yolov5_master/models/common.py:892: FutureWarning: `torch.cuda.amp.autocast(args...)` is deprecated. Please use `torch.amp.autocast('cuda', args...)` instead.\n",
            "  with amp.autocast(autocast):\n"
          ]
        },
        {
          "output_type": "stream",
          "name": "stdout",
          "text": [
            "Processed raccoon-200.jpg and saved to output_images_folder/raccoon-200.jpg\n"
          ]
        },
        {
          "output_type": "stream",
          "name": "stderr",
          "text": [
            "image 1/1: 216x233 1 person, 1 sheep\n",
            "Speed: 6.3ms pre-process, 572.5ms inference, 2.2ms NMS per image at shape (1, 3, 608, 640)\n",
            "Saved 1 image to \u001b[1moutput_images_folder111\u001b[0m\n",
            "/root/.cache/torch/hub/ultralytics_yolov5_master/models/common.py:892: FutureWarning: `torch.cuda.amp.autocast(args...)` is deprecated. Please use `torch.amp.autocast('cuda', args...)` instead.\n",
            "  with amp.autocast(autocast):\n"
          ]
        },
        {
          "output_type": "stream",
          "name": "stdout",
          "text": [
            "Processed raccoon-196.jpg and saved to output_images_folder/raccoon-196.jpg\n"
          ]
        },
        {
          "output_type": "stream",
          "name": "stderr",
          "text": [
            "image 1/1: 573x800 1 cat\n",
            "Speed: 14.0ms pre-process, 514.8ms inference, 2.0ms NMS per image at shape (1, 3, 480, 640)\n",
            "Saved 1 image to \u001b[1moutput_images_folder112\u001b[0m\n",
            "/root/.cache/torch/hub/ultralytics_yolov5_master/models/common.py:892: FutureWarning: `torch.cuda.amp.autocast(args...)` is deprecated. Please use `torch.amp.autocast('cuda', args...)` instead.\n",
            "  with amp.autocast(autocast):\n"
          ]
        },
        {
          "output_type": "stream",
          "name": "stdout",
          "text": [
            "Processed raccoon-2.jpg and saved to output_images_folder/raccoon-2.jpg\n"
          ]
        },
        {
          "output_type": "stream",
          "name": "stderr",
          "text": [
            "image 1/1: 843x602 1 bear, 1 frisbee\n",
            "Speed: 16.4ms pre-process, 505.1ms inference, 1.6ms NMS per image at shape (1, 3, 640, 480)\n",
            "Saved 1 image to \u001b[1moutput_images_folder113\u001b[0m\n",
            "/root/.cache/torch/hub/ultralytics_yolov5_master/models/common.py:892: FutureWarning: `torch.cuda.amp.autocast(args...)` is deprecated. Please use `torch.amp.autocast('cuda', args...)` instead.\n",
            "  with amp.autocast(autocast):\n"
          ]
        },
        {
          "output_type": "stream",
          "name": "stdout",
          "text": [
            "Processed raccoon-33.jpg and saved to output_images_folder/raccoon-33.jpg\n"
          ]
        },
        {
          "output_type": "stream",
          "name": "stderr",
          "text": [
            "image 1/1: 194x259 (no detections)\n",
            "Speed: 6.1ms pre-process, 495.4ms inference, 1.4ms NMS per image at shape (1, 3, 480, 640)\n",
            "Saved 1 image to \u001b[1moutput_images_folder114\u001b[0m\n",
            "/root/.cache/torch/hub/ultralytics_yolov5_master/models/common.py:892: FutureWarning: `torch.cuda.amp.autocast(args...)` is deprecated. Please use `torch.amp.autocast('cuda', args...)` instead.\n",
            "  with amp.autocast(autocast):\n"
          ]
        },
        {
          "output_type": "stream",
          "name": "stdout",
          "text": [
            "Processed raccoon-23.jpg and saved to output_images_folder/raccoon-23.jpg\n"
          ]
        },
        {
          "output_type": "stream",
          "name": "stderr",
          "text": [
            "image 1/1: 452x602 1 bear\n",
            "Speed: 10.7ms pre-process, 491.5ms inference, 1.8ms NMS per image at shape (1, 3, 480, 640)\n",
            "Saved 1 image to \u001b[1moutput_images_folder115\u001b[0m\n",
            "/root/.cache/torch/hub/ultralytics_yolov5_master/models/common.py:892: FutureWarning: `torch.cuda.amp.autocast(args...)` is deprecated. Please use `torch.amp.autocast('cuda', args...)` instead.\n",
            "  with amp.autocast(autocast):\n"
          ]
        },
        {
          "output_type": "stream",
          "name": "stdout",
          "text": [
            "Processed raccoon-28.jpg and saved to output_images_folder/raccoon-28.jpg\n"
          ]
        },
        {
          "output_type": "stream",
          "name": "stderr",
          "text": [
            "image 1/1: 428x640 1 bear\n",
            "Speed: 10.3ms pre-process, 468.6ms inference, 1.9ms NMS per image at shape (1, 3, 448, 640)\n",
            "Saved 1 image to \u001b[1moutput_images_folder116\u001b[0m\n",
            "/root/.cache/torch/hub/ultralytics_yolov5_master/models/common.py:892: FutureWarning: `torch.cuda.amp.autocast(args...)` is deprecated. Please use `torch.amp.autocast('cuda', args...)` instead.\n",
            "  with amp.autocast(autocast):\n"
          ]
        },
        {
          "output_type": "stream",
          "name": "stdout",
          "text": [
            "Processed raccoon-199.jpg and saved to output_images_folder/raccoon-199.jpg\n"
          ]
        },
        {
          "output_type": "stream",
          "name": "stderr",
          "text": [
            "image 1/1: 540x720 (no detections)\n",
            "Speed: 14.8ms pre-process, 511.3ms inference, 4.7ms NMS per image at shape (1, 3, 480, 640)\n",
            "Saved 1 image to \u001b[1moutput_images_folder117\u001b[0m\n",
            "/root/.cache/torch/hub/ultralytics_yolov5_master/models/common.py:892: FutureWarning: `torch.cuda.amp.autocast(args...)` is deprecated. Please use `torch.amp.autocast('cuda', args...)` instead.\n",
            "  with amp.autocast(autocast):\n"
          ]
        },
        {
          "output_type": "stream",
          "name": "stdout",
          "text": [
            "Processed raccoon-20.jpg and saved to output_images_folder/raccoon-20.jpg\n"
          ]
        },
        {
          "output_type": "stream",
          "name": "stderr",
          "text": [
            "image 1/1: 428x640 1 bear\n",
            "Speed: 9.4ms pre-process, 472.6ms inference, 2.3ms NMS per image at shape (1, 3, 448, 640)\n",
            "Saved 1 image to \u001b[1moutput_images_folder118\u001b[0m\n",
            "/root/.cache/torch/hub/ultralytics_yolov5_master/models/common.py:892: FutureWarning: `torch.cuda.amp.autocast(args...)` is deprecated. Please use `torch.amp.autocast('cuda', args...)` instead.\n",
            "  with amp.autocast(autocast):\n"
          ]
        },
        {
          "output_type": "stream",
          "name": "stdout",
          "text": [
            "Processed raccoon-36.jpg and saved to output_images_folder/raccoon-36.jpg\n"
          ]
        },
        {
          "output_type": "stream",
          "name": "stderr",
          "text": [
            "image 1/1: 1080x1080 1 dog, 1 bear, 1 potted plant, 1 vase\n",
            "Speed: 28.7ms pre-process, 734.6ms inference, 2.9ms NMS per image at shape (1, 3, 640, 640)\n",
            "Saved 1 image to \u001b[1moutput_images_folder119\u001b[0m\n",
            "/root/.cache/torch/hub/ultralytics_yolov5_master/models/common.py:892: FutureWarning: `torch.cuda.amp.autocast(args...)` is deprecated. Please use `torch.amp.autocast('cuda', args...)` instead.\n",
            "  with amp.autocast(autocast):\n"
          ]
        },
        {
          "output_type": "stream",
          "name": "stdout",
          "text": [
            "Processed raccoon-194.jpg and saved to output_images_folder/raccoon-194.jpg\n"
          ]
        },
        {
          "output_type": "stream",
          "name": "stderr",
          "text": [
            "image 1/1: 188x268 1 elephant\n",
            "Speed: 6.7ms pre-process, 392.0ms inference, 1.5ms NMS per image at shape (1, 3, 448, 640)\n",
            "Saved 1 image to \u001b[1moutput_images_folder120\u001b[0m\n",
            "/root/.cache/torch/hub/ultralytics_yolov5_master/models/common.py:892: FutureWarning: `torch.cuda.amp.autocast(args...)` is deprecated. Please use `torch.amp.autocast('cuda', args...)` instead.\n",
            "  with amp.autocast(autocast):\n"
          ]
        },
        {
          "output_type": "stream",
          "name": "stdout",
          "text": [
            "Processed raccoon-24.jpg and saved to output_images_folder/raccoon-24.jpg\n"
          ]
        },
        {
          "output_type": "stream",
          "name": "stderr",
          "text": [
            "image 1/1: 225x225 1 dog\n",
            "Speed: 5.3ms pre-process, 454.8ms inference, 1.7ms NMS per image at shape (1, 3, 640, 640)\n",
            "Saved 1 image to \u001b[1moutput_images_folder121\u001b[0m\n",
            "/root/.cache/torch/hub/ultralytics_yolov5_master/models/common.py:892: FutureWarning: `torch.cuda.amp.autocast(args...)` is deprecated. Please use `torch.amp.autocast('cuda', args...)` instead.\n",
            "  with amp.autocast(autocast):\n"
          ]
        },
        {
          "output_type": "stream",
          "name": "stdout",
          "text": [
            "Processed raccoon-195.jpg and saved to output_images_folder/raccoon-195.jpg\n"
          ]
        },
        {
          "output_type": "stream",
          "name": "stderr",
          "text": [
            "image 1/1: 593x520 1 person\n",
            "Speed: 8.6ms pre-process, 409.6ms inference, 1.4ms NMS per image at shape (1, 3, 640, 576)\n",
            "Saved 1 image to \u001b[1moutput_images_folder122\u001b[0m\n",
            "/root/.cache/torch/hub/ultralytics_yolov5_master/models/common.py:892: FutureWarning: `torch.cuda.amp.autocast(args...)` is deprecated. Please use `torch.amp.autocast('cuda', args...)` instead.\n",
            "  with amp.autocast(autocast):\n"
          ]
        },
        {
          "output_type": "stream",
          "name": "stdout",
          "text": [
            "Processed raccoon-37.jpg and saved to output_images_folder/raccoon-37.jpg\n"
          ]
        },
        {
          "output_type": "stream",
          "name": "stderr",
          "text": [
            "image 1/1: 480x720 1 cat\n",
            "Speed: 7.7ms pre-process, 307.6ms inference, 1.3ms NMS per image at shape (1, 3, 448, 640)\n",
            "Saved 1 image to \u001b[1moutput_images_folder123\u001b[0m\n",
            "/root/.cache/torch/hub/ultralytics_yolov5_master/models/common.py:892: FutureWarning: `torch.cuda.amp.autocast(args...)` is deprecated. Please use `torch.amp.autocast('cuda', args...)` instead.\n",
            "  with amp.autocast(autocast):\n"
          ]
        },
        {
          "output_type": "stream",
          "name": "stdout",
          "text": [
            "Processed raccoon-3.jpg and saved to output_images_folder/raccoon-3.jpg\n"
          ]
        },
        {
          "output_type": "stream",
          "name": "stderr",
          "text": [
            "image 1/1: 641x634 1 person, 1 dog\n",
            "Speed: 10.1ms pre-process, 464.0ms inference, 4.9ms NMS per image at shape (1, 3, 640, 640)\n",
            "Saved 1 image to \u001b[1moutput_images_folder124\u001b[0m\n",
            "/root/.cache/torch/hub/ultralytics_yolov5_master/models/common.py:892: FutureWarning: `torch.cuda.amp.autocast(args...)` is deprecated. Please use `torch.amp.autocast('cuda', args...)` instead.\n",
            "  with amp.autocast(autocast):\n"
          ]
        },
        {
          "output_type": "stream",
          "name": "stdout",
          "text": [
            "Processed raccoon-25.jpg and saved to output_images_folder/raccoon-25.jpg\n"
          ]
        },
        {
          "output_type": "stream",
          "name": "stderr",
          "text": [
            "image 1/1: 401x602 (no detections)\n",
            "Speed: 8.4ms pre-process, 338.0ms inference, 1.3ms NMS per image at shape (1, 3, 448, 640)\n",
            "Saved 1 image to \u001b[1moutput_images_folder125\u001b[0m\n",
            "/root/.cache/torch/hub/ultralytics_yolov5_master/models/common.py:892: FutureWarning: `torch.cuda.amp.autocast(args...)` is deprecated. Please use `torch.amp.autocast('cuda', args...)` instead.\n",
            "  with amp.autocast(autocast):\n"
          ]
        },
        {
          "output_type": "stream",
          "name": "stdout",
          "text": [
            "Processed raccoon-27.jpg and saved to output_images_folder/raccoon-27.jpg\n"
          ]
        },
        {
          "output_type": "stream",
          "name": "stderr",
          "text": [
            "image 1/1: 194x259 (no detections)\n",
            "Speed: 5.2ms pre-process, 358.3ms inference, 1.2ms NMS per image at shape (1, 3, 480, 640)\n",
            "Saved 1 image to \u001b[1moutput_images_folder126\u001b[0m\n",
            "/root/.cache/torch/hub/ultralytics_yolov5_master/models/common.py:892: FutureWarning: `torch.cuda.amp.autocast(args...)` is deprecated. Please use `torch.amp.autocast('cuda', args...)` instead.\n",
            "  with amp.autocast(autocast):\n"
          ]
        },
        {
          "output_type": "stream",
          "name": "stdout",
          "text": [
            "Processed raccoon-190.jpg and saved to output_images_folder/raccoon-190.jpg\n"
          ]
        },
        {
          "output_type": "stream",
          "name": "stderr",
          "text": [
            "image 1/1: 183x275 1 bear\n",
            "Speed: 4.8ms pre-process, 344.6ms inference, 1.4ms NMS per image at shape (1, 3, 448, 640)\n",
            "Saved 1 image to \u001b[1moutput_images_folder127\u001b[0m\n",
            "/root/.cache/torch/hub/ultralytics_yolov5_master/models/common.py:892: FutureWarning: `torch.cuda.amp.autocast(args...)` is deprecated. Please use `torch.amp.autocast('cuda', args...)` instead.\n",
            "  with amp.autocast(autocast):\n"
          ]
        },
        {
          "output_type": "stream",
          "name": "stdout",
          "text": [
            "Processed raccoon-29.jpg and saved to output_images_folder/raccoon-29.jpg\n"
          ]
        },
        {
          "output_type": "stream",
          "name": "stderr",
          "text": [
            "image 1/1: 194x259 2 persons\n",
            "Speed: 4.9ms pre-process, 348.4ms inference, 2.4ms NMS per image at shape (1, 3, 480, 640)\n",
            "Saved 1 image to \u001b[1moutput_images_folder128\u001b[0m\n",
            "/root/.cache/torch/hub/ultralytics_yolov5_master/models/common.py:892: FutureWarning: `torch.cuda.amp.autocast(args...)` is deprecated. Please use `torch.amp.autocast('cuda', args...)` instead.\n",
            "  with amp.autocast(autocast):\n"
          ]
        },
        {
          "output_type": "stream",
          "name": "stdout",
          "text": [
            "Processed raccoon-19.jpg and saved to output_images_folder/raccoon-19.jpg\n"
          ]
        },
        {
          "output_type": "stream",
          "name": "stderr",
          "text": [
            "image 1/1: 450x600 1 cat, 1 bed\n",
            "Speed: 8.9ms pre-process, 369.3ms inference, 1.7ms NMS per image at shape (1, 3, 480, 640)\n",
            "Saved 1 image to \u001b[1moutput_images_folder129\u001b[0m\n",
            "/root/.cache/torch/hub/ultralytics_yolov5_master/models/common.py:892: FutureWarning: `torch.cuda.amp.autocast(args...)` is deprecated. Please use `torch.amp.autocast('cuda', args...)` instead.\n",
            "  with amp.autocast(autocast):\n"
          ]
        },
        {
          "output_type": "stream",
          "name": "stdout",
          "text": [
            "Processed raccoon-189.jpg and saved to output_images_folder/raccoon-189.jpg\n"
          ]
        },
        {
          "output_type": "stream",
          "name": "stderr",
          "text": [
            "image 1/1: 374x306 1 person\n",
            "Speed: 8.6ms pre-process, 366.2ms inference, 1.4ms NMS per image at shape (1, 3, 640, 544)\n",
            "Saved 1 image to \u001b[1moutput_images_folder130\u001b[0m\n",
            "/root/.cache/torch/hub/ultralytics_yolov5_master/models/common.py:892: FutureWarning: `torch.cuda.amp.autocast(args...)` is deprecated. Please use `torch.amp.autocast('cuda', args...)` instead.\n",
            "  with amp.autocast(autocast):\n"
          ]
        },
        {
          "output_type": "stream",
          "name": "stdout",
          "text": [
            "Processed raccoon-26.jpg and saved to output_images_folder/raccoon-26.jpg\n"
          ]
        },
        {
          "output_type": "stream",
          "name": "stderr",
          "text": [
            "image 1/1: 445x634 1 cat, 1 bear, 2 apples\n",
            "Speed: 8.1ms pre-process, 429.1ms inference, 1.3ms NMS per image at shape (1, 3, 480, 640)\n",
            "Saved 1 image to \u001b[1moutput_images_folder131\u001b[0m\n",
            "/root/.cache/torch/hub/ultralytics_yolov5_master/models/common.py:892: FutureWarning: `torch.cuda.amp.autocast(args...)` is deprecated. Please use `torch.amp.autocast('cuda', args...)` instead.\n",
            "  with amp.autocast(autocast):\n"
          ]
        },
        {
          "output_type": "stream",
          "name": "stdout",
          "text": [
            "Processed raccoon-191.jpg and saved to output_images_folder/raccoon-191.jpg\n"
          ]
        },
        {
          "output_type": "stream",
          "name": "stderr",
          "text": [
            "image 1/1: 174x290 1 bear\n",
            "Speed: 4.5ms pre-process, 277.4ms inference, 1.4ms NMS per image at shape (1, 3, 384, 640)\n",
            "Saved 1 image to \u001b[1moutput_images_folder132\u001b[0m\n",
            "/root/.cache/torch/hub/ultralytics_yolov5_master/models/common.py:892: FutureWarning: `torch.cuda.amp.autocast(args...)` is deprecated. Please use `torch.amp.autocast('cuda', args...)` instead.\n",
            "  with amp.autocast(autocast):\n"
          ]
        },
        {
          "output_type": "stream",
          "name": "stdout",
          "text": [
            "Processed raccoon-21.jpg and saved to output_images_folder/raccoon-21.jpg\n"
          ]
        },
        {
          "output_type": "stream",
          "name": "stderr",
          "text": [
            "image 1/1: 720x1280 1 person\n",
            "Speed: 12.5ms pre-process, 285.4ms inference, 1.4ms NMS per image at shape (1, 3, 384, 640)\n",
            "Saved 1 image to \u001b[1moutput_images_folder133\u001b[0m\n",
            "/root/.cache/torch/hub/ultralytics_yolov5_master/models/common.py:892: FutureWarning: `torch.cuda.amp.autocast(args...)` is deprecated. Please use `torch.amp.autocast('cuda', args...)` instead.\n",
            "  with amp.autocast(autocast):\n"
          ]
        },
        {
          "output_type": "stream",
          "name": "stdout",
          "text": [
            "Processed raccoon-197.jpg and saved to output_images_folder/raccoon-197.jpg\n"
          ]
        },
        {
          "output_type": "stream",
          "name": "stderr",
          "text": [
            "image 1/1: 214x236 1 cat\n",
            "Speed: 6.2ms pre-process, 518.9ms inference, 4.7ms NMS per image at shape (1, 3, 608, 640)\n",
            "Saved 1 image to \u001b[1moutput_images_folder134\u001b[0m\n",
            "/root/.cache/torch/hub/ultralytics_yolov5_master/models/common.py:892: FutureWarning: `torch.cuda.amp.autocast(args...)` is deprecated. Please use `torch.amp.autocast('cuda', args...)` instead.\n",
            "  with amp.autocast(autocast):\n"
          ]
        },
        {
          "output_type": "stream",
          "name": "stdout",
          "text": [
            "Processed raccoon-31.jpg and saved to output_images_folder/raccoon-31.jpg\n"
          ]
        },
        {
          "output_type": "stream",
          "name": "stderr",
          "text": [
            "image 1/1: 400x600 1 bear\n",
            "Speed: 8.2ms pre-process, 312.9ms inference, 1.3ms NMS per image at shape (1, 3, 448, 640)\n",
            "Saved 1 image to \u001b[1moutput_images_folder135\u001b[0m\n",
            "/root/.cache/torch/hub/ultralytics_yolov5_master/models/common.py:892: FutureWarning: `torch.cuda.amp.autocast(args...)` is deprecated. Please use `torch.amp.autocast('cuda', args...)` instead.\n",
            "  with amp.autocast(autocast):\n"
          ]
        },
        {
          "output_type": "stream",
          "name": "stdout",
          "text": [
            "Processed raccoon-63.jpg and saved to output_images_folder/raccoon-63.jpg\n"
          ]
        },
        {
          "output_type": "stream",
          "name": "stderr",
          "text": [
            "image 1/1: 210x240 (no detections)\n",
            "Speed: 4.7ms pre-process, 437.0ms inference, 1.4ms NMS per image at shape (1, 3, 576, 640)\n",
            "Saved 1 image to \u001b[1moutput_images_folder136\u001b[0m\n",
            "/root/.cache/torch/hub/ultralytics_yolov5_master/models/common.py:892: FutureWarning: `torch.cuda.amp.autocast(args...)` is deprecated. Please use `torch.amp.autocast('cuda', args...)` instead.\n",
            "  with amp.autocast(autocast):\n"
          ]
        },
        {
          "output_type": "stream",
          "name": "stdout",
          "text": [
            "Processed raccoon-56.jpg and saved to output_images_folder/raccoon-56.jpg\n"
          ]
        },
        {
          "output_type": "stream",
          "name": "stderr",
          "text": [
            "image 1/1: 1024x577 1 dog, 1 bottle\n",
            "Speed: 11.9ms pre-process, 306.0ms inference, 1.4ms NMS per image at shape (1, 3, 640, 384)\n",
            "Saved 1 image to \u001b[1moutput_images_folder137\u001b[0m\n",
            "/root/.cache/torch/hub/ultralytics_yolov5_master/models/common.py:892: FutureWarning: `torch.cuda.amp.autocast(args...)` is deprecated. Please use `torch.amp.autocast('cuda', args...)` instead.\n",
            "  with amp.autocast(autocast):\n"
          ]
        },
        {
          "output_type": "stream",
          "name": "stdout",
          "text": [
            "Processed raccoon-42.jpg and saved to output_images_folder/raccoon-42.jpg\n"
          ]
        },
        {
          "output_type": "stream",
          "name": "stderr",
          "text": [
            "image 1/1: 187x270 (no detections)\n",
            "Speed: 5.1ms pre-process, 303.7ms inference, 1.4ms NMS per image at shape (1, 3, 448, 640)\n",
            "Saved 1 image to \u001b[1moutput_images_folder138\u001b[0m\n",
            "/root/.cache/torch/hub/ultralytics_yolov5_master/models/common.py:892: FutureWarning: `torch.cuda.amp.autocast(args...)` is deprecated. Please use `torch.amp.autocast('cuda', args...)` instead.\n",
            "  with amp.autocast(autocast):\n"
          ]
        },
        {
          "output_type": "stream",
          "name": "stdout",
          "text": [
            "Processed raccoon-5.jpg and saved to output_images_folder/raccoon-5.jpg\n"
          ]
        },
        {
          "output_type": "stream",
          "name": "stderr",
          "text": [
            "image 1/1: 500x700 1 bear\n",
            "Speed: 11.7ms pre-process, 346.2ms inference, 1.4ms NMS per image at shape (1, 3, 480, 640)\n",
            "Saved 1 image to \u001b[1moutput_images_folder139\u001b[0m\n",
            "/root/.cache/torch/hub/ultralytics_yolov5_master/models/common.py:892: FutureWarning: `torch.cuda.amp.autocast(args...)` is deprecated. Please use `torch.amp.autocast('cuda', args...)` instead.\n",
            "  with amp.autocast(autocast):\n"
          ]
        },
        {
          "output_type": "stream",
          "name": "stdout",
          "text": [
            "Processed raccoon-41.jpg and saved to output_images_folder/raccoon-41.jpg\n"
          ]
        },
        {
          "output_type": "stream",
          "name": "stderr",
          "text": [
            "image 1/1: 185x272 1 bear\n",
            "Speed: 5.6ms pre-process, 334.0ms inference, 2.3ms NMS per image at shape (1, 3, 448, 640)\n",
            "Saved 1 image to \u001b[1moutput_images_folder140\u001b[0m\n",
            "/root/.cache/torch/hub/ultralytics_yolov5_master/models/common.py:892: FutureWarning: `torch.cuda.amp.autocast(args...)` is deprecated. Please use `torch.amp.autocast('cuda', args...)` instead.\n",
            "  with amp.autocast(autocast):\n"
          ]
        },
        {
          "output_type": "stream",
          "name": "stdout",
          "text": [
            "Processed raccoon-67.jpg and saved to output_images_folder/raccoon-67.jpg\n"
          ]
        },
        {
          "output_type": "stream",
          "name": "stderr",
          "text": [
            "image 1/1: 194x259 1 person, 1 bear\n",
            "Speed: 5.1ms pre-process, 380.2ms inference, 1.8ms NMS per image at shape (1, 3, 480, 640)\n",
            "Saved 1 image to \u001b[1moutput_images_folder141\u001b[0m\n",
            "/root/.cache/torch/hub/ultralytics_yolov5_master/models/common.py:892: FutureWarning: `torch.cuda.amp.autocast(args...)` is deprecated. Please use `torch.amp.autocast('cuda', args...)` instead.\n",
            "  with amp.autocast(autocast):\n"
          ]
        },
        {
          "output_type": "stream",
          "name": "stdout",
          "text": [
            "Processed raccoon-53.jpg and saved to output_images_folder/raccoon-53.jpg\n"
          ]
        },
        {
          "output_type": "stream",
          "name": "stderr",
          "text": [
            "image 1/1: 360x480 1 bowl\n",
            "Speed: 6.4ms pre-process, 389.6ms inference, 1.6ms NMS per image at shape (1, 3, 480, 640)\n",
            "Saved 1 image to \u001b[1moutput_images_folder142\u001b[0m\n",
            "/root/.cache/torch/hub/ultralytics_yolov5_master/models/common.py:892: FutureWarning: `torch.cuda.amp.autocast(args...)` is deprecated. Please use `torch.amp.autocast('cuda', args...)` instead.\n",
            "  with amp.autocast(autocast):\n"
          ]
        },
        {
          "output_type": "stream",
          "name": "stdout",
          "text": [
            "Processed raccoon-65.jpg and saved to output_images_folder/raccoon-65.jpg\n"
          ]
        },
        {
          "output_type": "stream",
          "name": "stderr",
          "text": [
            "image 1/1: 395x640 1 bear\n",
            "Speed: 6.6ms pre-process, 306.1ms inference, 1.4ms NMS per image at shape (1, 3, 416, 640)\n",
            "Saved 1 image to \u001b[1moutput_images_folder143\u001b[0m\n",
            "/root/.cache/torch/hub/ultralytics_yolov5_master/models/common.py:892: FutureWarning: `torch.cuda.amp.autocast(args...)` is deprecated. Please use `torch.amp.autocast('cuda', args...)` instead.\n",
            "  with amp.autocast(autocast):\n"
          ]
        },
        {
          "output_type": "stream",
          "name": "stdout",
          "text": [
            "Processed raccoon-49.jpg and saved to output_images_folder/raccoon-49.jpg\n"
          ]
        },
        {
          "output_type": "stream",
          "name": "stderr",
          "text": [
            "image 1/1: 318x576 1 dog\n",
            "Speed: 6.0ms pre-process, 277.3ms inference, 1.5ms NMS per image at shape (1, 3, 384, 640)\n",
            "Saved 1 image to \u001b[1moutput_images_folder144\u001b[0m\n",
            "/root/.cache/torch/hub/ultralytics_yolov5_master/models/common.py:892: FutureWarning: `torch.cuda.amp.autocast(args...)` is deprecated. Please use `torch.amp.autocast('cuda', args...)` instead.\n",
            "  with amp.autocast(autocast):\n"
          ]
        },
        {
          "output_type": "stream",
          "name": "stdout",
          "text": [
            "Processed raccoon-46.jpg and saved to output_images_folder/raccoon-46.jpg\n"
          ]
        },
        {
          "output_type": "stream",
          "name": "stderr",
          "text": [
            "image 1/1: 360x480 1 cat, 1 dog\n",
            "Speed: 10.0ms pre-process, 396.4ms inference, 1.7ms NMS per image at shape (1, 3, 480, 640)\n",
            "Saved 1 image to \u001b[1moutput_images_folder145\u001b[0m\n",
            "/root/.cache/torch/hub/ultralytics_yolov5_master/models/common.py:892: FutureWarning: `torch.cuda.amp.autocast(args...)` is deprecated. Please use `torch.amp.autocast('cuda', args...)` instead.\n",
            "  with amp.autocast(autocast):\n"
          ]
        },
        {
          "output_type": "stream",
          "name": "stdout",
          "text": [
            "Processed raccoon-40.jpg and saved to output_images_folder/raccoon-40.jpg\n"
          ]
        },
        {
          "output_type": "stream",
          "name": "stderr",
          "text": [
            "image 1/1: 599x800 3 cats, 1 bear\n",
            "Speed: 11.9ms pre-process, 520.1ms inference, 2.2ms NMS per image at shape (1, 3, 480, 640)\n",
            "Saved 1 image to \u001b[1moutput_images_folder146\u001b[0m\n",
            "/root/.cache/torch/hub/ultralytics_yolov5_master/models/common.py:892: FutureWarning: `torch.cuda.amp.autocast(args...)` is deprecated. Please use `torch.amp.autocast('cuda', args...)` instead.\n",
            "  with amp.autocast(autocast):\n"
          ]
        },
        {
          "output_type": "stream",
          "name": "stdout",
          "text": [
            "Processed raccoon-51.jpg and saved to output_images_folder/raccoon-51.jpg\n"
          ]
        },
        {
          "output_type": "stream",
          "name": "stderr",
          "text": [
            "image 1/1: 193x262 1 bear\n",
            "Speed: 6.1ms pre-process, 578.7ms inference, 2.1ms NMS per image at shape (1, 3, 480, 640)\n",
            "Saved 1 image to \u001b[1moutput_images_folder147\u001b[0m\n",
            "/root/.cache/torch/hub/ultralytics_yolov5_master/models/common.py:892: FutureWarning: `torch.cuda.amp.autocast(args...)` is deprecated. Please use `torch.amp.autocast('cuda', args...)` instead.\n",
            "  with amp.autocast(autocast):\n"
          ]
        },
        {
          "output_type": "stream",
          "name": "stdout",
          "text": [
            "Processed raccoon-47.jpg and saved to output_images_folder/raccoon-47.jpg\n"
          ]
        },
        {
          "output_type": "stream",
          "name": "stderr",
          "text": [
            "image 1/1: 172x250 1 cat\n",
            "Speed: 5.7ms pre-process, 513.4ms inference, 2.2ms NMS per image at shape (1, 3, 448, 640)\n",
            "Saved 1 image to \u001b[1moutput_images_folder148\u001b[0m\n",
            "/root/.cache/torch/hub/ultralytics_yolov5_master/models/common.py:892: FutureWarning: `torch.cuda.amp.autocast(args...)` is deprecated. Please use `torch.amp.autocast('cuda', args...)` instead.\n",
            "  with amp.autocast(autocast):\n"
          ]
        },
        {
          "output_type": "stream",
          "name": "stdout",
          "text": [
            "Processed raccoon-39.jpg and saved to output_images_folder/raccoon-39.jpg\n"
          ]
        },
        {
          "output_type": "stream",
          "name": "stderr",
          "text": [
            "image 1/1: 423x640 1 dog\n",
            "Speed: 10.6ms pre-process, 528.6ms inference, 1.8ms NMS per image at shape (1, 3, 448, 640)\n",
            "Saved 1 image to \u001b[1moutput_images_folder149\u001b[0m\n",
            "/root/.cache/torch/hub/ultralytics_yolov5_master/models/common.py:892: FutureWarning: `torch.cuda.amp.autocast(args...)` is deprecated. Please use `torch.amp.autocast('cuda', args...)` instead.\n",
            "  with amp.autocast(autocast):\n"
          ]
        },
        {
          "output_type": "stream",
          "name": "stdout",
          "text": [
            "Processed raccoon-68.jpg and saved to output_images_folder/raccoon-68.jpg\n"
          ]
        },
        {
          "output_type": "stream",
          "name": "stderr",
          "text": [
            "image 1/1: 183x275 1 bear, 1 apple\n",
            "Speed: 5.7ms pre-process, 486.7ms inference, 1.8ms NMS per image at shape (1, 3, 448, 640)\n",
            "Saved 1 image to \u001b[1moutput_images_folder150\u001b[0m\n",
            "/root/.cache/torch/hub/ultralytics_yolov5_master/models/common.py:892: FutureWarning: `torch.cuda.amp.autocast(args...)` is deprecated. Please use `torch.amp.autocast('cuda', args...)` instead.\n",
            "  with amp.autocast(autocast):\n"
          ]
        },
        {
          "output_type": "stream",
          "name": "stdout",
          "text": [
            "Processed raccoon-4.jpg and saved to output_images_folder/raccoon-4.jpg\n"
          ]
        },
        {
          "output_type": "stream",
          "name": "stderr",
          "text": [
            "image 1/1: 417x634 2 sheeps, 1 bear\n",
            "Speed: 10.0ms pre-process, 489.2ms inference, 2.1ms NMS per image at shape (1, 3, 448, 640)\n",
            "Saved 1 image to \u001b[1moutput_images_folder151\u001b[0m\n",
            "/root/.cache/torch/hub/ultralytics_yolov5_master/models/common.py:892: FutureWarning: `torch.cuda.amp.autocast(args...)` is deprecated. Please use `torch.amp.autocast('cuda', args...)` instead.\n",
            "  with amp.autocast(autocast):\n"
          ]
        },
        {
          "output_type": "stream",
          "name": "stdout",
          "text": [
            "Processed raccoon-55.jpg and saved to output_images_folder/raccoon-55.jpg\n"
          ]
        },
        {
          "output_type": "stream",
          "name": "stderr",
          "text": [
            "image 1/1: 407x640 1 dog\n",
            "Speed: 8.3ms pre-process, 441.1ms inference, 1.8ms NMS per image at shape (1, 3, 416, 640)\n",
            "Saved 1 image to \u001b[1moutput_images_folder152\u001b[0m\n",
            "/root/.cache/torch/hub/ultralytics_yolov5_master/models/common.py:892: FutureWarning: `torch.cuda.amp.autocast(args...)` is deprecated. Please use `torch.amp.autocast('cuda', args...)` instead.\n",
            "  with amp.autocast(autocast):\n"
          ]
        },
        {
          "output_type": "stream",
          "name": "stdout",
          "text": [
            "Processed raccoon-62.jpg and saved to output_images_folder/raccoon-62.jpg\n"
          ]
        },
        {
          "output_type": "stream",
          "name": "stderr",
          "text": [
            "image 1/1: 184x274 1 dog, 1 bear, 1 orange\n",
            "Speed: 6.5ms pre-process, 497.9ms inference, 2.0ms NMS per image at shape (1, 3, 448, 640)\n",
            "Saved 1 image to \u001b[1moutput_images_folder153\u001b[0m\n",
            "/root/.cache/torch/hub/ultralytics_yolov5_master/models/common.py:892: FutureWarning: `torch.cuda.amp.autocast(args...)` is deprecated. Please use `torch.amp.autocast('cuda', args...)` instead.\n",
            "  with amp.autocast(autocast):\n"
          ]
        },
        {
          "output_type": "stream",
          "name": "stdout",
          "text": [
            "Processed raccoon-61.jpg and saved to output_images_folder/raccoon-61.jpg\n"
          ]
        },
        {
          "output_type": "stream",
          "name": "stderr",
          "text": [
            "image 1/1: 360x480 1 person, 1 bowl\n",
            "Speed: 6.8ms pre-process, 535.3ms inference, 2.1ms NMS per image at shape (1, 3, 480, 640)\n",
            "Saved 1 image to \u001b[1moutput_images_folder154\u001b[0m\n",
            "/root/.cache/torch/hub/ultralytics_yolov5_master/models/common.py:892: FutureWarning: `torch.cuda.amp.autocast(args...)` is deprecated. Please use `torch.amp.autocast('cuda', args...)` instead.\n",
            "  with amp.autocast(autocast):\n"
          ]
        },
        {
          "output_type": "stream",
          "name": "stdout",
          "text": [
            "Processed raccoon-43.jpg and saved to output_images_folder/raccoon-43.jpg\n"
          ]
        },
        {
          "output_type": "stream",
          "name": "stderr",
          "text": [
            "image 1/1: 194x259 1 cat\n",
            "Speed: 6.9ms pre-process, 542.9ms inference, 2.0ms NMS per image at shape (1, 3, 480, 640)\n",
            "Saved 1 image to \u001b[1moutput_images_folder155\u001b[0m\n",
            "/root/.cache/torch/hub/ultralytics_yolov5_master/models/common.py:892: FutureWarning: `torch.cuda.amp.autocast(args...)` is deprecated. Please use `torch.amp.autocast('cuda', args...)` instead.\n",
            "  with amp.autocast(autocast):\n"
          ]
        },
        {
          "output_type": "stream",
          "name": "stdout",
          "text": [
            "Processed raccoon-64.jpg and saved to output_images_folder/raccoon-64.jpg\n"
          ]
        },
        {
          "output_type": "stream",
          "name": "stderr",
          "text": [
            "image 1/1: 425x640 1 bear\n",
            "Speed: 10.4ms pre-process, 338.2ms inference, 1.5ms NMS per image at shape (1, 3, 448, 640)\n",
            "Saved 1 image to \u001b[1moutput_images_folder156\u001b[0m\n",
            "/root/.cache/torch/hub/ultralytics_yolov5_master/models/common.py:892: FutureWarning: `torch.cuda.amp.autocast(args...)` is deprecated. Please use `torch.amp.autocast('cuda', args...)` instead.\n",
            "  with amp.autocast(autocast):\n"
          ]
        },
        {
          "output_type": "stream",
          "name": "stdout",
          "text": [
            "Processed raccoon-57.jpg and saved to output_images_folder/raccoon-57.jpg\n"
          ]
        },
        {
          "output_type": "stream",
          "name": "stderr",
          "text": [
            "image 1/1: 168x300 1 dog, 1 bear\n",
            "Speed: 3.7ms pre-process, 283.3ms inference, 1.2ms NMS per image at shape (1, 3, 384, 640)\n",
            "Saved 1 image to \u001b[1moutput_images_folder157\u001b[0m\n",
            "/root/.cache/torch/hub/ultralytics_yolov5_master/models/common.py:892: FutureWarning: `torch.cuda.amp.autocast(args...)` is deprecated. Please use `torch.amp.autocast('cuda', args...)` instead.\n",
            "  with amp.autocast(autocast):\n"
          ]
        },
        {
          "output_type": "stream",
          "name": "stdout",
          "text": [
            "Processed raccoon-44.jpg and saved to output_images_folder/raccoon-44.jpg\n"
          ]
        },
        {
          "output_type": "stream",
          "name": "stderr",
          "text": [
            "image 1/1: 484x860 1 bear\n",
            "Speed: 7.8ms pre-process, 272.1ms inference, 1.4ms NMS per image at shape (1, 3, 384, 640)\n",
            "Saved 1 image to \u001b[1moutput_images_folder158\u001b[0m\n",
            "/root/.cache/torch/hub/ultralytics_yolov5_master/models/common.py:892: FutureWarning: `torch.cuda.amp.autocast(args...)` is deprecated. Please use `torch.amp.autocast('cuda', args...)` instead.\n",
            "  with amp.autocast(autocast):\n"
          ]
        },
        {
          "output_type": "stream",
          "name": "stdout",
          "text": [
            "Processed raccoon-66.jpg and saved to output_images_folder/raccoon-66.jpg\n"
          ]
        },
        {
          "output_type": "stream",
          "name": "stderr",
          "text": [
            "image 1/1: 183x275 1 cat\n",
            "Speed: 5.4ms pre-process, 348.8ms inference, 1.6ms NMS per image at shape (1, 3, 448, 640)\n",
            "Saved 1 image to \u001b[1moutput_images_folder159\u001b[0m\n",
            "/root/.cache/torch/hub/ultralytics_yolov5_master/models/common.py:892: FutureWarning: `torch.cuda.amp.autocast(args...)` is deprecated. Please use `torch.amp.autocast('cuda', args...)` instead.\n",
            "  with amp.autocast(autocast):\n"
          ]
        },
        {
          "output_type": "stream",
          "name": "stdout",
          "text": [
            "Processed raccoon-50.jpg and saved to output_images_folder/raccoon-50.jpg\n"
          ]
        },
        {
          "output_type": "stream",
          "name": "stderr",
          "text": [
            "image 1/1: 533x800 1 bear\n",
            "Speed: 10.7ms pre-process, 352.3ms inference, 2.2ms NMS per image at shape (1, 3, 448, 640)\n",
            "Saved 1 image to \u001b[1moutput_images_folder160\u001b[0m\n",
            "/root/.cache/torch/hub/ultralytics_yolov5_master/models/common.py:892: FutureWarning: `torch.cuda.amp.autocast(args...)` is deprecated. Please use `torch.amp.autocast('cuda', args...)` instead.\n",
            "  with amp.autocast(autocast):\n"
          ]
        },
        {
          "output_type": "stream",
          "name": "stdout",
          "text": [
            "Processed raccoon-52.jpg and saved to output_images_folder/raccoon-52.jpg\n"
          ]
        },
        {
          "output_type": "stream",
          "name": "stderr",
          "text": [
            "image 1/1: 185x273 1 cat\n",
            "Speed: 5.1ms pre-process, 312.2ms inference, 1.5ms NMS per image at shape (1, 3, 448, 640)\n",
            "Saved 1 image to \u001b[1moutput_images_folder161\u001b[0m\n",
            "/root/.cache/torch/hub/ultralytics_yolov5_master/models/common.py:892: FutureWarning: `torch.cuda.amp.autocast(args...)` is deprecated. Please use `torch.amp.autocast('cuda', args...)` instead.\n",
            "  with amp.autocast(autocast):\n"
          ]
        },
        {
          "output_type": "stream",
          "name": "stdout",
          "text": [
            "Processed raccoon-60.jpg and saved to output_images_folder/raccoon-60.jpg\n"
          ]
        },
        {
          "output_type": "stream",
          "name": "stderr",
          "text": [
            "image 1/1: 360x480 1 dog, 1 frisbee, 1 cup, 1 chair\n",
            "Speed: 6.4ms pre-process, 346.3ms inference, 1.5ms NMS per image at shape (1, 3, 480, 640)\n",
            "Saved 1 image to \u001b[1moutput_images_folder162\u001b[0m\n",
            "/root/.cache/torch/hub/ultralytics_yolov5_master/models/common.py:892: FutureWarning: `torch.cuda.amp.autocast(args...)` is deprecated. Please use `torch.amp.autocast('cuda', args...)` instead.\n",
            "  with amp.autocast(autocast):\n"
          ]
        },
        {
          "output_type": "stream",
          "name": "stdout",
          "text": [
            "Processed raccoon-6.jpg and saved to output_images_folder/raccoon-6.jpg\n"
          ]
        },
        {
          "output_type": "stream",
          "name": "stderr",
          "text": [
            "image 1/1: 600x600 1 cat, 1 vase\n",
            "Speed: 9.0ms pre-process, 452.8ms inference, 4.6ms NMS per image at shape (1, 3, 640, 640)\n",
            "Saved 1 image to \u001b[1moutput_images_folder163\u001b[0m\n",
            "/root/.cache/torch/hub/ultralytics_yolov5_master/models/common.py:892: FutureWarning: `torch.cuda.amp.autocast(args...)` is deprecated. Please use `torch.amp.autocast('cuda', args...)` instead.\n",
            "  with amp.autocast(autocast):\n"
          ]
        },
        {
          "output_type": "stream",
          "name": "stdout",
          "text": [
            "Processed raccoon-59.jpg and saved to output_images_folder/raccoon-59.jpg\n"
          ]
        },
        {
          "output_type": "stream",
          "name": "stderr",
          "text": [
            "image 1/1: 372x620 1 bird, 1 bear, 1 sports ball\n",
            "Speed: 6.4ms pre-process, 269.4ms inference, 1.8ms NMS per image at shape (1, 3, 384, 640)\n",
            "Saved 1 image to \u001b[1moutput_images_folder164\u001b[0m\n",
            "/root/.cache/torch/hub/ultralytics_yolov5_master/models/common.py:892: FutureWarning: `torch.cuda.amp.autocast(args...)` is deprecated. Please use `torch.amp.autocast('cuda', args...)` instead.\n",
            "  with amp.autocast(autocast):\n"
          ]
        },
        {
          "output_type": "stream",
          "name": "stdout",
          "text": [
            "Processed raccoon-45.jpg and saved to output_images_folder/raccoon-45.jpg\n"
          ]
        },
        {
          "output_type": "stream",
          "name": "stderr",
          "text": [
            "image 1/1: 225x224 1 cat, 1 toothbrush\n",
            "Speed: 5.9ms pre-process, 467.2ms inference, 6.7ms NMS per image at shape (1, 3, 640, 640)\n",
            "Saved 1 image to \u001b[1moutput_images_folder165\u001b[0m\n",
            "/root/.cache/torch/hub/ultralytics_yolov5_master/models/common.py:892: FutureWarning: `torch.cuda.amp.autocast(args...)` is deprecated. Please use `torch.amp.autocast('cuda', args...)` instead.\n",
            "  with amp.autocast(autocast):\n"
          ]
        },
        {
          "output_type": "stream",
          "name": "stdout",
          "text": [
            "Processed raccoon-58.jpg and saved to output_images_folder/raccoon-58.jpg\n"
          ]
        },
        {
          "output_type": "stream",
          "name": "stderr",
          "text": [
            "image 1/1: 193x261 1 bear\n",
            "Speed: 4.9ms pre-process, 328.5ms inference, 1.4ms NMS per image at shape (1, 3, 480, 640)\n",
            "Saved 1 image to \u001b[1moutput_images_folder166\u001b[0m\n",
            "/root/.cache/torch/hub/ultralytics_yolov5_master/models/common.py:892: FutureWarning: `torch.cuda.amp.autocast(args...)` is deprecated. Please use `torch.amp.autocast('cuda', args...)` instead.\n",
            "  with amp.autocast(autocast):\n"
          ]
        },
        {
          "output_type": "stream",
          "name": "stdout",
          "text": [
            "Processed raccoon-48.jpg and saved to output_images_folder/raccoon-48.jpg\n"
          ]
        },
        {
          "output_type": "stream",
          "name": "stderr",
          "text": [
            "image 1/1: 246x205 1 sheep\n",
            "Speed: 4.4ms pre-process, 382.7ms inference, 1.5ms NMS per image at shape (1, 3, 640, 544)\n",
            "Saved 1 image to \u001b[1moutput_images_folder167\u001b[0m\n",
            "/root/.cache/torch/hub/ultralytics_yolov5_master/models/common.py:892: FutureWarning: `torch.cuda.amp.autocast(args...)` is deprecated. Please use `torch.amp.autocast('cuda', args...)` instead.\n",
            "  with amp.autocast(autocast):\n"
          ]
        },
        {
          "output_type": "stream",
          "name": "stdout",
          "text": [
            "Processed raccoon-69.jpg and saved to output_images_folder/raccoon-69.jpg\n"
          ]
        },
        {
          "output_type": "stream",
          "name": "stderr",
          "text": [
            "image 1/1: 339x602 1 cat\n",
            "Speed: 10.1ms pre-process, 278.5ms inference, 1.3ms NMS per image at shape (1, 3, 384, 640)\n",
            "Saved 1 image to \u001b[1moutput_images_folder168\u001b[0m\n",
            "/root/.cache/torch/hub/ultralytics_yolov5_master/models/common.py:892: FutureWarning: `torch.cuda.amp.autocast(args...)` is deprecated. Please use `torch.amp.autocast('cuda', args...)` instead.\n",
            "  with amp.autocast(autocast):\n"
          ]
        },
        {
          "output_type": "stream",
          "name": "stdout",
          "text": [
            "Processed raccoon-54.jpg and saved to output_images_folder/raccoon-54.jpg\n"
          ]
        },
        {
          "output_type": "stream",
          "name": "stderr",
          "text": [
            "image 1/1: 177x284 1 bear\n",
            "Speed: 5.4ms pre-process, 311.1ms inference, 1.5ms NMS per image at shape (1, 3, 416, 640)\n",
            "Saved 1 image to \u001b[1moutput_images_folder169\u001b[0m\n",
            "/root/.cache/torch/hub/ultralytics_yolov5_master/models/common.py:892: FutureWarning: `torch.cuda.amp.autocast(args...)` is deprecated. Please use `torch.amp.autocast('cuda', args...)` instead.\n",
            "  with amp.autocast(autocast):\n"
          ]
        },
        {
          "output_type": "stream",
          "name": "stdout",
          "text": [
            "Processed raccoon-73.jpg and saved to output_images_folder/raccoon-73.jpg\n"
          ]
        },
        {
          "output_type": "stream",
          "name": "stderr",
          "text": [
            "image 1/1: 426x640 1 dog, 1 bear\n",
            "Speed: 8.1ms pre-process, 386.1ms inference, 1.8ms NMS per image at shape (1, 3, 448, 640)\n",
            "Saved 1 image to \u001b[1moutput_images_folder170\u001b[0m\n",
            "/root/.cache/torch/hub/ultralytics_yolov5_master/models/common.py:892: FutureWarning: `torch.cuda.amp.autocast(args...)` is deprecated. Please use `torch.amp.autocast('cuda', args...)` instead.\n",
            "  with amp.autocast(autocast):\n"
          ]
        },
        {
          "output_type": "stream",
          "name": "stdout",
          "text": [
            "Processed raccoon-90.jpg and saved to output_images_folder/raccoon-90.jpg\n"
          ]
        },
        {
          "output_type": "stream",
          "name": "stderr",
          "text": [
            "image 1/1: 401x600 1 dog\n",
            "Speed: 7.5ms pre-process, 354.3ms inference, 1.9ms NMS per image at shape (1, 3, 448, 640)\n",
            "Saved 1 image to \u001b[1moutput_images_folder171\u001b[0m\n",
            "/root/.cache/torch/hub/ultralytics_yolov5_master/models/common.py:892: FutureWarning: `torch.cuda.amp.autocast(args...)` is deprecated. Please use `torch.amp.autocast('cuda', args...)` instead.\n",
            "  with amp.autocast(autocast):\n"
          ]
        },
        {
          "output_type": "stream",
          "name": "stdout",
          "text": [
            "Processed raccoon-86.jpg and saved to output_images_folder/raccoon-86.jpg\n"
          ]
        },
        {
          "output_type": "stream",
          "name": "stderr",
          "text": [
            "image 1/1: 420x560 2 bears\n",
            "Speed: 8.0ms pre-process, 381.4ms inference, 1.7ms NMS per image at shape (1, 3, 480, 640)\n",
            "Saved 1 image to \u001b[1moutput_images_folder172\u001b[0m\n",
            "/root/.cache/torch/hub/ultralytics_yolov5_master/models/common.py:892: FutureWarning: `torch.cuda.amp.autocast(args...)` is deprecated. Please use `torch.amp.autocast('cuda', args...)` instead.\n",
            "  with amp.autocast(autocast):\n"
          ]
        },
        {
          "output_type": "stream",
          "name": "stdout",
          "text": [
            "Processed raccoon-72.jpg and saved to output_images_folder/raccoon-72.jpg\n"
          ]
        },
        {
          "output_type": "stream",
          "name": "stderr",
          "text": [
            "image 1/1: 500x750 (no detections)\n",
            "Speed: 10.1ms pre-process, 342.7ms inference, 1.5ms NMS per image at shape (1, 3, 448, 640)\n",
            "Saved 1 image to \u001b[1moutput_images_folder173\u001b[0m\n",
            "/root/.cache/torch/hub/ultralytics_yolov5_master/models/common.py:892: FutureWarning: `torch.cuda.amp.autocast(args...)` is deprecated. Please use `torch.amp.autocast('cuda', args...)` instead.\n",
            "  with amp.autocast(autocast):\n"
          ]
        },
        {
          "output_type": "stream",
          "name": "stdout",
          "text": [
            "Processed raccoon-82.jpg and saved to output_images_folder/raccoon-82.jpg\n"
          ]
        },
        {
          "output_type": "stream",
          "name": "stderr",
          "text": [
            "image 1/1: 510x347 (no detections)\n",
            "Speed: 8.0ms pre-process, 371.8ms inference, 1.4ms NMS per image at shape (1, 3, 640, 448)\n",
            "Saved 1 image to \u001b[1moutput_images_folder174\u001b[0m\n",
            "/root/.cache/torch/hub/ultralytics_yolov5_master/models/common.py:892: FutureWarning: `torch.cuda.amp.autocast(args...)` is deprecated. Please use `torch.amp.autocast('cuda', args...)` instead.\n",
            "  with amp.autocast(autocast):\n"
          ]
        },
        {
          "output_type": "stream",
          "name": "stdout",
          "text": [
            "Processed raccoon-9.jpg and saved to output_images_folder/raccoon-9.jpg\n"
          ]
        },
        {
          "output_type": "stream",
          "name": "stderr",
          "text": [
            "image 1/1: 371x660 1 bear\n",
            "Speed: 7.1ms pre-process, 313.5ms inference, 1.5ms NMS per image at shape (1, 3, 384, 640)\n",
            "Saved 1 image to \u001b[1moutput_images_folder175\u001b[0m\n",
            "/root/.cache/torch/hub/ultralytics_yolov5_master/models/common.py:892: FutureWarning: `torch.cuda.amp.autocast(args...)` is deprecated. Please use `torch.amp.autocast('cuda', args...)` instead.\n",
            "  with amp.autocast(autocast):\n"
          ]
        },
        {
          "output_type": "stream",
          "name": "stdout",
          "text": [
            "Processed raccoon-83.jpg and saved to output_images_folder/raccoon-83.jpg\n"
          ]
        },
        {
          "output_type": "stream",
          "name": "stderr",
          "text": [
            "image 1/1: 375x500 1 cat, 2 bears\n",
            "Speed: 7.5ms pre-process, 364.4ms inference, 2.4ms NMS per image at shape (1, 3, 480, 640)\n",
            "Saved 1 image to \u001b[1moutput_images_folder176\u001b[0m\n",
            "/root/.cache/torch/hub/ultralytics_yolov5_master/models/common.py:892: FutureWarning: `torch.cuda.amp.autocast(args...)` is deprecated. Please use `torch.amp.autocast('cuda', args...)` instead.\n",
            "  with amp.autocast(autocast):\n"
          ]
        },
        {
          "output_type": "stream",
          "name": "stdout",
          "text": [
            "Processed raccoon-70.jpg and saved to output_images_folder/raccoon-70.jpg\n"
          ]
        },
        {
          "output_type": "stream",
          "name": "stderr",
          "text": [
            "image 1/1: 219x230 1 donut\n",
            "Speed: 5.5ms pre-process, 469.4ms inference, 4.8ms NMS per image at shape (1, 3, 640, 640)\n",
            "Saved 1 image to \u001b[1moutput_images_folder177\u001b[0m\n",
            "/root/.cache/torch/hub/ultralytics_yolov5_master/models/common.py:892: FutureWarning: `torch.cuda.amp.autocast(args...)` is deprecated. Please use `torch.amp.autocast('cuda', args...)` instead.\n",
            "  with amp.autocast(autocast):\n"
          ]
        },
        {
          "output_type": "stream",
          "name": "stdout",
          "text": [
            "Processed raccoon-96.jpg and saved to output_images_folder/raccoon-96.jpg\n"
          ]
        },
        {
          "output_type": "stream",
          "name": "stderr",
          "text": [
            "image 1/1: 640x640 1 bear\n",
            "Speed: 12.2ms pre-process, 464.9ms inference, 4.7ms NMS per image at shape (1, 3, 640, 640)\n",
            "Saved 1 image to \u001b[1moutput_images_folder178\u001b[0m\n",
            "/root/.cache/torch/hub/ultralytics_yolov5_master/models/common.py:892: FutureWarning: `torch.cuda.amp.autocast(args...)` is deprecated. Please use `torch.amp.autocast('cuda', args...)` instead.\n",
            "  with amp.autocast(autocast):\n"
          ]
        },
        {
          "output_type": "stream",
          "name": "stdout",
          "text": [
            "Processed raccoon-75.jpg and saved to output_images_folder/raccoon-75.jpg\n"
          ]
        },
        {
          "output_type": "stream",
          "name": "stderr",
          "text": [
            "image 1/1: 360x640 1 dog, 1 mouse\n",
            "Speed: 9.8ms pre-process, 320.7ms inference, 1.9ms NMS per image at shape (1, 3, 384, 640)\n",
            "Saved 1 image to \u001b[1moutput_images_folder179\u001b[0m\n",
            "/root/.cache/torch/hub/ultralytics_yolov5_master/models/common.py:892: FutureWarning: `torch.cuda.amp.autocast(args...)` is deprecated. Please use `torch.amp.autocast('cuda', args...)` instead.\n",
            "  with amp.autocast(autocast):\n"
          ]
        },
        {
          "output_type": "stream",
          "name": "stdout",
          "text": [
            "Processed raccoon-77.jpg and saved to output_images_folder/raccoon-77.jpg\n"
          ]
        },
        {
          "output_type": "stream",
          "name": "stderr",
          "text": [
            "image 1/1: 640x960 1 cat\n",
            "Speed: 13.5ms pre-process, 347.6ms inference, 2.0ms NMS per image at shape (1, 3, 448, 640)\n",
            "Saved 1 image to \u001b[1moutput_images_folder180\u001b[0m\n",
            "/root/.cache/torch/hub/ultralytics_yolov5_master/models/common.py:892: FutureWarning: `torch.cuda.amp.autocast(args...)` is deprecated. Please use `torch.amp.autocast('cuda', args...)` instead.\n",
            "  with amp.autocast(autocast):\n"
          ]
        },
        {
          "output_type": "stream",
          "name": "stdout",
          "text": [
            "Processed raccoon-92.jpg and saved to output_images_folder/raccoon-92.jpg\n"
          ]
        },
        {
          "output_type": "stream",
          "name": "stderr",
          "text": [
            "image 1/1: 194x259 1 bear\n",
            "Speed: 6.1ms pre-process, 373.3ms inference, 1.5ms NMS per image at shape (1, 3, 480, 640)\n",
            "Saved 1 image to \u001b[1moutput_images_folder181\u001b[0m\n",
            "/root/.cache/torch/hub/ultralytics_yolov5_master/models/common.py:892: FutureWarning: `torch.cuda.amp.autocast(args...)` is deprecated. Please use `torch.amp.autocast('cuda', args...)` instead.\n",
            "  with amp.autocast(autocast):\n"
          ]
        },
        {
          "output_type": "stream",
          "name": "stdout",
          "text": [
            "Processed raccoon-8.jpg and saved to output_images_folder/raccoon-8.jpg\n"
          ]
        },
        {
          "output_type": "stream",
          "name": "stderr",
          "text": [
            "image 1/1: 226x223 1 sheep\n",
            "Speed: 5.6ms pre-process, 734.3ms inference, 6.5ms NMS per image at shape (1, 3, 640, 640)\n",
            "Saved 1 image to \u001b[1moutput_images_folder182\u001b[0m\n",
            "/root/.cache/torch/hub/ultralytics_yolov5_master/models/common.py:892: FutureWarning: `torch.cuda.amp.autocast(args...)` is deprecated. Please use `torch.amp.autocast('cuda', args...)` instead.\n",
            "  with amp.autocast(autocast):\n"
          ]
        },
        {
          "output_type": "stream",
          "name": "stdout",
          "text": [
            "Processed raccoon-78.jpg and saved to output_images_folder/raccoon-78.jpg\n"
          ]
        },
        {
          "output_type": "stream",
          "name": "stderr",
          "text": [
            "image 1/1: 166x303 (no detections)\n",
            "Speed: 4.5ms pre-process, 373.0ms inference, 1.1ms NMS per image at shape (1, 3, 352, 640)\n",
            "Saved 1 image to \u001b[1moutput_images_folder183\u001b[0m\n",
            "/root/.cache/torch/hub/ultralytics_yolov5_master/models/common.py:892: FutureWarning: `torch.cuda.amp.autocast(args...)` is deprecated. Please use `torch.amp.autocast('cuda', args...)` instead.\n",
            "  with amp.autocast(autocast):\n"
          ]
        },
        {
          "output_type": "stream",
          "name": "stdout",
          "text": [
            "Processed raccoon-84.jpg and saved to output_images_folder/raccoon-84.jpg\n"
          ]
        },
        {
          "output_type": "stream",
          "name": "stderr",
          "text": [
            "image 1/1: 225x225 1 cat\n",
            "Speed: 7.2ms pre-process, 718.9ms inference, 7.6ms NMS per image at shape (1, 3, 640, 640)\n",
            "Saved 1 image to \u001b[1moutput_images_folder184\u001b[0m\n",
            "/root/.cache/torch/hub/ultralytics_yolov5_master/models/common.py:892: FutureWarning: `torch.cuda.amp.autocast(args...)` is deprecated. Please use `torch.amp.autocast('cuda', args...)` instead.\n",
            "  with amp.autocast(autocast):\n"
          ]
        },
        {
          "output_type": "stream",
          "name": "stdout",
          "text": [
            "Processed raccoon-76.jpg and saved to output_images_folder/raccoon-76.jpg\n"
          ]
        },
        {
          "output_type": "stream",
          "name": "stderr",
          "text": [
            "image 1/1: 467x700 1 bear\n",
            "Speed: 14.9ms pre-process, 559.9ms inference, 2.3ms NMS per image at shape (1, 3, 448, 640)\n",
            "Saved 1 image to \u001b[1moutput_images_folder185\u001b[0m\n",
            "/root/.cache/torch/hub/ultralytics_yolov5_master/models/common.py:892: FutureWarning: `torch.cuda.amp.autocast(args...)` is deprecated. Please use `torch.amp.autocast('cuda', args...)` instead.\n",
            "  with amp.autocast(autocast):\n"
          ]
        },
        {
          "output_type": "stream",
          "name": "stdout",
          "text": [
            "Processed raccoon-94.jpg and saved to output_images_folder/raccoon-94.jpg\n"
          ]
        },
        {
          "output_type": "stream",
          "name": "stderr",
          "text": [
            "image 1/1: 426x640 1 bear\n",
            "Speed: 9.8ms pre-process, 551.7ms inference, 2.4ms NMS per image at shape (1, 3, 448, 640)\n",
            "Saved 1 image to \u001b[1moutput_images_folder186\u001b[0m\n",
            "/root/.cache/torch/hub/ultralytics_yolov5_master/models/common.py:892: FutureWarning: `torch.cuda.amp.autocast(args...)` is deprecated. Please use `torch.amp.autocast('cuda', args...)` instead.\n",
            "  with amp.autocast(autocast):\n"
          ]
        },
        {
          "output_type": "stream",
          "name": "stdout",
          "text": [
            "Processed raccoon-71.jpg and saved to output_images_folder/raccoon-71.jpg\n"
          ]
        },
        {
          "output_type": "stream",
          "name": "stderr",
          "text": [
            "image 1/1: 308x410 1 cat\n",
            "Speed: 8.7ms pre-process, 586.1ms inference, 4.5ms NMS per image at shape (1, 3, 480, 640)\n",
            "Saved 1 image to \u001b[1moutput_images_folder187\u001b[0m\n",
            "/root/.cache/torch/hub/ultralytics_yolov5_master/models/common.py:892: FutureWarning: `torch.cuda.amp.autocast(args...)` is deprecated. Please use `torch.amp.autocast('cuda', args...)` instead.\n",
            "  with amp.autocast(autocast):\n"
          ]
        },
        {
          "output_type": "stream",
          "name": "stdout",
          "text": [
            "Processed raccoon-7.jpg and saved to output_images_folder/raccoon-7.jpg\n"
          ]
        },
        {
          "output_type": "stream",
          "name": "stderr",
          "text": [
            "image 1/1: 228x252 1 cat, 1 dog\n",
            "Speed: 9.3ms pre-process, 714.5ms inference, 7.0ms NMS per image at shape (1, 3, 608, 640)\n",
            "Saved 1 image to \u001b[1moutput_images_folder188\u001b[0m\n",
            "/root/.cache/torch/hub/ultralytics_yolov5_master/models/common.py:892: FutureWarning: `torch.cuda.amp.autocast(args...)` is deprecated. Please use `torch.amp.autocast('cuda', args...)` instead.\n",
            "  with amp.autocast(autocast):\n"
          ]
        },
        {
          "output_type": "stream",
          "name": "stdout",
          "text": [
            "Processed raccoon-99.jpg and saved to output_images_folder/raccoon-99.jpg\n"
          ]
        },
        {
          "output_type": "stream",
          "name": "stderr",
          "text": [
            "image 1/1: 465x620 1 cat, 2 bears\n",
            "Speed: 12.0ms pre-process, 544.0ms inference, 2.2ms NMS per image at shape (1, 3, 480, 640)\n",
            "Saved 1 image to \u001b[1moutput_images_folder189\u001b[0m\n",
            "/root/.cache/torch/hub/ultralytics_yolov5_master/models/common.py:892: FutureWarning: `torch.cuda.amp.autocast(args...)` is deprecated. Please use `torch.amp.autocast('cuda', args...)` instead.\n",
            "  with amp.autocast(autocast):\n"
          ]
        },
        {
          "output_type": "stream",
          "name": "stdout",
          "text": [
            "Processed raccoon-85.jpg and saved to output_images_folder/raccoon-85.jpg\n"
          ]
        },
        {
          "output_type": "stream",
          "name": "stderr",
          "text": [
            "image 1/1: 400x320 1 bear\n",
            "Speed: 6.9ms pre-process, 580.1ms inference, 2.1ms NMS per image at shape (1, 3, 640, 512)\n",
            "Saved 1 image to \u001b[1moutput_images_folder190\u001b[0m\n",
            "/root/.cache/torch/hub/ultralytics_yolov5_master/models/common.py:892: FutureWarning: `torch.cuda.amp.autocast(args...)` is deprecated. Please use `torch.amp.autocast('cuda', args...)` instead.\n",
            "  with amp.autocast(autocast):\n"
          ]
        },
        {
          "output_type": "stream",
          "name": "stdout",
          "text": [
            "Processed raccoon-95.jpg and saved to output_images_folder/raccoon-95.jpg\n"
          ]
        },
        {
          "output_type": "stream",
          "name": "stderr",
          "text": [
            "image 1/1: 393x500 1 dog, 1 bear\n",
            "Speed: 9.2ms pre-process, 421.5ms inference, 1.7ms NMS per image at shape (1, 3, 512, 640)\n",
            "Saved 1 image to \u001b[1moutput_images_folder191\u001b[0m\n",
            "/root/.cache/torch/hub/ultralytics_yolov5_master/models/common.py:892: FutureWarning: `torch.cuda.amp.autocast(args...)` is deprecated. Please use `torch.amp.autocast('cuda', args...)` instead.\n",
            "  with amp.autocast(autocast):\n"
          ]
        },
        {
          "output_type": "stream",
          "name": "stdout",
          "text": [
            "Processed raccoon-97.jpg and saved to output_images_folder/raccoon-97.jpg\n"
          ]
        },
        {
          "output_type": "stream",
          "name": "stderr",
          "text": [
            "image 1/1: 197x256 1 cat\n",
            "Speed: 6.3ms pre-process, 428.2ms inference, 1.8ms NMS per image at shape (1, 3, 512, 640)\n",
            "Saved 1 image to \u001b[1moutput_images_folder192\u001b[0m\n",
            "/root/.cache/torch/hub/ultralytics_yolov5_master/models/common.py:892: FutureWarning: `torch.cuda.amp.autocast(args...)` is deprecated. Please use `torch.amp.autocast('cuda', args...)` instead.\n",
            "  with amp.autocast(autocast):\n"
          ]
        },
        {
          "output_type": "stream",
          "name": "stdout",
          "text": [
            "Processed raccoon-87.jpg and saved to output_images_folder/raccoon-87.jpg\n"
          ]
        },
        {
          "output_type": "stream",
          "name": "stderr",
          "text": [
            "image 1/1: 201x251 1 cat\n",
            "Speed: 5.3ms pre-process, 401.6ms inference, 2.0ms NMS per image at shape (1, 3, 512, 640)\n",
            "Saved 1 image to \u001b[1moutput_images_folder193\u001b[0m\n",
            "/root/.cache/torch/hub/ultralytics_yolov5_master/models/common.py:892: FutureWarning: `torch.cuda.amp.autocast(args...)` is deprecated. Please use `torch.amp.autocast('cuda', args...)` instead.\n",
            "  with amp.autocast(autocast):\n"
          ]
        },
        {
          "output_type": "stream",
          "name": "stdout",
          "text": [
            "Processed raccoon-93.jpg and saved to output_images_folder/raccoon-93.jpg\n"
          ]
        },
        {
          "output_type": "stream",
          "name": "stderr",
          "text": [
            "image 1/1: 225x225 (no detections)\n",
            "Speed: 5.7ms pre-process, 492.6ms inference, 4.0ms NMS per image at shape (1, 3, 640, 640)\n",
            "Saved 1 image to \u001b[1moutput_images_folder194\u001b[0m\n",
            "/root/.cache/torch/hub/ultralytics_yolov5_master/models/common.py:892: FutureWarning: `torch.cuda.amp.autocast(args...)` is deprecated. Please use `torch.amp.autocast('cuda', args...)` instead.\n",
            "  with amp.autocast(autocast):\n"
          ]
        },
        {
          "output_type": "stream",
          "name": "stdout",
          "text": [
            "Processed raccoon-80.jpg and saved to output_images_folder/raccoon-80.jpg\n"
          ]
        },
        {
          "output_type": "stream",
          "name": "stderr",
          "text": [
            "image 1/1: 194x259 1 cat\n",
            "Speed: 6.0ms pre-process, 355.8ms inference, 1.5ms NMS per image at shape (1, 3, 480, 640)\n",
            "Saved 1 image to \u001b[1moutput_images_folder195\u001b[0m\n",
            "/root/.cache/torch/hub/ultralytics_yolov5_master/models/common.py:892: FutureWarning: `torch.cuda.amp.autocast(args...)` is deprecated. Please use `torch.amp.autocast('cuda', args...)` instead.\n",
            "  with amp.autocast(autocast):\n"
          ]
        },
        {
          "output_type": "stream",
          "name": "stdout",
          "text": [
            "Processed raccoon-89.jpg and saved to output_images_folder/raccoon-89.jpg\n"
          ]
        },
        {
          "output_type": "stream",
          "name": "stderr",
          "text": [
            "image 1/1: 314x236 1 sheep, 1 bear\n",
            "Speed: 6.8ms pre-process, 389.3ms inference, 1.5ms NMS per image at shape (1, 3, 640, 512)\n",
            "Saved 1 image to \u001b[1moutput_images_folder196\u001b[0m\n",
            "/root/.cache/torch/hub/ultralytics_yolov5_master/models/common.py:892: FutureWarning: `torch.cuda.amp.autocast(args...)` is deprecated. Please use `torch.amp.autocast('cuda', args...)` instead.\n",
            "  with amp.autocast(autocast):\n"
          ]
        },
        {
          "output_type": "stream",
          "name": "stdout",
          "text": [
            "Processed raccoon-91.jpg and saved to output_images_folder/raccoon-91.jpg\n"
          ]
        },
        {
          "output_type": "stream",
          "name": "stderr",
          "text": [
            "image 1/1: 533x800 1 bear\n",
            "Speed: 15.0ms pre-process, 325.4ms inference, 1.4ms NMS per image at shape (1, 3, 448, 640)\n",
            "Saved 1 image to \u001b[1moutput_images_folder197\u001b[0m\n",
            "/root/.cache/torch/hub/ultralytics_yolov5_master/models/common.py:892: FutureWarning: `torch.cuda.amp.autocast(args...)` is deprecated. Please use `torch.amp.autocast('cuda', args...)` instead.\n",
            "  with amp.autocast(autocast):\n"
          ]
        },
        {
          "output_type": "stream",
          "name": "stdout",
          "text": [
            "Processed raccoon-74.jpg and saved to output_images_folder/raccoon-74.jpg\n"
          ]
        },
        {
          "output_type": "stream",
          "name": "stderr",
          "text": [
            "image 1/1: 480x640 1 bear\n",
            "Speed: 10.8ms pre-process, 363.0ms inference, 1.6ms NMS per image at shape (1, 3, 480, 640)\n",
            "Saved 1 image to \u001b[1moutput_images_folder198\u001b[0m\n",
            "/root/.cache/torch/hub/ultralytics_yolov5_master/models/common.py:892: FutureWarning: `torch.cuda.amp.autocast(args...)` is deprecated. Please use `torch.amp.autocast('cuda', args...)` instead.\n",
            "  with amp.autocast(autocast):\n"
          ]
        },
        {
          "output_type": "stream",
          "name": "stdout",
          "text": [
            "Processed raccoon-88.jpg and saved to output_images_folder/raccoon-88.jpg\n"
          ]
        },
        {
          "output_type": "stream",
          "name": "stderr",
          "text": [
            "image 1/1: 425x640 1 bear\n",
            "Speed: 7.7ms pre-process, 394.8ms inference, 1.7ms NMS per image at shape (1, 3, 448, 640)\n",
            "Saved 1 image to \u001b[1moutput_images_folder199\u001b[0m\n",
            "/root/.cache/torch/hub/ultralytics_yolov5_master/models/common.py:892: FutureWarning: `torch.cuda.amp.autocast(args...)` is deprecated. Please use `torch.amp.autocast('cuda', args...)` instead.\n",
            "  with amp.autocast(autocast):\n"
          ]
        },
        {
          "output_type": "stream",
          "name": "stdout",
          "text": [
            "Processed raccoon-79.jpg and saved to output_images_folder/raccoon-79.jpg\n"
          ]
        },
        {
          "output_type": "stream",
          "name": "stderr",
          "text": [
            "image 1/1: 360x480 1 bowl\n",
            "Speed: 7.3ms pre-process, 372.2ms inference, 1.7ms NMS per image at shape (1, 3, 480, 640)\n",
            "Saved 1 image to \u001b[1moutput_images_folder200\u001b[0m\n",
            "/root/.cache/torch/hub/ultralytics_yolov5_master/models/common.py:892: FutureWarning: `torch.cuda.amp.autocast(args...)` is deprecated. Please use `torch.amp.autocast('cuda', args...)` instead.\n",
            "  with amp.autocast(autocast):\n"
          ]
        },
        {
          "output_type": "stream",
          "name": "stdout",
          "text": [
            "Processed raccoon-98.jpg and saved to output_images_folder/raccoon-98.jpg\n"
          ]
        },
        {
          "output_type": "stream",
          "name": "stderr",
          "text": [
            "image 1/1: 450x600 1 bear\n",
            "Speed: 8.7ms pre-process, 383.7ms inference, 1.8ms NMS per image at shape (1, 3, 480, 640)\n",
            "Saved 1 image to \u001b[1moutput_images_folder201\u001b[0m\n"
          ]
        },
        {
          "output_type": "stream",
          "name": "stdout",
          "text": [
            "Processed raccoon-81.jpg and saved to output_images_folder/raccoon-81.jpg\n",
            "Object detection complete for all images.\n"
          ]
        }
      ]
    },
    {
      "cell_type": "code",
      "source": [
        "import pandas as pd\n",
        "import os\n",
        "\n",
        "def convert_csv_to_yolo(csv_file, images_dir, output_dir):\n",
        "    df = pd.read_csv(csv_file)\n",
        "    class_mapping = {cls: idx for idx, cls in enumerate(df['class'].unique())}\n",
        "\n",
        "    if not os.path.exists(output_dir):\n",
        "        os.makedirs(output_dir)\n",
        "\n",
        "    for _, row in df.iterrows():\n",
        "        image_file = row['filename']\n",
        "        class_id = class_mapping[row['class']]\n",
        "        xmin, ymin, xmax, ymax = row['xmin'], row['ymin'], row['xmax'], row['ymax']\n",
        "\n",
        "        # Convert to YOLO format\n",
        "        width = xmax - xmin\n",
        "        height = ymax - ymin\n",
        "        x_center = xmin + width / 2\n",
        "        y_center = ymin + height / 2\n",
        "\n",
        "        # Normalize values\n",
        "        image_path = os.path.join(images_dir, image_file)\n",
        "        img = Image.open(image_path)\n",
        "        img_width, img_height = img.size\n",
        "        x_center /= img_width\n",
        "        y_center /= img_height\n",
        "        width /= img_width\n",
        "        height /= img_height\n",
        "\n",
        "        # Write YOLO format annotation\n",
        "        txt_file = os.path.join(output_dir, os.path.splitext(image_file)[0] + '.txt')\n",
        "        with open(txt_file, 'a') as f:\n",
        "            f.write(f\"{class_id} {x_center} {y_center} {width} {height}\\n\")\n",
        "\n",
        "convert_csv_to_yolo('/content/drive/MyDrive/Racoon Images/train_labels_.csv', '/content/drive/MyDrive/Racoon Images/images/', 'labels_yolo/')\n",
        "\n"
      ],
      "metadata": {
        "id": "je6ZmHLdwSnA"
      },
      "execution_count": 12,
      "outputs": []
    },
    {
      "cell_type": "code",
      "source": [
        "import torch\n",
        "import os\n",
        "from PIL import Image\n",
        "\n",
        "# Load the pre-trained YOLOv5 model\n",
        "model = torch.hub.load('ultralytics/yolov5', 'yolov5s')  # Load YOLOv5 small pre-trained model\n",
        "\n",
        "# Path to your raccoon images folder\n",
        "images_folder = '/content/drive/MyDrive/Racoon Images/images'  # Replace with the actual path\n",
        "output_folder = '/content/output_images_folder'  # Folder to save output images with detections\n",
        "\n",
        "# Create the output folder if it doesn't exist\n",
        "os.makedirs(output_folder, exist_ok=True)\n",
        "\n",
        "# Loop through all images in the folder\n",
        "for image_name in os.listdir(images_folder):\n",
        "    if image_name.endswith(('.jpg', '.jpeg', '.png')):  # Check for image files\n",
        "        image_path = os.path.join(images_folder, image_name)\n",
        "\n",
        "        # Load the image\n",
        "        img = Image.open(image_path)\n",
        "\n",
        "        # Perform object detection\n",
        "        results = model(img)\n",
        "\n",
        "        # Print detection results\n",
        "        results.print()\n",
        "\n",
        "        # Save output image with bounding boxes\n",
        "        output_image_path = os.path.join(output_folder, image_name)\n",
        "        results.save(save_dir=output_folder)\n",
        "\n",
        "        print(f\"Processed {image_name} and saved to {output_image_path}\")\n",
        "\n",
        "print(\"Object detection complete for all images.\")\n"
      ],
      "metadata": {
        "id": "PcWKcBkdwx-4",
        "colab": {
          "base_uri": "https://localhost:8080/"
        },
        "outputId": "7e657c5d-115b-461d-dc68-1bcdf1b51420"
      },
      "execution_count": 13,
      "outputs": [
        {
          "output_type": "stream",
          "name": "stderr",
          "text": [
            "Using cache found in /root/.cache/torch/hub/ultralytics_yolov5_master\n",
            "YOLOv5 🚀 2024-9-13 Python-3.10.12 torch-2.4.0+cu121 CPU\n",
            "\n",
            "Fusing layers... \n",
            "YOLOv5s summary: 213 layers, 7225885 parameters, 0 gradients, 16.4 GFLOPs\n",
            "Adding AutoShape... \n",
            "/root/.cache/torch/hub/ultralytics_yolov5_master/models/common.py:892: FutureWarning: `torch.cuda.amp.autocast(args...)` is deprecated. Please use `torch.amp.autocast('cuda', args...)` instead.\n",
            "  with amp.autocast(autocast):\n",
            "image 1/1: 304x600 1 person, 1 dog, 1 potted plant, 1 bed\n",
            "Speed: 7.6ms pre-process, 250.2ms inference, 1.5ms NMS per image at shape (1, 3, 352, 640)\n",
            "Saved 1 image to \u001b[1m/content/output_images_folder202\u001b[0m\n",
            "/root/.cache/torch/hub/ultralytics_yolov5_master/models/common.py:892: FutureWarning: `torch.cuda.amp.autocast(args...)` is deprecated. Please use `torch.amp.autocast('cuda', args...)` instead.\n",
            "  with amp.autocast(autocast):\n"
          ]
        },
        {
          "output_type": "stream",
          "name": "stdout",
          "text": [
            "Processed raccoon-104.jpg and saved to /content/output_images_folder/raccoon-104.jpg\n"
          ]
        },
        {
          "output_type": "stream",
          "name": "stderr",
          "text": [
            "image 1/1: 640x426 1 bear\n",
            "Speed: 7.8ms pre-process, 333.8ms inference, 1.5ms NMS per image at shape (1, 3, 640, 448)\n",
            "Saved 1 image to \u001b[1m/content/output_images_folder203\u001b[0m\n",
            "/root/.cache/torch/hub/ultralytics_yolov5_master/models/common.py:892: FutureWarning: `torch.cuda.amp.autocast(args...)` is deprecated. Please use `torch.amp.autocast('cuda', args...)` instead.\n",
            "  with amp.autocast(autocast):\n"
          ]
        },
        {
          "output_type": "stream",
          "name": "stdout",
          "text": [
            "Processed raccoon-115.jpg and saved to /content/output_images_folder/raccoon-115.jpg\n"
          ]
        },
        {
          "output_type": "stream",
          "name": "stderr",
          "text": [
            "image 1/1: 960x720 1 person\n",
            "Speed: 68.8ms pre-process, 555.8ms inference, 2.1ms NMS per image at shape (1, 3, 640, 480)\n",
            "Saved 1 image to \u001b[1m/content/output_images_folder204\u001b[0m\n",
            "/root/.cache/torch/hub/ultralytics_yolov5_master/models/common.py:892: FutureWarning: `torch.cuda.amp.autocast(args...)` is deprecated. Please use `torch.amp.autocast('cuda', args...)` instead.\n",
            "  with amp.autocast(autocast):\n"
          ]
        },
        {
          "output_type": "stream",
          "name": "stdout",
          "text": [
            "Processed raccoon-105.jpg and saved to /content/output_images_folder/raccoon-105.jpg\n"
          ]
        },
        {
          "output_type": "stream",
          "name": "stderr",
          "text": [
            "image 1/1: 426x640 1 bear\n",
            "Speed: 9.8ms pre-process, 468.5ms inference, 8.6ms NMS per image at shape (1, 3, 448, 640)\n",
            "Saved 1 image to \u001b[1m/content/output_images_folder205\u001b[0m\n",
            "/root/.cache/torch/hub/ultralytics_yolov5_master/models/common.py:892: FutureWarning: `torch.cuda.amp.autocast(args...)` is deprecated. Please use `torch.amp.autocast('cuda', args...)` instead.\n",
            "  with amp.autocast(autocast):\n"
          ]
        },
        {
          "output_type": "stream",
          "name": "stdout",
          "text": [
            "Processed raccoon-101.jpg and saved to /content/output_images_folder/raccoon-101.jpg\n"
          ]
        },
        {
          "output_type": "stream",
          "name": "stderr",
          "text": [
            "image 1/1: 274x184 (no detections)\n",
            "Speed: 6.6ms pre-process, 551.1ms inference, 1.5ms NMS per image at shape (1, 3, 640, 448)\n",
            "Saved 1 image to \u001b[1m/content/output_images_folder206\u001b[0m\n",
            "/root/.cache/torch/hub/ultralytics_yolov5_master/models/common.py:892: FutureWarning: `torch.cuda.amp.autocast(args...)` is deprecated. Please use `torch.amp.autocast('cuda', args...)` instead.\n",
            "  with amp.autocast(autocast):\n"
          ]
        },
        {
          "output_type": "stream",
          "name": "stdout",
          "text": [
            "Processed raccoon-110.jpg and saved to /content/output_images_folder/raccoon-110.jpg\n"
          ]
        },
        {
          "output_type": "stream",
          "name": "stderr",
          "text": [
            "image 1/1: 371x660 1 bear\n",
            "Speed: 8.1ms pre-process, 421.4ms inference, 2.2ms NMS per image at shape (1, 3, 384, 640)\n",
            "Saved 1 image to \u001b[1m/content/output_images_folder207\u001b[0m\n",
            "/root/.cache/torch/hub/ultralytics_yolov5_master/models/common.py:892: FutureWarning: `torch.cuda.amp.autocast(args...)` is deprecated. Please use `torch.amp.autocast('cuda', args...)` instead.\n",
            "  with amp.autocast(autocast):\n"
          ]
        },
        {
          "output_type": "stream",
          "name": "stdout",
          "text": [
            "Processed raccoon-120.jpg and saved to /content/output_images_folder/raccoon-120.jpg\n"
          ]
        },
        {
          "output_type": "stream",
          "name": "stderr",
          "text": [
            "image 1/1: 533x400 1 bear\n",
            "Speed: 15.1ms pre-process, 523.7ms inference, 2.2ms NMS per image at shape (1, 3, 640, 480)\n",
            "Saved 1 image to \u001b[1m/content/output_images_folder208\u001b[0m\n",
            "/root/.cache/torch/hub/ultralytics_yolov5_master/models/common.py:892: FutureWarning: `torch.cuda.amp.autocast(args...)` is deprecated. Please use `torch.amp.autocast('cuda', args...)` instead.\n",
            "  with amp.autocast(autocast):\n"
          ]
        },
        {
          "output_type": "stream",
          "name": "stdout",
          "text": [
            "Processed raccoon-119.jpg and saved to /content/output_images_folder/raccoon-119.jpg\n"
          ]
        },
        {
          "output_type": "stream",
          "name": "stderr",
          "text": [
            "image 1/1: 576x960 1 person\n",
            "Speed: 13.8ms pre-process, 427.1ms inference, 1.9ms NMS per image at shape (1, 3, 384, 640)\n",
            "Saved 1 image to \u001b[1m/content/output_images_folder209\u001b[0m\n",
            "/root/.cache/torch/hub/ultralytics_yolov5_master/models/common.py:892: FutureWarning: `torch.cuda.amp.autocast(args...)` is deprecated. Please use `torch.amp.autocast('cuda', args...)` instead.\n",
            "  with amp.autocast(autocast):\n"
          ]
        },
        {
          "output_type": "stream",
          "name": "stdout",
          "text": [
            "Processed raccoon-100.jpg and saved to /content/output_images_folder/raccoon-100.jpg\n"
          ]
        },
        {
          "output_type": "stream",
          "name": "stderr",
          "text": [
            "image 1/1: 481x604 1 person, 1 dog, 1 surfboard, 1 mouse, 1 clock\n",
            "Speed: 11.1ms pre-process, 555.6ms inference, 4.2ms NMS per image at shape (1, 3, 512, 640)\n",
            "Saved 1 image to \u001b[1m/content/output_images_folder210\u001b[0m\n",
            "/root/.cache/torch/hub/ultralytics_yolov5_master/models/common.py:892: FutureWarning: `torch.cuda.amp.autocast(args...)` is deprecated. Please use `torch.amp.autocast('cuda', args...)` instead.\n",
            "  with amp.autocast(autocast):\n"
          ]
        },
        {
          "output_type": "stream",
          "name": "stdout",
          "text": [
            "Processed raccoon-108.jpg and saved to /content/output_images_folder/raccoon-108.jpg\n"
          ]
        },
        {
          "output_type": "stream",
          "name": "stderr",
          "text": [
            "image 1/1: 399x600 (no detections)\n",
            "Speed: 8.0ms pre-process, 521.9ms inference, 1.6ms NMS per image at shape (1, 3, 448, 640)\n",
            "Saved 1 image to \u001b[1m/content/output_images_folder211\u001b[0m\n",
            "/root/.cache/torch/hub/ultralytics_yolov5_master/models/common.py:892: FutureWarning: `torch.cuda.amp.autocast(args...)` is deprecated. Please use `torch.amp.autocast('cuda', args...)` instead.\n",
            "  with amp.autocast(autocast):\n"
          ]
        },
        {
          "output_type": "stream",
          "name": "stdout",
          "text": [
            "Processed raccoon-121.jpg and saved to /content/output_images_folder/raccoon-121.jpg\n"
          ]
        },
        {
          "output_type": "stream",
          "name": "stderr",
          "text": [
            "image 1/1: 574x800 1 cat\n",
            "Speed: 14.9ms pre-process, 535.6ms inference, 5.6ms NMS per image at shape (1, 3, 480, 640)\n",
            "Saved 1 image to \u001b[1m/content/output_images_folder212\u001b[0m\n",
            "/root/.cache/torch/hub/ultralytics_yolov5_master/models/common.py:892: FutureWarning: `torch.cuda.amp.autocast(args...)` is deprecated. Please use `torch.amp.autocast('cuda', args...)` instead.\n",
            "  with amp.autocast(autocast):\n"
          ]
        },
        {
          "output_type": "stream",
          "name": "stdout",
          "text": [
            "Processed raccoon-112.jpg and saved to /content/output_images_folder/raccoon-112.jpg\n"
          ]
        },
        {
          "output_type": "stream",
          "name": "stderr",
          "text": [
            "image 1/1: 640x480 1 bear\n",
            "Speed: 12.2ms pre-process, 586.4ms inference, 1.7ms NMS per image at shape (1, 3, 640, 480)\n",
            "Saved 1 image to \u001b[1m/content/output_images_folder213\u001b[0m\n",
            "/root/.cache/torch/hub/ultralytics_yolov5_master/models/common.py:892: FutureWarning: `torch.cuda.amp.autocast(args...)` is deprecated. Please use `torch.amp.autocast('cuda', args...)` instead.\n",
            "  with amp.autocast(autocast):\n"
          ]
        },
        {
          "output_type": "stream",
          "name": "stdout",
          "text": [
            "Processed raccoon-103.jpg and saved to /content/output_images_folder/raccoon-103.jpg\n"
          ]
        },
        {
          "output_type": "stream",
          "name": "stderr",
          "text": [
            "image 1/1: 418x625 1 person, 2 cats, 1 dog, 2 bowls\n",
            "Speed: 9.0ms pre-process, 504.7ms inference, 3.0ms NMS per image at shape (1, 3, 448, 640)\n",
            "Saved 1 image to \u001b[1m/content/output_images_folder214\u001b[0m\n",
            "/root/.cache/torch/hub/ultralytics_yolov5_master/models/common.py:892: FutureWarning: `torch.cuda.amp.autocast(args...)` is deprecated. Please use `torch.amp.autocast('cuda', args...)` instead.\n",
            "  with amp.autocast(autocast):\n"
          ]
        },
        {
          "output_type": "stream",
          "name": "stdout",
          "text": [
            "Processed raccoon-114.jpg and saved to /content/output_images_folder/raccoon-114.jpg\n"
          ]
        },
        {
          "output_type": "stream",
          "name": "stderr",
          "text": [
            "image 1/1: 495x450 1 dog\n",
            "Speed: 15.3ms pre-process, 515.8ms inference, 4.6ms NMS per image at shape (1, 3, 640, 608)\n",
            "Saved 1 image to \u001b[1m/content/output_images_folder215\u001b[0m\n",
            "/root/.cache/torch/hub/ultralytics_yolov5_master/models/common.py:892: FutureWarning: `torch.cuda.amp.autocast(args...)` is deprecated. Please use `torch.amp.autocast('cuda', args...)` instead.\n",
            "  with amp.autocast(autocast):\n"
          ]
        },
        {
          "output_type": "stream",
          "name": "stdout",
          "text": [
            "Processed raccoon-10.jpg and saved to /content/output_images_folder/raccoon-10.jpg\n"
          ]
        },
        {
          "output_type": "stream",
          "name": "stderr",
          "text": [
            "image 1/1: 417x650 1 bear\n",
            "Speed: 7.2ms pre-process, 333.4ms inference, 1.6ms NMS per image at shape (1, 3, 416, 640)\n",
            "Saved 1 image to \u001b[1m/content/output_images_folder216\u001b[0m\n",
            "/root/.cache/torch/hub/ultralytics_yolov5_master/models/common.py:892: FutureWarning: `torch.cuda.amp.autocast(args...)` is deprecated. Please use `torch.amp.autocast('cuda', args...)` instead.\n",
            "  with amp.autocast(autocast):\n"
          ]
        },
        {
          "output_type": "stream",
          "name": "stdout",
          "text": [
            "Processed raccoon-1.jpg and saved to /content/output_images_folder/raccoon-1.jpg\n"
          ]
        },
        {
          "output_type": "stream",
          "name": "stderr",
          "text": [
            "image 1/1: 297x448 1 cat, 2 apples\n",
            "Speed: 6.8ms pre-process, 381.7ms inference, 2.5ms NMS per image at shape (1, 3, 448, 640)\n",
            "Saved 1 image to \u001b[1m/content/output_images_folder217\u001b[0m\n",
            "/root/.cache/torch/hub/ultralytics_yolov5_master/models/common.py:892: FutureWarning: `torch.cuda.amp.autocast(args...)` is deprecated. Please use `torch.amp.autocast('cuda', args...)` instead.\n",
            "  with amp.autocast(autocast):\n"
          ]
        },
        {
          "output_type": "stream",
          "name": "stdout",
          "text": [
            "Processed raccoon-118.jpg and saved to /content/output_images_folder/raccoon-118.jpg\n"
          ]
        },
        {
          "output_type": "stream",
          "name": "stderr",
          "text": [
            "image 1/1: 194x259 1 cat\n",
            "Speed: 6.7ms pre-process, 363.1ms inference, 1.5ms NMS per image at shape (1, 3, 480, 640)\n",
            "Saved 1 image to \u001b[1m/content/output_images_folder218\u001b[0m\n",
            "/root/.cache/torch/hub/ultralytics_yolov5_master/models/common.py:892: FutureWarning: `torch.cuda.amp.autocast(args...)` is deprecated. Please use `torch.amp.autocast('cuda', args...)` instead.\n",
            "  with amp.autocast(autocast):\n"
          ]
        },
        {
          "output_type": "stream",
          "name": "stdout",
          "text": [
            "Processed raccoon-12.jpg and saved to /content/output_images_folder/raccoon-12.jpg\n"
          ]
        },
        {
          "output_type": "stream",
          "name": "stderr",
          "text": [
            "image 1/1: 259x192 1 dog\n",
            "Speed: 7.2ms pre-process, 368.4ms inference, 1.5ms NMS per image at shape (1, 3, 640, 480)\n",
            "Saved 1 image to \u001b[1m/content/output_images_folder219\u001b[0m\n",
            "/root/.cache/torch/hub/ultralytics_yolov5_master/models/common.py:892: FutureWarning: `torch.cuda.amp.autocast(args...)` is deprecated. Please use `torch.amp.autocast('cuda', args...)` instead.\n",
            "  with amp.autocast(autocast):\n"
          ]
        },
        {
          "output_type": "stream",
          "name": "stdout",
          "text": [
            "Processed raccoon-109.jpg and saved to /content/output_images_folder/raccoon-109.jpg\n"
          ]
        },
        {
          "output_type": "stream",
          "name": "stderr",
          "text": [
            "image 1/1: 622x500 1 dog, 1 mouse\n",
            "Speed: 10.4ms pre-process, 414.0ms inference, 4.5ms NMS per image at shape (1, 3, 640, 544)\n",
            "Saved 1 image to \u001b[1m/content/output_images_folder220\u001b[0m\n",
            "/root/.cache/torch/hub/ultralytics_yolov5_master/models/common.py:892: FutureWarning: `torch.cuda.amp.autocast(args...)` is deprecated. Please use `torch.amp.autocast('cuda', args...)` instead.\n",
            "  with amp.autocast(autocast):\n"
          ]
        },
        {
          "output_type": "stream",
          "name": "stdout",
          "text": [
            "Processed raccoon-107.jpg and saved to /content/output_images_folder/raccoon-107.jpg\n"
          ]
        },
        {
          "output_type": "stream",
          "name": "stderr",
          "text": [
            "image 1/1: 194x259 1 sheep\n",
            "Speed: 6.3ms pre-process, 380.4ms inference, 2.2ms NMS per image at shape (1, 3, 480, 640)\n",
            "Saved 1 image to \u001b[1m/content/output_images_folder221\u001b[0m\n",
            "/root/.cache/torch/hub/ultralytics_yolov5_master/models/common.py:892: FutureWarning: `torch.cuda.amp.autocast(args...)` is deprecated. Please use `torch.amp.autocast('cuda', args...)` instead.\n",
            "  with amp.autocast(autocast):\n"
          ]
        },
        {
          "output_type": "stream",
          "name": "stdout",
          "text": [
            "Processed raccoon-102.jpg and saved to /content/output_images_folder/raccoon-102.jpg\n"
          ]
        },
        {
          "output_type": "stream",
          "name": "stderr",
          "text": [
            "image 1/1: 432x660 1 dog\n",
            "Speed: 12.1ms pre-process, 446.9ms inference, 6.2ms NMS per image at shape (1, 3, 448, 640)\n",
            "Saved 1 image to \u001b[1m/content/output_images_folder222\u001b[0m\n",
            "/root/.cache/torch/hub/ultralytics_yolov5_master/models/common.py:892: FutureWarning: `torch.cuda.amp.autocast(args...)` is deprecated. Please use `torch.amp.autocast('cuda', args...)` instead.\n",
            "  with amp.autocast(autocast):\n"
          ]
        },
        {
          "output_type": "stream",
          "name": "stdout",
          "text": [
            "Processed raccoon-116.jpg and saved to /content/output_images_folder/raccoon-116.jpg\n"
          ]
        },
        {
          "output_type": "stream",
          "name": "stderr",
          "text": [
            "image 1/1: 448x640 2 bears\n",
            "Speed: 18.6ms pre-process, 556.7ms inference, 2.4ms NMS per image at shape (1, 3, 448, 640)\n",
            "Saved 1 image to \u001b[1m/content/output_images_folder223\u001b[0m\n",
            "/root/.cache/torch/hub/ultralytics_yolov5_master/models/common.py:892: FutureWarning: `torch.cuda.amp.autocast(args...)` is deprecated. Please use `torch.amp.autocast('cuda', args...)` instead.\n",
            "  with amp.autocast(autocast):\n"
          ]
        },
        {
          "output_type": "stream",
          "name": "stdout",
          "text": [
            "Processed raccoon-117.jpg and saved to /content/output_images_folder/raccoon-117.jpg\n"
          ]
        },
        {
          "output_type": "stream",
          "name": "stderr",
          "text": [
            "image 1/1: 432x660 1 dog\n",
            "Speed: 13.3ms pre-process, 553.1ms inference, 7.5ms NMS per image at shape (1, 3, 448, 640)\n",
            "Saved 1 image to \u001b[1m/content/output_images_folder224\u001b[0m\n",
            "/root/.cache/torch/hub/ultralytics_yolov5_master/models/common.py:892: FutureWarning: `torch.cuda.amp.autocast(args...)` is deprecated. Please use `torch.amp.autocast('cuda', args...)` instead.\n",
            "  with amp.autocast(autocast):\n"
          ]
        },
        {
          "output_type": "stream",
          "name": "stdout",
          "text": [
            "Processed raccoon-11.jpg and saved to /content/output_images_folder/raccoon-11.jpg\n"
          ]
        },
        {
          "output_type": "stream",
          "name": "stderr",
          "text": [
            "image 1/1: 283x178 1 cat\n",
            "Speed: 6.3ms pre-process, 518.1ms inference, 2.4ms NMS per image at shape (1, 3, 640, 416)\n",
            "Saved 1 image to \u001b[1m/content/output_images_folder225\u001b[0m\n",
            "/root/.cache/torch/hub/ultralytics_yolov5_master/models/common.py:892: FutureWarning: `torch.cuda.amp.autocast(args...)` is deprecated. Please use `torch.amp.autocast('cuda', args...)` instead.\n",
            "  with amp.autocast(autocast):\n"
          ]
        },
        {
          "output_type": "stream",
          "name": "stdout",
          "text": [
            "Processed raccoon-122.jpg and saved to /content/output_images_folder/raccoon-122.jpg\n"
          ]
        },
        {
          "output_type": "stream",
          "name": "stderr",
          "text": [
            "image 1/1: 480x640 1 bear\n",
            "Speed: 16.3ms pre-process, 559.8ms inference, 2.6ms NMS per image at shape (1, 3, 480, 640)\n",
            "Saved 1 image to \u001b[1m/content/output_images_folder226\u001b[0m\n",
            "/root/.cache/torch/hub/ultralytics_yolov5_master/models/common.py:892: FutureWarning: `torch.cuda.amp.autocast(args...)` is deprecated. Please use `torch.amp.autocast('cuda', args...)` instead.\n",
            "  with amp.autocast(autocast):\n"
          ]
        },
        {
          "output_type": "stream",
          "name": "stdout",
          "text": [
            "Processed raccoon-113.jpg and saved to /content/output_images_folder/raccoon-113.jpg\n"
          ]
        },
        {
          "output_type": "stream",
          "name": "stderr",
          "text": [
            "image 1/1: 187x269 (no detections)\n",
            "Speed: 7.1ms pre-process, 532.3ms inference, 1.2ms NMS per image at shape (1, 3, 448, 640)\n",
            "Saved 1 image to \u001b[1m/content/output_images_folder227\u001b[0m\n",
            "/root/.cache/torch/hub/ultralytics_yolov5_master/models/common.py:892: FutureWarning: `torch.cuda.amp.autocast(args...)` is deprecated. Please use `torch.amp.autocast('cuda', args...)` instead.\n",
            "  with amp.autocast(autocast):\n"
          ]
        },
        {
          "output_type": "stream",
          "name": "stdout",
          "text": [
            "Processed raccoon-106.jpg and saved to /content/output_images_folder/raccoon-106.jpg\n"
          ]
        },
        {
          "output_type": "stream",
          "name": "stderr",
          "text": [
            "image 1/1: 960x768 1 dog\n",
            "Speed: 25.6ms pre-process, 615.2ms inference, 5.7ms NMS per image at shape (1, 3, 640, 512)\n",
            "Saved 1 image to \u001b[1m/content/output_images_folder228\u001b[0m\n",
            "/root/.cache/torch/hub/ultralytics_yolov5_master/models/common.py:892: FutureWarning: `torch.cuda.amp.autocast(args...)` is deprecated. Please use `torch.amp.autocast('cuda', args...)` instead.\n",
            "  with amp.autocast(autocast):\n"
          ]
        },
        {
          "output_type": "stream",
          "name": "stdout",
          "text": [
            "Processed raccoon-111.jpg and saved to /content/output_images_folder/raccoon-111.jpg\n"
          ]
        },
        {
          "output_type": "stream",
          "name": "stderr",
          "text": [
            "image 1/1: 390x570 1 bear\n",
            "Speed: 8.3ms pre-process, 512.5ms inference, 4.6ms NMS per image at shape (1, 3, 448, 640)\n",
            "Saved 1 image to \u001b[1m/content/output_images_folder229\u001b[0m\n",
            "/root/.cache/torch/hub/ultralytics_yolov5_master/models/common.py:892: FutureWarning: `torch.cuda.amp.autocast(args...)` is deprecated. Please use `torch.amp.autocast('cuda', args...)` instead.\n",
            "  with amp.autocast(autocast):\n"
          ]
        },
        {
          "output_type": "stream",
          "name": "stdout",
          "text": [
            "Processed raccoon-144.jpg and saved to /content/output_images_folder/raccoon-144.jpg\n"
          ]
        },
        {
          "output_type": "stream",
          "name": "stderr",
          "text": [
            "image 1/1: 194x259 1 cat\n",
            "Speed: 8.3ms pre-process, 548.8ms inference, 3.6ms NMS per image at shape (1, 3, 480, 640)\n",
            "Saved 1 image to \u001b[1m/content/output_images_folder230\u001b[0m\n",
            "/root/.cache/torch/hub/ultralytics_yolov5_master/models/common.py:892: FutureWarning: `torch.cuda.amp.autocast(args...)` is deprecated. Please use `torch.amp.autocast('cuda', args...)` instead.\n",
            "  with amp.autocast(autocast):\n"
          ]
        },
        {
          "output_type": "stream",
          "name": "stdout",
          "text": [
            "Processed raccoon-138.jpg and saved to /content/output_images_folder/raccoon-138.jpg\n"
          ]
        },
        {
          "output_type": "stream",
          "name": "stderr",
          "text": [
            "image 1/1: 360x640 1 cat, 1 bed\n",
            "Speed: 7.6ms pre-process, 404.6ms inference, 1.2ms NMS per image at shape (1, 3, 384, 640)\n",
            "Saved 1 image to \u001b[1m/content/output_images_folder231\u001b[0m\n",
            "/root/.cache/torch/hub/ultralytics_yolov5_master/models/common.py:892: FutureWarning: `torch.cuda.amp.autocast(args...)` is deprecated. Please use `torch.amp.autocast('cuda', args...)` instead.\n",
            "  with amp.autocast(autocast):\n"
          ]
        },
        {
          "output_type": "stream",
          "name": "stdout",
          "text": [
            "Processed raccoon-15.jpg and saved to /content/output_images_folder/raccoon-15.jpg\n"
          ]
        },
        {
          "output_type": "stream",
          "name": "stderr",
          "text": [
            "image 1/1: 426x640 1 bear\n",
            "Speed: 9.0ms pre-process, 325.7ms inference, 4.9ms NMS per image at shape (1, 3, 448, 640)\n",
            "Saved 1 image to \u001b[1m/content/output_images_folder232\u001b[0m\n",
            "/root/.cache/torch/hub/ultralytics_yolov5_master/models/common.py:892: FutureWarning: `torch.cuda.amp.autocast(args...)` is deprecated. Please use `torch.amp.autocast('cuda', args...)` instead.\n",
            "  with amp.autocast(autocast):\n"
          ]
        },
        {
          "output_type": "stream",
          "name": "stdout",
          "text": [
            "Processed raccoon-135.jpg and saved to /content/output_images_folder/raccoon-135.jpg\n"
          ]
        },
        {
          "output_type": "stream",
          "name": "stderr",
          "text": [
            "image 1/1: 194x259 (no detections)\n",
            "Speed: 5.8ms pre-process, 354.8ms inference, 1.2ms NMS per image at shape (1, 3, 480, 640)\n",
            "Saved 1 image to \u001b[1m/content/output_images_folder233\u001b[0m\n",
            "/root/.cache/torch/hub/ultralytics_yolov5_master/models/common.py:892: FutureWarning: `torch.cuda.amp.autocast(args...)` is deprecated. Please use `torch.amp.autocast('cuda', args...)` instead.\n",
            "  with amp.autocast(autocast):\n"
          ]
        },
        {
          "output_type": "stream",
          "name": "stdout",
          "text": [
            "Processed raccoon-131.jpg and saved to /content/output_images_folder/raccoon-131.jpg\n"
          ]
        },
        {
          "output_type": "stream",
          "name": "stderr",
          "text": [
            "image 1/1: 419x650 1 cat\n",
            "Speed: 10.5ms pre-process, 290.5ms inference, 1.4ms NMS per image at shape (1, 3, 416, 640)\n",
            "Saved 1 image to \u001b[1m/content/output_images_folder234\u001b[0m\n",
            "/root/.cache/torch/hub/ultralytics_yolov5_master/models/common.py:892: FutureWarning: `torch.cuda.amp.autocast(args...)` is deprecated. Please use `torch.amp.autocast('cuda', args...)` instead.\n",
            "  with amp.autocast(autocast):\n"
          ]
        },
        {
          "output_type": "stream",
          "name": "stdout",
          "text": [
            "Processed raccoon-154.jpg and saved to /content/output_images_folder/raccoon-154.jpg\n"
          ]
        },
        {
          "output_type": "stream",
          "name": "stderr",
          "text": [
            "image 1/1: 195x259 1 cat\n",
            "Speed: 5.2ms pre-process, 425.0ms inference, 8.3ms NMS per image at shape (1, 3, 512, 640)\n",
            "Saved 1 image to \u001b[1m/content/output_images_folder235\u001b[0m\n",
            "/root/.cache/torch/hub/ultralytics_yolov5_master/models/common.py:892: FutureWarning: `torch.cuda.amp.autocast(args...)` is deprecated. Please use `torch.amp.autocast('cuda', args...)` instead.\n",
            "  with amp.autocast(autocast):\n"
          ]
        },
        {
          "output_type": "stream",
          "name": "stdout",
          "text": [
            "Processed raccoon-125.jpg and saved to /content/output_images_folder/raccoon-125.jpg\n"
          ]
        },
        {
          "output_type": "stream",
          "name": "stderr",
          "text": [
            "image 1/1: 194x259 1 dog\n",
            "Speed: 5.9ms pre-process, 609.8ms inference, 2.8ms NMS per image at shape (1, 3, 480, 640)\n",
            "Saved 1 image to \u001b[1m/content/output_images_folder236\u001b[0m\n",
            "/root/.cache/torch/hub/ultralytics_yolov5_master/models/common.py:892: FutureWarning: `torch.cuda.amp.autocast(args...)` is deprecated. Please use `torch.amp.autocast('cuda', args...)` instead.\n",
            "  with amp.autocast(autocast):\n"
          ]
        },
        {
          "output_type": "stream",
          "name": "stdout",
          "text": [
            "Processed raccoon-139.jpg and saved to /content/output_images_folder/raccoon-139.jpg\n"
          ]
        },
        {
          "output_type": "stream",
          "name": "stderr",
          "text": [
            "image 1/1: 406x640 1 bear\n",
            "Speed: 8.6ms pre-process, 489.1ms inference, 2.1ms NMS per image at shape (1, 3, 416, 640)\n",
            "Saved 1 image to \u001b[1m/content/output_images_folder237\u001b[0m\n",
            "/root/.cache/torch/hub/ultralytics_yolov5_master/models/common.py:892: FutureWarning: `torch.cuda.amp.autocast(args...)` is deprecated. Please use `torch.amp.autocast('cuda', args...)` instead.\n",
            "  with amp.autocast(autocast):\n"
          ]
        },
        {
          "output_type": "stream",
          "name": "stdout",
          "text": [
            "Processed raccoon-123.jpg and saved to /content/output_images_folder/raccoon-123.jpg\n"
          ]
        },
        {
          "output_type": "stream",
          "name": "stderr",
          "text": [
            "image 1/1: 197x256 (no detections)\n",
            "Speed: 6.7ms pre-process, 611.7ms inference, 6.5ms NMS per image at shape (1, 3, 512, 640)\n",
            "Saved 1 image to \u001b[1m/content/output_images_folder238\u001b[0m\n",
            "/root/.cache/torch/hub/ultralytics_yolov5_master/models/common.py:892: FutureWarning: `torch.cuda.amp.autocast(args...)` is deprecated. Please use `torch.amp.autocast('cuda', args...)` instead.\n",
            "  with amp.autocast(autocast):\n"
          ]
        },
        {
          "output_type": "stream",
          "name": "stdout",
          "text": [
            "Processed raccoon-136.jpg and saved to /content/output_images_folder/raccoon-136.jpg\n"
          ]
        },
        {
          "output_type": "stream",
          "name": "stderr",
          "text": [
            "image 1/1: 194x259 (no detections)\n",
            "Speed: 7.1ms pre-process, 575.5ms inference, 1.3ms NMS per image at shape (1, 3, 480, 640)\n",
            "Saved 1 image to \u001b[1m/content/output_images_folder239\u001b[0m\n",
            "/root/.cache/torch/hub/ultralytics_yolov5_master/models/common.py:892: FutureWarning: `torch.cuda.amp.autocast(args...)` is deprecated. Please use `torch.amp.autocast('cuda', args...)` instead.\n",
            "  with amp.autocast(autocast):\n"
          ]
        },
        {
          "output_type": "stream",
          "name": "stdout",
          "text": [
            "Processed raccoon-128.jpg and saved to /content/output_images_folder/raccoon-128.jpg\n"
          ]
        },
        {
          "output_type": "stream",
          "name": "stderr",
          "text": [
            "image 1/1: 202x249 1 mouse\n",
            "Speed: 10.1ms pre-process, 638.9ms inference, 6.4ms NMS per image at shape (1, 3, 544, 640)\n",
            "Saved 1 image to \u001b[1m/content/output_images_folder240\u001b[0m\n",
            "/root/.cache/torch/hub/ultralytics_yolov5_master/models/common.py:892: FutureWarning: `torch.cuda.amp.autocast(args...)` is deprecated. Please use `torch.amp.autocast('cuda', args...)` instead.\n",
            "  with amp.autocast(autocast):\n"
          ]
        },
        {
          "output_type": "stream",
          "name": "stdout",
          "text": [
            "Processed raccoon-141.jpg and saved to /content/output_images_folder/raccoon-141.jpg\n"
          ]
        },
        {
          "output_type": "stream",
          "name": "stderr",
          "text": [
            "image 1/1: 315x639 1 dog\n",
            "Speed: 10.9ms pre-process, 359.6ms inference, 2.1ms NMS per image at shape (1, 3, 320, 640)\n",
            "Saved 1 image to \u001b[1m/content/output_images_folder241\u001b[0m\n",
            "/root/.cache/torch/hub/ultralytics_yolov5_master/models/common.py:892: FutureWarning: `torch.cuda.amp.autocast(args...)` is deprecated. Please use `torch.amp.autocast('cuda', args...)` instead.\n",
            "  with amp.autocast(autocast):\n"
          ]
        },
        {
          "output_type": "stream",
          "name": "stdout",
          "text": [
            "Processed raccoon-129.jpg and saved to /content/output_images_folder/raccoon-129.jpg\n"
          ]
        },
        {
          "output_type": "stream",
          "name": "stderr",
          "text": [
            "image 1/1: 197x255 (no detections)\n",
            "Speed: 6.0ms pre-process, 589.7ms inference, 6.2ms NMS per image at shape (1, 3, 512, 640)\n",
            "Saved 1 image to \u001b[1m/content/output_images_folder242\u001b[0m\n",
            "/root/.cache/torch/hub/ultralytics_yolov5_master/models/common.py:892: FutureWarning: `torch.cuda.amp.autocast(args...)` is deprecated. Please use `torch.amp.autocast('cuda', args...)` instead.\n",
            "  with amp.autocast(autocast):\n"
          ]
        },
        {
          "output_type": "stream",
          "name": "stdout",
          "text": [
            "Processed raccoon-126.jpg and saved to /content/output_images_folder/raccoon-126.jpg\n"
          ]
        },
        {
          "output_type": "stream",
          "name": "stderr",
          "text": [
            "image 1/1: 194x259 1 cat, 1 toilet\n",
            "Speed: 5.3ms pre-process, 564.6ms inference, 2.1ms NMS per image at shape (1, 3, 480, 640)\n",
            "Saved 1 image to \u001b[1m/content/output_images_folder243\u001b[0m\n",
            "/root/.cache/torch/hub/ultralytics_yolov5_master/models/common.py:892: FutureWarning: `torch.cuda.amp.autocast(args...)` is deprecated. Please use `torch.amp.autocast('cuda', args...)` instead.\n",
            "  with amp.autocast(autocast):\n"
          ]
        },
        {
          "output_type": "stream",
          "name": "stdout",
          "text": [
            "Processed raccoon-124.jpg and saved to /content/output_images_folder/raccoon-124.jpg\n"
          ]
        },
        {
          "output_type": "stream",
          "name": "stderr",
          "text": [
            "image 1/1: 700x700 1 cat\n",
            "Speed: 22.0ms pre-process, 736.1ms inference, 6.4ms NMS per image at shape (1, 3, 640, 640)\n",
            "Saved 1 image to \u001b[1m/content/output_images_folder244\u001b[0m\n",
            "/root/.cache/torch/hub/ultralytics_yolov5_master/models/common.py:892: FutureWarning: `torch.cuda.amp.autocast(args...)` is deprecated. Please use `torch.amp.autocast('cuda', args...)` instead.\n",
            "  with amp.autocast(autocast):\n"
          ]
        },
        {
          "output_type": "stream",
          "name": "stdout",
          "text": [
            "Processed raccoon-153.jpg and saved to /content/output_images_folder/raccoon-153.jpg\n"
          ]
        },
        {
          "output_type": "stream",
          "name": "stderr",
          "text": [
            "image 1/1: 247x204 (no detections)\n",
            "Speed: 6.2ms pre-process, 437.8ms inference, 3.8ms NMS per image at shape (1, 3, 640, 544)\n",
            "Saved 1 image to \u001b[1m/content/output_images_folder245\u001b[0m\n",
            "/root/.cache/torch/hub/ultralytics_yolov5_master/models/common.py:892: FutureWarning: `torch.cuda.amp.autocast(args...)` is deprecated. Please use `torch.amp.autocast('cuda', args...)` instead.\n",
            "  with amp.autocast(autocast):\n"
          ]
        },
        {
          "output_type": "stream",
          "name": "stdout",
          "text": [
            "Processed raccoon-140.jpg and saved to /content/output_images_folder/raccoon-140.jpg\n"
          ]
        },
        {
          "output_type": "stream",
          "name": "stderr",
          "text": [
            "image 1/1: 375x500 (no detections)\n",
            "Speed: 5.8ms pre-process, 356.9ms inference, 1.1ms NMS per image at shape (1, 3, 480, 640)\n",
            "Saved 1 image to \u001b[1m/content/output_images_folder246\u001b[0m\n",
            "/root/.cache/torch/hub/ultralytics_yolov5_master/models/common.py:892: FutureWarning: `torch.cuda.amp.autocast(args...)` is deprecated. Please use `torch.amp.autocast('cuda', args...)` instead.\n",
            "  with amp.autocast(autocast):\n"
          ]
        },
        {
          "output_type": "stream",
          "name": "stdout",
          "text": [
            "Processed raccoon-149.jpg and saved to /content/output_images_folder/raccoon-149.jpg\n"
          ]
        },
        {
          "output_type": "stream",
          "name": "stderr",
          "text": [
            "image 1/1: 640x426 1 bear\n",
            "Speed: 7.5ms pre-process, 344.7ms inference, 3.6ms NMS per image at shape (1, 3, 640, 448)\n",
            "Saved 1 image to \u001b[1m/content/output_images_folder247\u001b[0m\n",
            "/root/.cache/torch/hub/ultralytics_yolov5_master/models/common.py:892: FutureWarning: `torch.cuda.amp.autocast(args...)` is deprecated. Please use `torch.amp.autocast('cuda', args...)` instead.\n",
            "  with amp.autocast(autocast):\n"
          ]
        },
        {
          "output_type": "stream",
          "name": "stdout",
          "text": [
            "Processed raccoon-147.jpg and saved to /content/output_images_folder/raccoon-147.jpg\n"
          ]
        },
        {
          "output_type": "stream",
          "name": "stderr",
          "text": [
            "image 1/1: 640x490 1 bear\n",
            "Speed: 11.3ms pre-process, 404.4ms inference, 1.3ms NMS per image at shape (1, 3, 640, 512)\n",
            "Saved 1 image to \u001b[1m/content/output_images_folder248\u001b[0m\n",
            "/root/.cache/torch/hub/ultralytics_yolov5_master/models/common.py:892: FutureWarning: `torch.cuda.amp.autocast(args...)` is deprecated. Please use `torch.amp.autocast('cuda', args...)` instead.\n",
            "  with amp.autocast(autocast):\n"
          ]
        },
        {
          "output_type": "stream",
          "name": "stdout",
          "text": [
            "Processed raccoon-133.jpg and saved to /content/output_images_folder/raccoon-133.jpg\n"
          ]
        },
        {
          "output_type": "stream",
          "name": "stderr",
          "text": [
            "image 1/1: 225x225 1 person, 1 car, 2 dogs\n",
            "Speed: 7.4ms pre-process, 469.4ms inference, 4.7ms NMS per image at shape (1, 3, 640, 640)\n",
            "Saved 1 image to \u001b[1m/content/output_images_folder249\u001b[0m\n",
            "/root/.cache/torch/hub/ultralytics_yolov5_master/models/common.py:892: FutureWarning: `torch.cuda.amp.autocast(args...)` is deprecated. Please use `torch.amp.autocast('cuda', args...)` instead.\n",
            "  with amp.autocast(autocast):\n"
          ]
        },
        {
          "output_type": "stream",
          "name": "stdout",
          "text": [
            "Processed raccoon-134.jpg and saved to /content/output_images_folder/raccoon-134.jpg\n"
          ]
        },
        {
          "output_type": "stream",
          "name": "stderr",
          "text": [
            "image 1/1: 183x275 1 dog\n",
            "Speed: 3.9ms pre-process, 358.6ms inference, 1.4ms NMS per image at shape (1, 3, 448, 640)\n",
            "Saved 1 image to \u001b[1m/content/output_images_folder250\u001b[0m\n",
            "/root/.cache/torch/hub/ultralytics_yolov5_master/models/common.py:892: FutureWarning: `torch.cuda.amp.autocast(args...)` is deprecated. Please use `torch.amp.autocast('cuda', args...)` instead.\n",
            "  with amp.autocast(autocast):\n"
          ]
        },
        {
          "output_type": "stream",
          "name": "stdout",
          "text": [
            "Processed raccoon-150.jpg and saved to /content/output_images_folder/raccoon-150.jpg\n"
          ]
        },
        {
          "output_type": "stream",
          "name": "stderr",
          "text": [
            "image 1/1: 183x275 1 train\n",
            "Speed: 5.5ms pre-process, 313.0ms inference, 1.5ms NMS per image at shape (1, 3, 448, 640)\n",
            "Saved 1 image to \u001b[1m/content/output_images_folder251\u001b[0m\n",
            "/root/.cache/torch/hub/ultralytics_yolov5_master/models/common.py:892: FutureWarning: `torch.cuda.amp.autocast(args...)` is deprecated. Please use `torch.amp.autocast('cuda', args...)` instead.\n",
            "  with amp.autocast(autocast):\n"
          ]
        },
        {
          "output_type": "stream",
          "name": "stdout",
          "text": [
            "Processed raccoon-152.jpg and saved to /content/output_images_folder/raccoon-152.jpg\n"
          ]
        },
        {
          "output_type": "stream",
          "name": "stderr",
          "text": [
            "image 1/1: 194x259 (no detections)\n",
            "Speed: 6.6ms pre-process, 361.4ms inference, 1.4ms NMS per image at shape (1, 3, 480, 640)\n",
            "Saved 1 image to \u001b[1m/content/output_images_folder252\u001b[0m\n",
            "/root/.cache/torch/hub/ultralytics_yolov5_master/models/common.py:892: FutureWarning: `torch.cuda.amp.autocast(args...)` is deprecated. Please use `torch.amp.autocast('cuda', args...)` instead.\n",
            "  with amp.autocast(autocast):\n"
          ]
        },
        {
          "output_type": "stream",
          "name": "stdout",
          "text": [
            "Processed raccoon-143.jpg and saved to /content/output_images_folder/raccoon-143.jpg\n"
          ]
        },
        {
          "output_type": "stream",
          "name": "stderr",
          "text": [
            "image 1/1: 194x259 1 cat\n",
            "Speed: 12.4ms pre-process, 417.8ms inference, 1.7ms NMS per image at shape (1, 3, 480, 640)\n",
            "Saved 1 image to \u001b[1m/content/output_images_folder253\u001b[0m\n",
            "/root/.cache/torch/hub/ultralytics_yolov5_master/models/common.py:892: FutureWarning: `torch.cuda.amp.autocast(args...)` is deprecated. Please use `torch.amp.autocast('cuda', args...)` instead.\n",
            "  with amp.autocast(autocast):\n"
          ]
        },
        {
          "output_type": "stream",
          "name": "stdout",
          "text": [
            "Processed raccoon-132.jpg and saved to /content/output_images_folder/raccoon-132.jpg\n"
          ]
        },
        {
          "output_type": "stream",
          "name": "stderr",
          "text": [
            "image 1/1: 450x600 1 dog\n",
            "Speed: 13.1ms pre-process, 385.3ms inference, 2.0ms NMS per image at shape (1, 3, 480, 640)\n",
            "Saved 1 image to \u001b[1m/content/output_images_folder254\u001b[0m\n",
            "/root/.cache/torch/hub/ultralytics_yolov5_master/models/common.py:892: FutureWarning: `torch.cuda.amp.autocast(args...)` is deprecated. Please use `torch.amp.autocast('cuda', args...)` instead.\n",
            "  with amp.autocast(autocast):\n"
          ]
        },
        {
          "output_type": "stream",
          "name": "stdout",
          "text": [
            "Processed raccoon-145.jpg and saved to /content/output_images_folder/raccoon-145.jpg\n"
          ]
        },
        {
          "output_type": "stream",
          "name": "stderr",
          "text": [
            "image 1/1: 199x253 3 cats, 1 dog, 2 bowls\n",
            "Speed: 5.3ms pre-process, 423.8ms inference, 4.4ms NMS per image at shape (1, 3, 512, 640)\n",
            "Saved 1 image to \u001b[1m/content/output_images_folder255\u001b[0m\n",
            "/root/.cache/torch/hub/ultralytics_yolov5_master/models/common.py:892: FutureWarning: `torch.cuda.amp.autocast(args...)` is deprecated. Please use `torch.amp.autocast('cuda', args...)` instead.\n",
            "  with amp.autocast(autocast):\n"
          ]
        },
        {
          "output_type": "stream",
          "name": "stdout",
          "text": [
            "Processed raccoon-127.jpg and saved to /content/output_images_folder/raccoon-127.jpg\n"
          ]
        },
        {
          "output_type": "stream",
          "name": "stderr",
          "text": [
            "image 1/1: 240x320 1 cat\n",
            "Speed: 5.0ms pre-process, 351.8ms inference, 1.5ms NMS per image at shape (1, 3, 480, 640)\n",
            "Saved 1 image to \u001b[1m/content/output_images_folder256\u001b[0m\n",
            "/root/.cache/torch/hub/ultralytics_yolov5_master/models/common.py:892: FutureWarning: `torch.cuda.amp.autocast(args...)` is deprecated. Please use `torch.amp.autocast('cuda', args...)` instead.\n",
            "  with amp.autocast(autocast):\n"
          ]
        },
        {
          "output_type": "stream",
          "name": "stdout",
          "text": [
            "Processed raccoon-137.jpg and saved to /content/output_images_folder/raccoon-137.jpg\n"
          ]
        },
        {
          "output_type": "stream",
          "name": "stderr",
          "text": [
            "image 1/1: 484x900 1 cat\n",
            "Speed: 8.6ms pre-process, 251.6ms inference, 2.8ms NMS per image at shape (1, 3, 352, 640)\n",
            "Saved 1 image to \u001b[1m/content/output_images_folder257\u001b[0m\n",
            "/root/.cache/torch/hub/ultralytics_yolov5_master/models/common.py:892: FutureWarning: `torch.cuda.amp.autocast(args...)` is deprecated. Please use `torch.amp.autocast('cuda', args...)` instead.\n",
            "  with amp.autocast(autocast):\n"
          ]
        },
        {
          "output_type": "stream",
          "name": "stdout",
          "text": [
            "Processed raccoon-14.jpg and saved to /content/output_images_folder/raccoon-14.jpg\n"
          ]
        },
        {
          "output_type": "stream",
          "name": "stderr",
          "text": [
            "image 1/1: 426x640 2 bears\n",
            "Speed: 10.6ms pre-process, 352.8ms inference, 3.5ms NMS per image at shape (1, 3, 448, 640)\n",
            "Saved 1 image to \u001b[1m/content/output_images_folder258\u001b[0m\n",
            "/root/.cache/torch/hub/ultralytics_yolov5_master/models/common.py:892: FutureWarning: `torch.cuda.amp.autocast(args...)` is deprecated. Please use `torch.amp.autocast('cuda', args...)` instead.\n",
            "  with amp.autocast(autocast):\n"
          ]
        },
        {
          "output_type": "stream",
          "name": "stdout",
          "text": [
            "Processed raccoon-130.jpg and saved to /content/output_images_folder/raccoon-130.jpg\n"
          ]
        },
        {
          "output_type": "stream",
          "name": "stderr",
          "text": [
            "image 1/1: 225x225 1 person\n",
            "Speed: 8.5ms pre-process, 467.1ms inference, 3.7ms NMS per image at shape (1, 3, 640, 640)\n",
            "Saved 1 image to \u001b[1m/content/output_images_folder259\u001b[0m\n",
            "/root/.cache/torch/hub/ultralytics_yolov5_master/models/common.py:892: FutureWarning: `torch.cuda.amp.autocast(args...)` is deprecated. Please use `torch.amp.autocast('cuda', args...)` instead.\n",
            "  with amp.autocast(autocast):\n"
          ]
        },
        {
          "output_type": "stream",
          "name": "stdout",
          "text": [
            "Processed raccoon-151.jpg and saved to /content/output_images_folder/raccoon-151.jpg\n"
          ]
        },
        {
          "output_type": "stream",
          "name": "stderr",
          "text": [
            "image 1/1: 183x275 1 cat\n",
            "Speed: 4.5ms pre-process, 338.5ms inference, 1.4ms NMS per image at shape (1, 3, 448, 640)\n",
            "Saved 1 image to \u001b[1m/content/output_images_folder260\u001b[0m\n",
            "/root/.cache/torch/hub/ultralytics_yolov5_master/models/common.py:892: FutureWarning: `torch.cuda.amp.autocast(args...)` is deprecated. Please use `torch.amp.autocast('cuda', args...)` instead.\n",
            "  with amp.autocast(autocast):\n"
          ]
        },
        {
          "output_type": "stream",
          "name": "stdout",
          "text": [
            "Processed raccoon-146.jpg and saved to /content/output_images_folder/raccoon-146.jpg\n"
          ]
        },
        {
          "output_type": "stream",
          "name": "stderr",
          "text": [
            "image 1/1: 495x660 1 cat, 1 bowl, 1 sink\n",
            "Speed: 7.1ms pre-process, 359.1ms inference, 1.5ms NMS per image at shape (1, 3, 480, 640)\n",
            "Saved 1 image to \u001b[1m/content/output_images_folder261\u001b[0m\n",
            "/root/.cache/torch/hub/ultralytics_yolov5_master/models/common.py:892: FutureWarning: `torch.cuda.amp.autocast(args...)` is deprecated. Please use `torch.amp.autocast('cuda', args...)` instead.\n",
            "  with amp.autocast(autocast):\n"
          ]
        },
        {
          "output_type": "stream",
          "name": "stdout",
          "text": [
            "Processed raccoon-13.jpg and saved to /content/output_images_folder/raccoon-13.jpg\n"
          ]
        },
        {
          "output_type": "stream",
          "name": "stderr",
          "text": [
            "image 1/1: 768x1024 1 cat, 1 bear\n",
            "Speed: 14.6ms pre-process, 356.7ms inference, 4.9ms NMS per image at shape (1, 3, 480, 640)\n",
            "Saved 1 image to \u001b[1m/content/output_images_folder262\u001b[0m\n",
            "/root/.cache/torch/hub/ultralytics_yolov5_master/models/common.py:892: FutureWarning: `torch.cuda.amp.autocast(args...)` is deprecated. Please use `torch.amp.autocast('cuda', args...)` instead.\n",
            "  with amp.autocast(autocast):\n"
          ]
        },
        {
          "output_type": "stream",
          "name": "stdout",
          "text": [
            "Processed raccoon-142.jpg and saved to /content/output_images_folder/raccoon-142.jpg\n"
          ]
        },
        {
          "output_type": "stream",
          "name": "stderr",
          "text": [
            "image 1/1: 375x500 2 cats\n",
            "Speed: 7.9ms pre-process, 402.0ms inference, 4.3ms NMS per image at shape (1, 3, 480, 640)\n",
            "Saved 1 image to \u001b[1m/content/output_images_folder263\u001b[0m\n",
            "/root/.cache/torch/hub/ultralytics_yolov5_master/models/common.py:892: FutureWarning: `torch.cuda.amp.autocast(args...)` is deprecated. Please use `torch.amp.autocast('cuda', args...)` instead.\n",
            "  with amp.autocast(autocast):\n"
          ]
        },
        {
          "output_type": "stream",
          "name": "stdout",
          "text": [
            "Processed raccoon-148.jpg and saved to /content/output_images_folder/raccoon-148.jpg\n"
          ]
        },
        {
          "output_type": "stream",
          "name": "stderr",
          "text": [
            "image 1/1: 357x362 1 cat\n",
            "Speed: 7.8ms pre-process, 504.6ms inference, 5.1ms NMS per image at shape (1, 3, 640, 640)\n",
            "Saved 1 image to \u001b[1m/content/output_images_folder264\u001b[0m\n",
            "/root/.cache/torch/hub/ultralytics_yolov5_master/models/common.py:892: FutureWarning: `torch.cuda.amp.autocast(args...)` is deprecated. Please use `torch.amp.autocast('cuda', args...)` instead.\n",
            "  with amp.autocast(autocast):\n"
          ]
        },
        {
          "output_type": "stream",
          "name": "stdout",
          "text": [
            "Processed raccoon-187.jpg and saved to /content/output_images_folder/raccoon-187.jpg\n"
          ]
        },
        {
          "output_type": "stream",
          "name": "stderr",
          "text": [
            "image 1/1: 388x550 1 dog\n",
            "Speed: 7.7ms pre-process, 404.5ms inference, 4.2ms NMS per image at shape (1, 3, 480, 640)\n",
            "Saved 1 image to \u001b[1m/content/output_images_folder265\u001b[0m\n",
            "/root/.cache/torch/hub/ultralytics_yolov5_master/models/common.py:892: FutureWarning: `torch.cuda.amp.autocast(args...)` is deprecated. Please use `torch.amp.autocast('cuda', args...)` instead.\n",
            "  with amp.autocast(autocast):\n"
          ]
        },
        {
          "output_type": "stream",
          "name": "stdout",
          "text": [
            "Processed raccoon-173.jpg and saved to /content/output_images_folder/raccoon-173.jpg\n"
          ]
        },
        {
          "output_type": "stream",
          "name": "stderr",
          "text": [
            "image 1/1: 1333x2000 5 persons, 1 tie\n",
            "Speed: 41.3ms pre-process, 341.3ms inference, 1.5ms NMS per image at shape (1, 3, 448, 640)\n",
            "Saved 1 image to \u001b[1m/content/output_images_folder266\u001b[0m\n",
            "/root/.cache/torch/hub/ultralytics_yolov5_master/models/common.py:892: FutureWarning: `torch.cuda.amp.autocast(args...)` is deprecated. Please use `torch.amp.autocast('cuda', args...)` instead.\n",
            "  with amp.autocast(autocast):\n"
          ]
        },
        {
          "output_type": "stream",
          "name": "stdout",
          "text": [
            "Processed raccoon-183.jpg and saved to /content/output_images_folder/raccoon-183.jpg\n"
          ]
        },
        {
          "output_type": "stream",
          "name": "stderr",
          "text": [
            "image 1/1: 500x500 2 persons, 1 dog, 1 tie\n",
            "Speed: 11.5ms pre-process, 547.9ms inference, 1.7ms NMS per image at shape (1, 3, 640, 640)\n",
            "Saved 1 image to \u001b[1m/content/output_images_folder267\u001b[0m\n",
            "/root/.cache/torch/hub/ultralytics_yolov5_master/models/common.py:892: FutureWarning: `torch.cuda.amp.autocast(args...)` is deprecated. Please use `torch.amp.autocast('cuda', args...)` instead.\n",
            "  with amp.autocast(autocast):\n"
          ]
        },
        {
          "output_type": "stream",
          "name": "stdout",
          "text": [
            "Processed raccoon-182.jpg and saved to /content/output_images_folder/raccoon-182.jpg\n"
          ]
        },
        {
          "output_type": "stream",
          "name": "stderr",
          "text": [
            "image 1/1: 253x199 1 cat\n",
            "Speed: 5.1ms pre-process, 489.5ms inference, 10.9ms NMS per image at shape (1, 3, 640, 512)\n",
            "Saved 1 image to \u001b[1m/content/output_images_folder268\u001b[0m\n",
            "/root/.cache/torch/hub/ultralytics_yolov5_master/models/common.py:892: FutureWarning: `torch.cuda.amp.autocast(args...)` is deprecated. Please use `torch.amp.autocast('cuda', args...)` instead.\n",
            "  with amp.autocast(autocast):\n"
          ]
        },
        {
          "output_type": "stream",
          "name": "stdout",
          "text": [
            "Processed raccoon-165.jpg and saved to /content/output_images_folder/raccoon-165.jpg\n"
          ]
        },
        {
          "output_type": "stream",
          "name": "stderr",
          "text": [
            "image 1/1: 184x274 1 cat\n",
            "Speed: 7.0ms pre-process, 530.9ms inference, 3.0ms NMS per image at shape (1, 3, 448, 640)\n",
            "Saved 1 image to \u001b[1m/content/output_images_folder269\u001b[0m\n",
            "/root/.cache/torch/hub/ultralytics_yolov5_master/models/common.py:892: FutureWarning: `torch.cuda.amp.autocast(args...)` is deprecated. Please use `torch.amp.autocast('cuda', args...)` instead.\n",
            "  with amp.autocast(autocast):\n"
          ]
        },
        {
          "output_type": "stream",
          "name": "stdout",
          "text": [
            "Processed raccoon-164.jpg and saved to /content/output_images_folder/raccoon-164.jpg\n"
          ]
        },
        {
          "output_type": "stream",
          "name": "stderr",
          "text": [
            "image 1/1: 194x259 1 sheep\n",
            "Speed: 5.3ms pre-process, 546.4ms inference, 2.3ms NMS per image at shape (1, 3, 480, 640)\n",
            "Saved 1 image to \u001b[1m/content/output_images_folder270\u001b[0m\n",
            "/root/.cache/torch/hub/ultralytics_yolov5_master/models/common.py:892: FutureWarning: `torch.cuda.amp.autocast(args...)` is deprecated. Please use `torch.amp.autocast('cuda', args...)` instead.\n",
            "  with amp.autocast(autocast):\n"
          ]
        },
        {
          "output_type": "stream",
          "name": "stdout",
          "text": [
            "Processed raccoon-155.jpg and saved to /content/output_images_folder/raccoon-155.jpg\n"
          ]
        },
        {
          "output_type": "stream",
          "name": "stderr",
          "text": [
            "image 1/1: 428x640 1 bear\n",
            "Speed: 11.3ms pre-process, 518.2ms inference, 5.3ms NMS per image at shape (1, 3, 448, 640)\n",
            "Saved 1 image to \u001b[1m/content/output_images_folder271\u001b[0m\n",
            "/root/.cache/torch/hub/ultralytics_yolov5_master/models/common.py:892: FutureWarning: `torch.cuda.amp.autocast(args...)` is deprecated. Please use `torch.amp.autocast('cuda', args...)` instead.\n",
            "  with amp.autocast(autocast):\n"
          ]
        },
        {
          "output_type": "stream",
          "name": "stdout",
          "text": [
            "Processed raccoon-186.jpg and saved to /content/output_images_folder/raccoon-186.jpg\n"
          ]
        },
        {
          "output_type": "stream",
          "name": "stderr",
          "text": [
            "image 1/1: 533x800 3 persons, 1 cat, 1 dog, 1 bowl, 1 chair\n",
            "Speed: 15.0ms pre-process, 495.6ms inference, 2.5ms NMS per image at shape (1, 3, 448, 640)\n",
            "Saved 1 image to \u001b[1m/content/output_images_folder272\u001b[0m\n",
            "/root/.cache/torch/hub/ultralytics_yolov5_master/models/common.py:892: FutureWarning: `torch.cuda.amp.autocast(args...)` is deprecated. Please use `torch.amp.autocast('cuda', args...)` instead.\n",
            "  with amp.autocast(autocast):\n"
          ]
        },
        {
          "output_type": "stream",
          "name": "stdout",
          "text": [
            "Processed raccoon-176.jpg and saved to /content/output_images_folder/raccoon-176.jpg\n"
          ]
        },
        {
          "output_type": "stream",
          "name": "stderr",
          "text": [
            "image 1/1: 314x628 2 bears\n",
            "Speed: 11.6ms pre-process, 360.2ms inference, 1.8ms NMS per image at shape (1, 3, 320, 640)\n",
            "Saved 1 image to \u001b[1m/content/output_images_folder273\u001b[0m\n",
            "/root/.cache/torch/hub/ultralytics_yolov5_master/models/common.py:892: FutureWarning: `torch.cuda.amp.autocast(args...)` is deprecated. Please use `torch.amp.autocast('cuda', args...)` instead.\n",
            "  with amp.autocast(autocast):\n"
          ]
        },
        {
          "output_type": "stream",
          "name": "stdout",
          "text": [
            "Processed raccoon-168.jpg and saved to /content/output_images_folder/raccoon-168.jpg\n"
          ]
        },
        {
          "output_type": "stream",
          "name": "stderr",
          "text": [
            "image 1/1: 347x500 1 cat\n",
            "Speed: 8.2ms pre-process, 554.2ms inference, 2.6ms NMS per image at shape (1, 3, 448, 640)\n",
            "Saved 1 image to \u001b[1m/content/output_images_folder274\u001b[0m\n",
            "/root/.cache/torch/hub/ultralytics_yolov5_master/models/common.py:892: FutureWarning: `torch.cuda.amp.autocast(args...)` is deprecated. Please use `torch.amp.autocast('cuda', args...)` instead.\n",
            "  with amp.autocast(autocast):\n"
          ]
        },
        {
          "output_type": "stream",
          "name": "stdout",
          "text": [
            "Processed raccoon-161.jpg and saved to /content/output_images_folder/raccoon-161.jpg\n"
          ]
        },
        {
          "output_type": "stream",
          "name": "stderr",
          "text": [
            "image 1/1: 640x640 1 bear\n",
            "Speed: 18.5ms pre-process, 756.3ms inference, 7.4ms NMS per image at shape (1, 3, 640, 640)\n",
            "Saved 1 image to \u001b[1m/content/output_images_folder275\u001b[0m\n",
            "/root/.cache/torch/hub/ultralytics_yolov5_master/models/common.py:892: FutureWarning: `torch.cuda.amp.autocast(args...)` is deprecated. Please use `torch.amp.autocast('cuda', args...)` instead.\n",
            "  with amp.autocast(autocast):\n"
          ]
        },
        {
          "output_type": "stream",
          "name": "stdout",
          "text": [
            "Processed raccoon-184.jpg and saved to /content/output_images_folder/raccoon-184.jpg\n"
          ]
        },
        {
          "output_type": "stream",
          "name": "stderr",
          "text": [
            "image 1/1: 381x634 1 person, 1 car, 1 dog\n",
            "Speed: 12.5ms pre-process, 470.6ms inference, 2.3ms NMS per image at shape (1, 3, 384, 640)\n",
            "Saved 1 image to \u001b[1m/content/output_images_folder276\u001b[0m\n",
            "/root/.cache/torch/hub/ultralytics_yolov5_master/models/common.py:892: FutureWarning: `torch.cuda.amp.autocast(args...)` is deprecated. Please use `torch.amp.autocast('cuda', args...)` instead.\n",
            "  with amp.autocast(autocast):\n"
          ]
        },
        {
          "output_type": "stream",
          "name": "stdout",
          "text": [
            "Processed raccoon-175.jpg and saved to /content/output_images_folder/raccoon-175.jpg\n"
          ]
        },
        {
          "output_type": "stream",
          "name": "stderr",
          "text": [
            "image 1/1: 195x259 1 person, 1 cat, 1 bottle\n",
            "Speed: 7.2ms pre-process, 653.5ms inference, 2.3ms NMS per image at shape (1, 3, 512, 640)\n",
            "Saved 1 image to \u001b[1m/content/output_images_folder277\u001b[0m\n",
            "/root/.cache/torch/hub/ultralytics_yolov5_master/models/common.py:892: FutureWarning: `torch.cuda.amp.autocast(args...)` is deprecated. Please use `torch.amp.autocast('cuda', args...)` instead.\n",
            "  with amp.autocast(autocast):\n"
          ]
        },
        {
          "output_type": "stream",
          "name": "stdout",
          "text": [
            "Processed raccoon-167.jpg and saved to /content/output_images_folder/raccoon-167.jpg\n"
          ]
        },
        {
          "output_type": "stream",
          "name": "stderr",
          "text": [
            "image 1/1: 183x275 1 cat\n",
            "Speed: 7.0ms pre-process, 404.4ms inference, 4.4ms NMS per image at shape (1, 3, 448, 640)\n",
            "Saved 1 image to \u001b[1m/content/output_images_folder278\u001b[0m\n",
            "/root/.cache/torch/hub/ultralytics_yolov5_master/models/common.py:892: FutureWarning: `torch.cuda.amp.autocast(args...)` is deprecated. Please use `torch.amp.autocast('cuda', args...)` instead.\n",
            "  with amp.autocast(autocast):\n"
          ]
        },
        {
          "output_type": "stream",
          "name": "stdout",
          "text": [
            "Processed raccoon-158.jpg and saved to /content/output_images_folder/raccoon-158.jpg\n"
          ]
        },
        {
          "output_type": "stream",
          "name": "stderr",
          "text": [
            "image 1/1: 223x226 (no detections)\n",
            "Speed: 8.8ms pre-process, 533.8ms inference, 5.5ms NMS per image at shape (1, 3, 640, 640)\n",
            "Saved 1 image to \u001b[1m/content/output_images_folder279\u001b[0m\n",
            "/root/.cache/torch/hub/ultralytics_yolov5_master/models/common.py:892: FutureWarning: `torch.cuda.amp.autocast(args...)` is deprecated. Please use `torch.amp.autocast('cuda', args...)` instead.\n",
            "  with amp.autocast(autocast):\n"
          ]
        },
        {
          "output_type": "stream",
          "name": "stdout",
          "text": [
            "Processed raccoon-159.jpg and saved to /content/output_images_folder/raccoon-159.jpg\n"
          ]
        },
        {
          "output_type": "stream",
          "name": "stderr",
          "text": [
            "image 1/1: 197x256 1 person\n",
            "Speed: 5.0ms pre-process, 415.8ms inference, 5.1ms NMS per image at shape (1, 3, 512, 640)\n",
            "Saved 1 image to \u001b[1m/content/output_images_folder280\u001b[0m\n",
            "/root/.cache/torch/hub/ultralytics_yolov5_master/models/common.py:892: FutureWarning: `torch.cuda.amp.autocast(args...)` is deprecated. Please use `torch.amp.autocast('cuda', args...)` instead.\n",
            "  with amp.autocast(autocast):\n"
          ]
        },
        {
          "output_type": "stream",
          "name": "stdout",
          "text": [
            "Processed raccoon-160.jpg and saved to /content/output_images_folder/raccoon-160.jpg\n"
          ]
        },
        {
          "output_type": "stream",
          "name": "stderr",
          "text": [
            "image 1/1: 251x201 1 bear\n",
            "Speed: 5.1ms pre-process, 449.8ms inference, 7.7ms NMS per image at shape (1, 3, 640, 512)\n",
            "Saved 1 image to \u001b[1m/content/output_images_folder281\u001b[0m\n",
            "/root/.cache/torch/hub/ultralytics_yolov5_master/models/common.py:892: FutureWarning: `torch.cuda.amp.autocast(args...)` is deprecated. Please use `torch.amp.autocast('cuda', args...)` instead.\n",
            "  with amp.autocast(autocast):\n"
          ]
        },
        {
          "output_type": "stream",
          "name": "stdout",
          "text": [
            "Processed raccoon-156.jpg and saved to /content/output_images_folder/raccoon-156.jpg\n"
          ]
        },
        {
          "output_type": "stream",
          "name": "stderr",
          "text": [
            "image 1/1: 183x275 1 boat, 1 bird, 1 dog\n",
            "Speed: 4.9ms pre-process, 356.7ms inference, 2.9ms NMS per image at shape (1, 3, 448, 640)\n",
            "Saved 1 image to \u001b[1m/content/output_images_folder282\u001b[0m\n",
            "/root/.cache/torch/hub/ultralytics_yolov5_master/models/common.py:892: FutureWarning: `torch.cuda.amp.autocast(args...)` is deprecated. Please use `torch.amp.autocast('cuda', args...)` instead.\n",
            "  with amp.autocast(autocast):\n"
          ]
        },
        {
          "output_type": "stream",
          "name": "stdout",
          "text": [
            "Processed raccoon-185.jpg and saved to /content/output_images_folder/raccoon-185.jpg\n"
          ]
        },
        {
          "output_type": "stream",
          "name": "stderr",
          "text": [
            "image 1/1: 229x220 (no detections)\n",
            "Speed: 6.9ms pre-process, 515.6ms inference, 5.4ms NMS per image at shape (1, 3, 640, 640)\n",
            "Saved 1 image to \u001b[1m/content/output_images_folder283\u001b[0m\n",
            "/root/.cache/torch/hub/ultralytics_yolov5_master/models/common.py:892: FutureWarning: `torch.cuda.amp.autocast(args...)` is deprecated. Please use `torch.amp.autocast('cuda', args...)` instead.\n",
            "  with amp.autocast(autocast):\n"
          ]
        },
        {
          "output_type": "stream",
          "name": "stdout",
          "text": [
            "Processed raccoon-157.jpg and saved to /content/output_images_folder/raccoon-157.jpg\n"
          ]
        },
        {
          "output_type": "stream",
          "name": "stderr",
          "text": [
            "image 1/1: 422x750 6 persons, 1 tie\n",
            "Speed: 8.8ms pre-process, 289.9ms inference, 1.5ms NMS per image at shape (1, 3, 384, 640)\n",
            "Saved 1 image to \u001b[1m/content/output_images_folder284\u001b[0m\n",
            "/root/.cache/torch/hub/ultralytics_yolov5_master/models/common.py:892: FutureWarning: `torch.cuda.amp.autocast(args...)` is deprecated. Please use `torch.amp.autocast('cuda', args...)` instead.\n",
            "  with amp.autocast(autocast):\n"
          ]
        },
        {
          "output_type": "stream",
          "name": "stdout",
          "text": [
            "Processed raccoon-181.jpg and saved to /content/output_images_folder/raccoon-181.jpg\n"
          ]
        },
        {
          "output_type": "stream",
          "name": "stderr",
          "text": [
            "image 1/1: 346x615 1 person\n",
            "Speed: 5.5ms pre-process, 270.3ms inference, 1.3ms NMS per image at shape (1, 3, 384, 640)\n",
            "Saved 1 image to \u001b[1m/content/output_images_folder285\u001b[0m\n",
            "/root/.cache/torch/hub/ultralytics_yolov5_master/models/common.py:892: FutureWarning: `torch.cuda.amp.autocast(args...)` is deprecated. Please use `torch.amp.autocast('cuda', args...)` instead.\n",
            "  with amp.autocast(autocast):\n"
          ]
        },
        {
          "output_type": "stream",
          "name": "stdout",
          "text": [
            "Processed raccoon-172.jpg and saved to /content/output_images_folder/raccoon-172.jpg\n"
          ]
        },
        {
          "output_type": "stream",
          "name": "stderr",
          "text": [
            "image 1/1: 194x259 1 dog\n",
            "Speed: 5.0ms pre-process, 370.6ms inference, 1.5ms NMS per image at shape (1, 3, 480, 640)\n",
            "Saved 1 image to \u001b[1m/content/output_images_folder286\u001b[0m\n",
            "/root/.cache/torch/hub/ultralytics_yolov5_master/models/common.py:892: FutureWarning: `torch.cuda.amp.autocast(args...)` is deprecated. Please use `torch.amp.autocast('cuda', args...)` instead.\n",
            "  with amp.autocast(autocast):\n"
          ]
        },
        {
          "output_type": "stream",
          "name": "stdout",
          "text": [
            "Processed raccoon-170.jpg and saved to /content/output_images_folder/raccoon-170.jpg\n"
          ]
        },
        {
          "output_type": "stream",
          "name": "stderr",
          "text": [
            "image 1/1: 225x224 1 dog\n",
            "Speed: 7.4ms pre-process, 470.7ms inference, 4.6ms NMS per image at shape (1, 3, 640, 640)\n",
            "Saved 1 image to \u001b[1m/content/output_images_folder287\u001b[0m\n",
            "/root/.cache/torch/hub/ultralytics_yolov5_master/models/common.py:892: FutureWarning: `torch.cuda.amp.autocast(args...)` is deprecated. Please use `torch.amp.autocast('cuda', args...)` instead.\n",
            "  with amp.autocast(autocast):\n"
          ]
        },
        {
          "output_type": "stream",
          "name": "stdout",
          "text": [
            "Processed raccoon-171.jpg and saved to /content/output_images_folder/raccoon-171.jpg\n"
          ]
        },
        {
          "output_type": "stream",
          "name": "stderr",
          "text": [
            "image 1/1: 194x259 (no detections)\n",
            "Speed: 4.5ms pre-process, 385.7ms inference, 1.1ms NMS per image at shape (1, 3, 480, 640)\n",
            "Saved 1 image to \u001b[1m/content/output_images_folder288\u001b[0m\n",
            "/root/.cache/torch/hub/ultralytics_yolov5_master/models/common.py:892: FutureWarning: `torch.cuda.amp.autocast(args...)` is deprecated. Please use `torch.amp.autocast('cuda', args...)` instead.\n",
            "  with amp.autocast(autocast):\n"
          ]
        },
        {
          "output_type": "stream",
          "name": "stdout",
          "text": [
            "Processed raccoon-162.jpg and saved to /content/output_images_folder/raccoon-162.jpg\n"
          ]
        },
        {
          "output_type": "stream",
          "name": "stderr",
          "text": [
            "image 1/1: 409x615 1 cat\n",
            "Speed: 8.7ms pre-process, 344.3ms inference, 3.5ms NMS per image at shape (1, 3, 448, 640)\n",
            "Saved 1 image to \u001b[1m/content/output_images_folder289\u001b[0m\n",
            "/root/.cache/torch/hub/ultralytics_yolov5_master/models/common.py:892: FutureWarning: `torch.cuda.amp.autocast(args...)` is deprecated. Please use `torch.amp.autocast('cuda', args...)` instead.\n",
            "  with amp.autocast(autocast):\n"
          ]
        },
        {
          "output_type": "stream",
          "name": "stdout",
          "text": [
            "Processed raccoon-169.jpg and saved to /content/output_images_folder/raccoon-169.jpg\n"
          ]
        },
        {
          "output_type": "stream",
          "name": "stderr",
          "text": [
            "image 1/1: 203x248 (no detections)\n",
            "Speed: 6.2ms pre-process, 410.5ms inference, 3.1ms NMS per image at shape (1, 3, 544, 640)\n",
            "Saved 1 image to \u001b[1m/content/output_images_folder290\u001b[0m\n",
            "/root/.cache/torch/hub/ultralytics_yolov5_master/models/common.py:892: FutureWarning: `torch.cuda.amp.autocast(args...)` is deprecated. Please use `torch.amp.autocast('cuda', args...)` instead.\n",
            "  with amp.autocast(autocast):\n"
          ]
        },
        {
          "output_type": "stream",
          "name": "stdout",
          "text": [
            "Processed raccoon-163.jpg and saved to /content/output_images_folder/raccoon-163.jpg\n"
          ]
        },
        {
          "output_type": "stream",
          "name": "stderr",
          "text": [
            "image 1/1: 450x600 1 cat\n",
            "Speed: 8.7ms pre-process, 421.1ms inference, 1.5ms NMS per image at shape (1, 3, 480, 640)\n",
            "Saved 1 image to \u001b[1m/content/output_images_folder291\u001b[0m\n",
            "/root/.cache/torch/hub/ultralytics_yolov5_master/models/common.py:892: FutureWarning: `torch.cuda.amp.autocast(args...)` is deprecated. Please use `torch.amp.autocast('cuda', args...)` instead.\n",
            "  with amp.autocast(autocast):\n"
          ]
        },
        {
          "output_type": "stream",
          "name": "stdout",
          "text": [
            "Processed raccoon-179.jpg and saved to /content/output_images_folder/raccoon-179.jpg\n"
          ]
        },
        {
          "output_type": "stream",
          "name": "stderr",
          "text": [
            "image 1/1: 183x276 1 bowl\n",
            "Speed: 4.1ms pre-process, 331.5ms inference, 1.4ms NMS per image at shape (1, 3, 448, 640)\n",
            "Saved 1 image to \u001b[1m/content/output_images_folder292\u001b[0m\n",
            "/root/.cache/torch/hub/ultralytics_yolov5_master/models/common.py:892: FutureWarning: `torch.cuda.amp.autocast(args...)` is deprecated. Please use `torch.amp.autocast('cuda', args...)` instead.\n",
            "  with amp.autocast(autocast):\n"
          ]
        },
        {
          "output_type": "stream",
          "name": "stdout",
          "text": [
            "Processed raccoon-177.jpg and saved to /content/output_images_folder/raccoon-177.jpg\n"
          ]
        },
        {
          "output_type": "stream",
          "name": "stderr",
          "text": [
            "image 1/1: 194x259 1 car, 1 dog\n",
            "Speed: 4.1ms pre-process, 358.1ms inference, 2.2ms NMS per image at shape (1, 3, 480, 640)\n",
            "Saved 1 image to \u001b[1m/content/output_images_folder293\u001b[0m\n",
            "/root/.cache/torch/hub/ultralytics_yolov5_master/models/common.py:892: FutureWarning: `torch.cuda.amp.autocast(args...)` is deprecated. Please use `torch.amp.autocast('cuda', args...)` instead.\n",
            "  with amp.autocast(autocast):\n"
          ]
        },
        {
          "output_type": "stream",
          "name": "stdout",
          "text": [
            "Processed raccoon-17.jpg and saved to /content/output_images_folder/raccoon-17.jpg\n"
          ]
        },
        {
          "output_type": "stream",
          "name": "stderr",
          "text": [
            "image 1/1: 156x240 1 bear\n",
            "Speed: 3.8ms pre-process, 298.8ms inference, 1.3ms NMS per image at shape (1, 3, 416, 640)\n",
            "Saved 1 image to \u001b[1m/content/output_images_folder294\u001b[0m\n",
            "/root/.cache/torch/hub/ultralytics_yolov5_master/models/common.py:892: FutureWarning: `torch.cuda.amp.autocast(args...)` is deprecated. Please use `torch.amp.autocast('cuda', args...)` instead.\n",
            "  with amp.autocast(autocast):\n"
          ]
        },
        {
          "output_type": "stream",
          "name": "stdout",
          "text": [
            "Processed raccoon-18.jpg and saved to /content/output_images_folder/raccoon-18.jpg\n"
          ]
        },
        {
          "output_type": "stream",
          "name": "stderr",
          "text": [
            "image 1/1: 640x424 1 bear\n",
            "Speed: 6.6ms pre-process, 317.3ms inference, 3.4ms NMS per image at shape (1, 3, 640, 448)\n",
            "Saved 1 image to \u001b[1m/content/output_images_folder295\u001b[0m\n",
            "/root/.cache/torch/hub/ultralytics_yolov5_master/models/common.py:892: FutureWarning: `torch.cuda.amp.autocast(args...)` is deprecated. Please use `torch.amp.autocast('cuda', args...)` instead.\n",
            "  with amp.autocast(autocast):\n"
          ]
        },
        {
          "output_type": "stream",
          "name": "stdout",
          "text": [
            "Processed raccoon-16.jpg and saved to /content/output_images_folder/raccoon-16.jpg\n"
          ]
        },
        {
          "output_type": "stream",
          "name": "stderr",
          "text": [
            "image 1/1: 639x960 4 persons\n",
            "Speed: 16.1ms pre-process, 346.2ms inference, 1.5ms NMS per image at shape (1, 3, 448, 640)\n",
            "Saved 1 image to \u001b[1m/content/output_images_folder296\u001b[0m\n",
            "/root/.cache/torch/hub/ultralytics_yolov5_master/models/common.py:892: FutureWarning: `torch.cuda.amp.autocast(args...)` is deprecated. Please use `torch.amp.autocast('cuda', args...)` instead.\n",
            "  with amp.autocast(autocast):\n"
          ]
        },
        {
          "output_type": "stream",
          "name": "stdout",
          "text": [
            "Processed raccoon-174.jpg and saved to /content/output_images_folder/raccoon-174.jpg\n"
          ]
        },
        {
          "output_type": "stream",
          "name": "stderr",
          "text": [
            "image 1/1: 154x328 1 dog\n",
            "Speed: 4.4ms pre-process, 232.7ms inference, 1.3ms NMS per image at shape (1, 3, 320, 640)\n",
            "Saved 1 image to \u001b[1m/content/output_images_folder297\u001b[0m\n",
            "/root/.cache/torch/hub/ultralytics_yolov5_master/models/common.py:892: FutureWarning: `torch.cuda.amp.autocast(args...)` is deprecated. Please use `torch.amp.autocast('cuda', args...)` instead.\n",
            "  with amp.autocast(autocast):\n"
          ]
        },
        {
          "output_type": "stream",
          "name": "stdout",
          "text": [
            "Processed raccoon-166.jpg and saved to /content/output_images_folder/raccoon-166.jpg\n"
          ]
        },
        {
          "output_type": "stream",
          "name": "stderr",
          "text": [
            "image 1/1: 183x275 1 cat\n",
            "Speed: 4.2ms pre-process, 339.6ms inference, 2.4ms NMS per image at shape (1, 3, 448, 640)\n",
            "Saved 1 image to \u001b[1m/content/output_images_folder298\u001b[0m\n",
            "/root/.cache/torch/hub/ultralytics_yolov5_master/models/common.py:892: FutureWarning: `torch.cuda.amp.autocast(args...)` is deprecated. Please use `torch.amp.autocast('cuda', args...)` instead.\n",
            "  with amp.autocast(autocast):\n"
          ]
        },
        {
          "output_type": "stream",
          "name": "stdout",
          "text": [
            "Processed raccoon-178.jpg and saved to /content/output_images_folder/raccoon-178.jpg\n"
          ]
        },
        {
          "output_type": "stream",
          "name": "stderr",
          "text": [
            "image 1/1: 400x600 1 person, 1 dog, 1 tie\n",
            "Speed: 7.5ms pre-process, 377.9ms inference, 4.2ms NMS per image at shape (1, 3, 448, 640)\n",
            "Saved 1 image to \u001b[1m/content/output_images_folder299\u001b[0m\n",
            "/root/.cache/torch/hub/ultralytics_yolov5_master/models/common.py:892: FutureWarning: `torch.cuda.amp.autocast(args...)` is deprecated. Please use `torch.amp.autocast('cuda', args...)` instead.\n",
            "  with amp.autocast(autocast):\n"
          ]
        },
        {
          "output_type": "stream",
          "name": "stdout",
          "text": [
            "Processed raccoon-180.jpg and saved to /content/output_images_folder/raccoon-180.jpg\n"
          ]
        },
        {
          "output_type": "stream",
          "name": "stderr",
          "text": [
            "image 1/1: 852x634 1 person, 1 cat, 1 sink\n",
            "Speed: 13.5ms pre-process, 374.9ms inference, 5.8ms NMS per image at shape (1, 3, 640, 480)\n",
            "Saved 1 image to \u001b[1m/content/output_images_folder300\u001b[0m\n",
            "/root/.cache/torch/hub/ultralytics_yolov5_master/models/common.py:892: FutureWarning: `torch.cuda.amp.autocast(args...)` is deprecated. Please use `torch.amp.autocast('cuda', args...)` instead.\n",
            "  with amp.autocast(autocast):\n"
          ]
        },
        {
          "output_type": "stream",
          "name": "stdout",
          "text": [
            "Processed raccoon-193.jpg and saved to /content/output_images_folder/raccoon-193.jpg\n"
          ]
        },
        {
          "output_type": "stream",
          "name": "stderr",
          "text": [
            "image 1/1: 379x460 2 sheeps\n",
            "Speed: 6.4ms pre-process, 407.9ms inference, 1.4ms NMS per image at shape (1, 3, 544, 640)\n",
            "Saved 1 image to \u001b[1m/content/output_images_folder301\u001b[0m\n",
            "/root/.cache/torch/hub/ultralytics_yolov5_master/models/common.py:892: FutureWarning: `torch.cuda.amp.autocast(args...)` is deprecated. Please use `torch.amp.autocast('cuda', args...)` instead.\n",
            "  with amp.autocast(autocast):\n"
          ]
        },
        {
          "output_type": "stream",
          "name": "stdout",
          "text": [
            "Processed raccoon-188.jpg and saved to /content/output_images_folder/raccoon-188.jpg\n"
          ]
        },
        {
          "output_type": "stream",
          "name": "stderr",
          "text": [
            "image 1/1: 194x259 (no detections)\n",
            "Speed: 5.8ms pre-process, 386.2ms inference, 1.7ms NMS per image at shape (1, 3, 480, 640)\n",
            "Saved 1 image to \u001b[1m/content/output_images_folder302\u001b[0m\n",
            "/root/.cache/torch/hub/ultralytics_yolov5_master/models/common.py:892: FutureWarning: `torch.cuda.amp.autocast(args...)` is deprecated. Please use `torch.amp.autocast('cuda', args...)` instead.\n",
            "  with amp.autocast(autocast):\n"
          ]
        },
        {
          "output_type": "stream",
          "name": "stdout",
          "text": [
            "Processed raccoon-34.jpg and saved to /content/output_images_folder/raccoon-34.jpg\n"
          ]
        },
        {
          "output_type": "stream",
          "name": "stderr",
          "text": [
            "image 1/1: 360x640 1 bear\n",
            "Speed: 9.7ms pre-process, 477.6ms inference, 3.5ms NMS per image at shape (1, 3, 384, 640)\n",
            "Saved 1 image to \u001b[1m/content/output_images_folder303\u001b[0m\n",
            "/root/.cache/torch/hub/ultralytics_yolov5_master/models/common.py:892: FutureWarning: `torch.cuda.amp.autocast(args...)` is deprecated. Please use `torch.amp.autocast('cuda', args...)` instead.\n",
            "  with amp.autocast(autocast):\n"
          ]
        },
        {
          "output_type": "stream",
          "name": "stdout",
          "text": [
            "Processed raccoon-22.jpg and saved to /content/output_images_folder/raccoon-22.jpg\n"
          ]
        },
        {
          "output_type": "stream",
          "name": "stderr",
          "text": [
            "image 1/1: 194x259 1 bird\n",
            "Speed: 7.5ms pre-process, 599.0ms inference, 2.2ms NMS per image at shape (1, 3, 480, 640)\n",
            "Saved 1 image to \u001b[1m/content/output_images_folder304\u001b[0m\n",
            "/root/.cache/torch/hub/ultralytics_yolov5_master/models/common.py:892: FutureWarning: `torch.cuda.amp.autocast(args...)` is deprecated. Please use `torch.amp.autocast('cuda', args...)` instead.\n",
            "  with amp.autocast(autocast):\n"
          ]
        },
        {
          "output_type": "stream",
          "name": "stdout",
          "text": [
            "Processed raccoon-38.jpg and saved to /content/output_images_folder/raccoon-38.jpg\n"
          ]
        },
        {
          "output_type": "stream",
          "name": "stderr",
          "text": [
            "image 1/1: 190x266 1 dog\n",
            "Speed: 8.1ms pre-process, 554.3ms inference, 2.5ms NMS per image at shape (1, 3, 480, 640)\n",
            "Saved 1 image to \u001b[1m/content/output_images_folder305\u001b[0m\n",
            "/root/.cache/torch/hub/ultralytics_yolov5_master/models/common.py:892: FutureWarning: `torch.cuda.amp.autocast(args...)` is deprecated. Please use `torch.amp.autocast('cuda', args...)` instead.\n",
            "  with amp.autocast(autocast):\n"
          ]
        },
        {
          "output_type": "stream",
          "name": "stdout",
          "text": [
            "Processed raccoon-30.jpg and saved to /content/output_images_folder/raccoon-30.jpg\n"
          ]
        },
        {
          "output_type": "stream",
          "name": "stderr",
          "text": [
            "image 1/1: 183x275 1 bird\n",
            "Speed: 6.8ms pre-process, 521.1ms inference, 1.8ms NMS per image at shape (1, 3, 448, 640)\n",
            "Saved 1 image to \u001b[1m/content/output_images_folder306\u001b[0m\n",
            "/root/.cache/torch/hub/ultralytics_yolov5_master/models/common.py:892: FutureWarning: `torch.cuda.amp.autocast(args...)` is deprecated. Please use `torch.amp.autocast('cuda', args...)` instead.\n",
            "  with amp.autocast(autocast):\n"
          ]
        },
        {
          "output_type": "stream",
          "name": "stdout",
          "text": [
            "Processed raccoon-35.jpg and saved to /content/output_images_folder/raccoon-35.jpg\n"
          ]
        },
        {
          "output_type": "stream",
          "name": "stderr",
          "text": [
            "image 1/1: 415x625 1 cat, 1 chair, 1 laptop\n",
            "Speed: 9.0ms pre-process, 481.7ms inference, 1.8ms NMS per image at shape (1, 3, 448, 640)\n",
            "Saved 1 image to \u001b[1m/content/output_images_folder307\u001b[0m\n",
            "/root/.cache/torch/hub/ultralytics_yolov5_master/models/common.py:892: FutureWarning: `torch.cuda.amp.autocast(args...)` is deprecated. Please use `torch.amp.autocast('cuda', args...)` instead.\n",
            "  with amp.autocast(autocast):\n"
          ]
        },
        {
          "output_type": "stream",
          "name": "stdout",
          "text": [
            "Processed raccoon-32.jpg and saved to /content/output_images_folder/raccoon-32.jpg\n"
          ]
        },
        {
          "output_type": "stream",
          "name": "stderr",
          "text": [
            "image 1/1: 194x259 2 dogs\n",
            "Speed: 10.7ms pre-process, 546.3ms inference, 1.9ms NMS per image at shape (1, 3, 480, 640)\n",
            "Saved 1 image to \u001b[1m/content/output_images_folder308\u001b[0m\n",
            "/root/.cache/torch/hub/ultralytics_yolov5_master/models/common.py:892: FutureWarning: `torch.cuda.amp.autocast(args...)` is deprecated. Please use `torch.amp.autocast('cuda', args...)` instead.\n",
            "  with amp.autocast(autocast):\n"
          ]
        },
        {
          "output_type": "stream",
          "name": "stdout",
          "text": [
            "Processed raccoon-198.jpg and saved to /content/output_images_folder/raccoon-198.jpg\n"
          ]
        },
        {
          "output_type": "stream",
          "name": "stderr",
          "text": [
            "image 1/1: 325x510 1 cat\n",
            "Speed: 7.1ms pre-process, 463.6ms inference, 2.0ms NMS per image at shape (1, 3, 416, 640)\n",
            "Saved 1 image to \u001b[1m/content/output_images_folder309\u001b[0m\n",
            "/root/.cache/torch/hub/ultralytics_yolov5_master/models/common.py:892: FutureWarning: `torch.cuda.amp.autocast(args...)` is deprecated. Please use `torch.amp.autocast('cuda', args...)` instead.\n",
            "  with amp.autocast(autocast):\n"
          ]
        },
        {
          "output_type": "stream",
          "name": "stdout",
          "text": [
            "Processed raccoon-192.jpg and saved to /content/output_images_folder/raccoon-192.jpg\n"
          ]
        },
        {
          "output_type": "stream",
          "name": "stderr",
          "text": [
            "image 1/1: 193x261 (no detections)\n",
            "Speed: 5.0ms pre-process, 581.7ms inference, 2.2ms NMS per image at shape (1, 3, 480, 640)\n",
            "Saved 1 image to \u001b[1m/content/output_images_folder310\u001b[0m\n",
            "/root/.cache/torch/hub/ultralytics_yolov5_master/models/common.py:892: FutureWarning: `torch.cuda.amp.autocast(args...)` is deprecated. Please use `torch.amp.autocast('cuda', args...)` instead.\n",
            "  with amp.autocast(autocast):\n"
          ]
        },
        {
          "output_type": "stream",
          "name": "stdout",
          "text": [
            "Processed raccoon-200.jpg and saved to /content/output_images_folder/raccoon-200.jpg\n"
          ]
        },
        {
          "output_type": "stream",
          "name": "stderr",
          "text": [
            "image 1/1: 216x233 1 person, 1 sheep\n",
            "Speed: 10.5ms pre-process, 720.8ms inference, 5.7ms NMS per image at shape (1, 3, 608, 640)\n",
            "Saved 1 image to \u001b[1m/content/output_images_folder311\u001b[0m\n",
            "/root/.cache/torch/hub/ultralytics_yolov5_master/models/common.py:892: FutureWarning: `torch.cuda.amp.autocast(args...)` is deprecated. Please use `torch.amp.autocast('cuda', args...)` instead.\n",
            "  with amp.autocast(autocast):\n"
          ]
        },
        {
          "output_type": "stream",
          "name": "stdout",
          "text": [
            "Processed raccoon-196.jpg and saved to /content/output_images_folder/raccoon-196.jpg\n"
          ]
        },
        {
          "output_type": "stream",
          "name": "stderr",
          "text": [
            "image 1/1: 573x800 1 cat\n",
            "Speed: 9.4ms pre-process, 406.3ms inference, 4.0ms NMS per image at shape (1, 3, 480, 640)\n",
            "Saved 1 image to \u001b[1m/content/output_images_folder312\u001b[0m\n",
            "/root/.cache/torch/hub/ultralytics_yolov5_master/models/common.py:892: FutureWarning: `torch.cuda.amp.autocast(args...)` is deprecated. Please use `torch.amp.autocast('cuda', args...)` instead.\n",
            "  with amp.autocast(autocast):\n"
          ]
        },
        {
          "output_type": "stream",
          "name": "stdout",
          "text": [
            "Processed raccoon-2.jpg and saved to /content/output_images_folder/raccoon-2.jpg\n"
          ]
        },
        {
          "output_type": "stream",
          "name": "stderr",
          "text": [
            "image 1/1: 843x602 1 bear, 1 frisbee\n",
            "Speed: 14.1ms pre-process, 423.5ms inference, 1.6ms NMS per image at shape (1, 3, 640, 480)\n",
            "Saved 1 image to \u001b[1m/content/output_images_folder313\u001b[0m\n",
            "/root/.cache/torch/hub/ultralytics_yolov5_master/models/common.py:892: FutureWarning: `torch.cuda.amp.autocast(args...)` is deprecated. Please use `torch.amp.autocast('cuda', args...)` instead.\n",
            "  with amp.autocast(autocast):\n"
          ]
        },
        {
          "output_type": "stream",
          "name": "stdout",
          "text": [
            "Processed raccoon-33.jpg and saved to /content/output_images_folder/raccoon-33.jpg\n"
          ]
        },
        {
          "output_type": "stream",
          "name": "stderr",
          "text": [
            "image 1/1: 194x259 (no detections)\n",
            "Speed: 5.1ms pre-process, 402.1ms inference, 1.5ms NMS per image at shape (1, 3, 480, 640)\n",
            "Saved 1 image to \u001b[1m/content/output_images_folder314\u001b[0m\n",
            "/root/.cache/torch/hub/ultralytics_yolov5_master/models/common.py:892: FutureWarning: `torch.cuda.amp.autocast(args...)` is deprecated. Please use `torch.amp.autocast('cuda', args...)` instead.\n",
            "  with amp.autocast(autocast):\n"
          ]
        },
        {
          "output_type": "stream",
          "name": "stdout",
          "text": [
            "Processed raccoon-23.jpg and saved to /content/output_images_folder/raccoon-23.jpg\n"
          ]
        },
        {
          "output_type": "stream",
          "name": "stderr",
          "text": [
            "image 1/1: 452x602 1 bear\n",
            "Speed: 13.1ms pre-process, 393.9ms inference, 2.0ms NMS per image at shape (1, 3, 480, 640)\n",
            "Saved 1 image to \u001b[1m/content/output_images_folder315\u001b[0m\n",
            "/root/.cache/torch/hub/ultralytics_yolov5_master/models/common.py:892: FutureWarning: `torch.cuda.amp.autocast(args...)` is deprecated. Please use `torch.amp.autocast('cuda', args...)` instead.\n",
            "  with amp.autocast(autocast):\n"
          ]
        },
        {
          "output_type": "stream",
          "name": "stdout",
          "text": [
            "Processed raccoon-28.jpg and saved to /content/output_images_folder/raccoon-28.jpg\n"
          ]
        },
        {
          "output_type": "stream",
          "name": "stderr",
          "text": [
            "image 1/1: 428x640 1 bear\n",
            "Speed: 9.3ms pre-process, 421.5ms inference, 1.7ms NMS per image at shape (1, 3, 448, 640)\n",
            "Saved 1 image to \u001b[1m/content/output_images_folder316\u001b[0m\n",
            "/root/.cache/torch/hub/ultralytics_yolov5_master/models/common.py:892: FutureWarning: `torch.cuda.amp.autocast(args...)` is deprecated. Please use `torch.amp.autocast('cuda', args...)` instead.\n",
            "  with amp.autocast(autocast):\n"
          ]
        },
        {
          "output_type": "stream",
          "name": "stdout",
          "text": [
            "Processed raccoon-199.jpg and saved to /content/output_images_folder/raccoon-199.jpg\n"
          ]
        },
        {
          "output_type": "stream",
          "name": "stderr",
          "text": [
            "image 1/1: 540x720 (no detections)\n",
            "Speed: 20.9ms pre-process, 421.1ms inference, 1.2ms NMS per image at shape (1, 3, 480, 640)\n",
            "Saved 1 image to \u001b[1m/content/output_images_folder317\u001b[0m\n",
            "/root/.cache/torch/hub/ultralytics_yolov5_master/models/common.py:892: FutureWarning: `torch.cuda.amp.autocast(args...)` is deprecated. Please use `torch.amp.autocast('cuda', args...)` instead.\n",
            "  with amp.autocast(autocast):\n"
          ]
        },
        {
          "output_type": "stream",
          "name": "stdout",
          "text": [
            "Processed raccoon-20.jpg and saved to /content/output_images_folder/raccoon-20.jpg\n"
          ]
        },
        {
          "output_type": "stream",
          "name": "stderr",
          "text": [
            "image 1/1: 428x640 1 bear\n",
            "Speed: 11.0ms pre-process, 400.1ms inference, 2.0ms NMS per image at shape (1, 3, 448, 640)\n",
            "Saved 1 image to \u001b[1m/content/output_images_folder318\u001b[0m\n",
            "/root/.cache/torch/hub/ultralytics_yolov5_master/models/common.py:892: FutureWarning: `torch.cuda.amp.autocast(args...)` is deprecated. Please use `torch.amp.autocast('cuda', args...)` instead.\n",
            "  with amp.autocast(autocast):\n"
          ]
        },
        {
          "output_type": "stream",
          "name": "stdout",
          "text": [
            "Processed raccoon-36.jpg and saved to /content/output_images_folder/raccoon-36.jpg\n"
          ]
        },
        {
          "output_type": "stream",
          "name": "stderr",
          "text": [
            "image 1/1: 1080x1080 1 dog, 1 bear, 1 potted plant, 1 vase\n",
            "Speed: 33.0ms pre-process, 531.3ms inference, 5.6ms NMS per image at shape (1, 3, 640, 640)\n",
            "Saved 1 image to \u001b[1m/content/output_images_folder319\u001b[0m\n",
            "/root/.cache/torch/hub/ultralytics_yolov5_master/models/common.py:892: FutureWarning: `torch.cuda.amp.autocast(args...)` is deprecated. Please use `torch.amp.autocast('cuda', args...)` instead.\n",
            "  with amp.autocast(autocast):\n"
          ]
        },
        {
          "output_type": "stream",
          "name": "stdout",
          "text": [
            "Processed raccoon-194.jpg and saved to /content/output_images_folder/raccoon-194.jpg\n"
          ]
        },
        {
          "output_type": "stream",
          "name": "stderr",
          "text": [
            "image 1/1: 188x268 1 elephant\n",
            "Speed: 4.9ms pre-process, 386.3ms inference, 2.0ms NMS per image at shape (1, 3, 448, 640)\n",
            "Saved 1 image to \u001b[1m/content/output_images_folder320\u001b[0m\n",
            "/root/.cache/torch/hub/ultralytics_yolov5_master/models/common.py:892: FutureWarning: `torch.cuda.amp.autocast(args...)` is deprecated. Please use `torch.amp.autocast('cuda', args...)` instead.\n",
            "  with amp.autocast(autocast):\n"
          ]
        },
        {
          "output_type": "stream",
          "name": "stdout",
          "text": [
            "Processed raccoon-24.jpg and saved to /content/output_images_folder/raccoon-24.jpg\n"
          ]
        },
        {
          "output_type": "stream",
          "name": "stderr",
          "text": [
            "image 1/1: 225x225 1 dog\n",
            "Speed: 10.9ms pre-process, 514.6ms inference, 4.5ms NMS per image at shape (1, 3, 640, 640)\n",
            "Saved 1 image to \u001b[1m/content/output_images_folder321\u001b[0m\n",
            "/root/.cache/torch/hub/ultralytics_yolov5_master/models/common.py:892: FutureWarning: `torch.cuda.amp.autocast(args...)` is deprecated. Please use `torch.amp.autocast('cuda', args...)` instead.\n",
            "  with amp.autocast(autocast):\n"
          ]
        },
        {
          "output_type": "stream",
          "name": "stdout",
          "text": [
            "Processed raccoon-195.jpg and saved to /content/output_images_folder/raccoon-195.jpg\n"
          ]
        },
        {
          "output_type": "stream",
          "name": "stderr",
          "text": [
            "image 1/1: 593x520 1 person\n",
            "Speed: 9.5ms pre-process, 495.0ms inference, 5.3ms NMS per image at shape (1, 3, 640, 576)\n",
            "Saved 1 image to \u001b[1m/content/output_images_folder322\u001b[0m\n",
            "/root/.cache/torch/hub/ultralytics_yolov5_master/models/common.py:892: FutureWarning: `torch.cuda.amp.autocast(args...)` is deprecated. Please use `torch.amp.autocast('cuda', args...)` instead.\n",
            "  with amp.autocast(autocast):\n"
          ]
        },
        {
          "output_type": "stream",
          "name": "stdout",
          "text": [
            "Processed raccoon-37.jpg and saved to /content/output_images_folder/raccoon-37.jpg\n"
          ]
        },
        {
          "output_type": "stream",
          "name": "stderr",
          "text": [
            "image 1/1: 480x720 1 cat\n",
            "Speed: 9.3ms pre-process, 371.4ms inference, 4.4ms NMS per image at shape (1, 3, 448, 640)\n",
            "Saved 1 image to \u001b[1m/content/output_images_folder323\u001b[0m\n",
            "/root/.cache/torch/hub/ultralytics_yolov5_master/models/common.py:892: FutureWarning: `torch.cuda.amp.autocast(args...)` is deprecated. Please use `torch.amp.autocast('cuda', args...)` instead.\n",
            "  with amp.autocast(autocast):\n"
          ]
        },
        {
          "output_type": "stream",
          "name": "stdout",
          "text": [
            "Processed raccoon-3.jpg and saved to /content/output_images_folder/raccoon-3.jpg\n"
          ]
        },
        {
          "output_type": "stream",
          "name": "stderr",
          "text": [
            "image 1/1: 641x634 1 person, 1 dog\n",
            "Speed: 18.0ms pre-process, 532.4ms inference, 5.2ms NMS per image at shape (1, 3, 640, 640)\n",
            "Saved 1 image to \u001b[1m/content/output_images_folder324\u001b[0m\n",
            "/root/.cache/torch/hub/ultralytics_yolov5_master/models/common.py:892: FutureWarning: `torch.cuda.amp.autocast(args...)` is deprecated. Please use `torch.amp.autocast('cuda', args...)` instead.\n",
            "  with amp.autocast(autocast):\n"
          ]
        },
        {
          "output_type": "stream",
          "name": "stdout",
          "text": [
            "Processed raccoon-25.jpg and saved to /content/output_images_folder/raccoon-25.jpg\n"
          ]
        },
        {
          "output_type": "stream",
          "name": "stderr",
          "text": [
            "image 1/1: 401x602 (no detections)\n",
            "Speed: 8.0ms pre-process, 366.1ms inference, 4.3ms NMS per image at shape (1, 3, 448, 640)\n",
            "Saved 1 image to \u001b[1m/content/output_images_folder325\u001b[0m\n",
            "/root/.cache/torch/hub/ultralytics_yolov5_master/models/common.py:892: FutureWarning: `torch.cuda.amp.autocast(args...)` is deprecated. Please use `torch.amp.autocast('cuda', args...)` instead.\n",
            "  with amp.autocast(autocast):\n"
          ]
        },
        {
          "output_type": "stream",
          "name": "stdout",
          "text": [
            "Processed raccoon-27.jpg and saved to /content/output_images_folder/raccoon-27.jpg\n"
          ]
        },
        {
          "output_type": "stream",
          "name": "stderr",
          "text": [
            "image 1/1: 194x259 (no detections)\n",
            "Speed: 7.1ms pre-process, 387.7ms inference, 4.3ms NMS per image at shape (1, 3, 480, 640)\n",
            "Saved 1 image to \u001b[1m/content/output_images_folder326\u001b[0m\n",
            "/root/.cache/torch/hub/ultralytics_yolov5_master/models/common.py:892: FutureWarning: `torch.cuda.amp.autocast(args...)` is deprecated. Please use `torch.amp.autocast('cuda', args...)` instead.\n",
            "  with amp.autocast(autocast):\n"
          ]
        },
        {
          "output_type": "stream",
          "name": "stdout",
          "text": [
            "Processed raccoon-190.jpg and saved to /content/output_images_folder/raccoon-190.jpg\n"
          ]
        },
        {
          "output_type": "stream",
          "name": "stderr",
          "text": [
            "image 1/1: 183x275 1 bear\n",
            "Speed: 9.1ms pre-process, 385.1ms inference, 3.9ms NMS per image at shape (1, 3, 448, 640)\n",
            "Saved 1 image to \u001b[1m/content/output_images_folder327\u001b[0m\n",
            "/root/.cache/torch/hub/ultralytics_yolov5_master/models/common.py:892: FutureWarning: `torch.cuda.amp.autocast(args...)` is deprecated. Please use `torch.amp.autocast('cuda', args...)` instead.\n",
            "  with amp.autocast(autocast):\n"
          ]
        },
        {
          "output_type": "stream",
          "name": "stdout",
          "text": [
            "Processed raccoon-29.jpg and saved to /content/output_images_folder/raccoon-29.jpg\n"
          ]
        },
        {
          "output_type": "stream",
          "name": "stderr",
          "text": [
            "image 1/1: 194x259 2 persons\n",
            "Speed: 7.2ms pre-process, 390.7ms inference, 1.7ms NMS per image at shape (1, 3, 480, 640)\n",
            "Saved 1 image to \u001b[1m/content/output_images_folder328\u001b[0m\n",
            "/root/.cache/torch/hub/ultralytics_yolov5_master/models/common.py:892: FutureWarning: `torch.cuda.amp.autocast(args...)` is deprecated. Please use `torch.amp.autocast('cuda', args...)` instead.\n",
            "  with amp.autocast(autocast):\n"
          ]
        },
        {
          "output_type": "stream",
          "name": "stdout",
          "text": [
            "Processed raccoon-19.jpg and saved to /content/output_images_folder/raccoon-19.jpg\n"
          ]
        },
        {
          "output_type": "stream",
          "name": "stderr",
          "text": [
            "image 1/1: 450x600 1 cat, 1 bed\n",
            "Speed: 11.0ms pre-process, 380.1ms inference, 2.2ms NMS per image at shape (1, 3, 480, 640)\n",
            "Saved 1 image to \u001b[1m/content/output_images_folder329\u001b[0m\n",
            "/root/.cache/torch/hub/ultralytics_yolov5_master/models/common.py:892: FutureWarning: `torch.cuda.amp.autocast(args...)` is deprecated. Please use `torch.amp.autocast('cuda', args...)` instead.\n",
            "  with amp.autocast(autocast):\n"
          ]
        },
        {
          "output_type": "stream",
          "name": "stdout",
          "text": [
            "Processed raccoon-189.jpg and saved to /content/output_images_folder/raccoon-189.jpg\n"
          ]
        },
        {
          "output_type": "stream",
          "name": "stderr",
          "text": [
            "image 1/1: 374x306 1 person\n",
            "Speed: 6.0ms pre-process, 402.2ms inference, 4.1ms NMS per image at shape (1, 3, 640, 544)\n",
            "Saved 1 image to \u001b[1m/content/output_images_folder330\u001b[0m\n",
            "/root/.cache/torch/hub/ultralytics_yolov5_master/models/common.py:892: FutureWarning: `torch.cuda.amp.autocast(args...)` is deprecated. Please use `torch.amp.autocast('cuda', args...)` instead.\n",
            "  with amp.autocast(autocast):\n"
          ]
        },
        {
          "output_type": "stream",
          "name": "stdout",
          "text": [
            "Processed raccoon-26.jpg and saved to /content/output_images_folder/raccoon-26.jpg\n"
          ]
        },
        {
          "output_type": "stream",
          "name": "stderr",
          "text": [
            "image 1/1: 445x634 1 cat, 1 bear, 2 apples\n",
            "Speed: 9.0ms pre-process, 362.4ms inference, 2.0ms NMS per image at shape (1, 3, 480, 640)\n",
            "Saved 1 image to \u001b[1m/content/output_images_folder331\u001b[0m\n",
            "/root/.cache/torch/hub/ultralytics_yolov5_master/models/common.py:892: FutureWarning: `torch.cuda.amp.autocast(args...)` is deprecated. Please use `torch.amp.autocast('cuda', args...)` instead.\n",
            "  with amp.autocast(autocast):\n"
          ]
        },
        {
          "output_type": "stream",
          "name": "stdout",
          "text": [
            "Processed raccoon-191.jpg and saved to /content/output_images_folder/raccoon-191.jpg\n"
          ]
        },
        {
          "output_type": "stream",
          "name": "stderr",
          "text": [
            "image 1/1: 174x290 1 bear\n",
            "Speed: 4.2ms pre-process, 280.0ms inference, 1.3ms NMS per image at shape (1, 3, 384, 640)\n",
            "Saved 1 image to \u001b[1m/content/output_images_folder332\u001b[0m\n",
            "/root/.cache/torch/hub/ultralytics_yolov5_master/models/common.py:892: FutureWarning: `torch.cuda.amp.autocast(args...)` is deprecated. Please use `torch.amp.autocast('cuda', args...)` instead.\n",
            "  with amp.autocast(autocast):\n"
          ]
        },
        {
          "output_type": "stream",
          "name": "stdout",
          "text": [
            "Processed raccoon-21.jpg and saved to /content/output_images_folder/raccoon-21.jpg\n"
          ]
        },
        {
          "output_type": "stream",
          "name": "stderr",
          "text": [
            "image 1/1: 720x1280 1 person\n",
            "Speed: 12.0ms pre-process, 266.7ms inference, 1.7ms NMS per image at shape (1, 3, 384, 640)\n",
            "Saved 1 image to \u001b[1m/content/output_images_folder333\u001b[0m\n",
            "/root/.cache/torch/hub/ultralytics_yolov5_master/models/common.py:892: FutureWarning: `torch.cuda.amp.autocast(args...)` is deprecated. Please use `torch.amp.autocast('cuda', args...)` instead.\n",
            "  with amp.autocast(autocast):\n"
          ]
        },
        {
          "output_type": "stream",
          "name": "stdout",
          "text": [
            "Processed raccoon-197.jpg and saved to /content/output_images_folder/raccoon-197.jpg\n"
          ]
        },
        {
          "output_type": "stream",
          "name": "stderr",
          "text": [
            "image 1/1: 214x236 1 cat\n",
            "Speed: 4.8ms pre-process, 700.3ms inference, 10.9ms NMS per image at shape (1, 3, 608, 640)\n",
            "Saved 1 image to \u001b[1m/content/output_images_folder334\u001b[0m\n",
            "/root/.cache/torch/hub/ultralytics_yolov5_master/models/common.py:892: FutureWarning: `torch.cuda.amp.autocast(args...)` is deprecated. Please use `torch.amp.autocast('cuda', args...)` instead.\n",
            "  with amp.autocast(autocast):\n"
          ]
        },
        {
          "output_type": "stream",
          "name": "stdout",
          "text": [
            "Processed raccoon-31.jpg and saved to /content/output_images_folder/raccoon-31.jpg\n"
          ]
        },
        {
          "output_type": "stream",
          "name": "stderr",
          "text": [
            "image 1/1: 400x600 1 bear\n",
            "Speed: 9.5ms pre-process, 499.0ms inference, 1.8ms NMS per image at shape (1, 3, 448, 640)\n",
            "Saved 1 image to \u001b[1m/content/output_images_folder335\u001b[0m\n",
            "/root/.cache/torch/hub/ultralytics_yolov5_master/models/common.py:892: FutureWarning: `torch.cuda.amp.autocast(args...)` is deprecated. Please use `torch.amp.autocast('cuda', args...)` instead.\n",
            "  with amp.autocast(autocast):\n"
          ]
        },
        {
          "output_type": "stream",
          "name": "stdout",
          "text": [
            "Processed raccoon-63.jpg and saved to /content/output_images_folder/raccoon-63.jpg\n"
          ]
        },
        {
          "output_type": "stream",
          "name": "stderr",
          "text": [
            "image 1/1: 210x240 (no detections)\n",
            "Speed: 9.1ms pre-process, 648.3ms inference, 4.8ms NMS per image at shape (1, 3, 576, 640)\n",
            "Saved 1 image to \u001b[1m/content/output_images_folder336\u001b[0m\n",
            "/root/.cache/torch/hub/ultralytics_yolov5_master/models/common.py:892: FutureWarning: `torch.cuda.amp.autocast(args...)` is deprecated. Please use `torch.amp.autocast('cuda', args...)` instead.\n",
            "  with amp.autocast(autocast):\n"
          ]
        },
        {
          "output_type": "stream",
          "name": "stdout",
          "text": [
            "Processed raccoon-56.jpg and saved to /content/output_images_folder/raccoon-56.jpg\n"
          ]
        },
        {
          "output_type": "stream",
          "name": "stderr",
          "text": [
            "image 1/1: 1024x577 1 dog, 1 bottle\n",
            "Speed: 13.0ms pre-process, 431.0ms inference, 2.3ms NMS per image at shape (1, 3, 640, 384)\n",
            "Saved 1 image to \u001b[1m/content/output_images_folder337\u001b[0m\n",
            "/root/.cache/torch/hub/ultralytics_yolov5_master/models/common.py:892: FutureWarning: `torch.cuda.amp.autocast(args...)` is deprecated. Please use `torch.amp.autocast('cuda', args...)` instead.\n",
            "  with amp.autocast(autocast):\n"
          ]
        },
        {
          "output_type": "stream",
          "name": "stdout",
          "text": [
            "Processed raccoon-42.jpg and saved to /content/output_images_folder/raccoon-42.jpg\n"
          ]
        },
        {
          "output_type": "stream",
          "name": "stderr",
          "text": [
            "image 1/1: 187x270 (no detections)\n",
            "Speed: 7.0ms pre-process, 1127.5ms inference, 5.1ms NMS per image at shape (1, 3, 448, 640)\n",
            "Saved 1 image to \u001b[1m/content/output_images_folder338\u001b[0m\n",
            "/root/.cache/torch/hub/ultralytics_yolov5_master/models/common.py:892: FutureWarning: `torch.cuda.amp.autocast(args...)` is deprecated. Please use `torch.amp.autocast('cuda', args...)` instead.\n",
            "  with amp.autocast(autocast):\n"
          ]
        },
        {
          "output_type": "stream",
          "name": "stdout",
          "text": [
            "Processed raccoon-5.jpg and saved to /content/output_images_folder/raccoon-5.jpg\n"
          ]
        },
        {
          "output_type": "stream",
          "name": "stderr",
          "text": [
            "image 1/1: 500x700 1 bear\n",
            "Speed: 20.6ms pre-process, 573.4ms inference, 2.2ms NMS per image at shape (1, 3, 480, 640)\n",
            "Saved 1 image to \u001b[1m/content/output_images_folder339\u001b[0m\n",
            "/root/.cache/torch/hub/ultralytics_yolov5_master/models/common.py:892: FutureWarning: `torch.cuda.amp.autocast(args...)` is deprecated. Please use `torch.amp.autocast('cuda', args...)` instead.\n",
            "  with amp.autocast(autocast):\n"
          ]
        },
        {
          "output_type": "stream",
          "name": "stdout",
          "text": [
            "Processed raccoon-41.jpg and saved to /content/output_images_folder/raccoon-41.jpg\n"
          ]
        },
        {
          "output_type": "stream",
          "name": "stderr",
          "text": [
            "image 1/1: 185x272 1 bear\n",
            "Speed: 5.8ms pre-process, 532.8ms inference, 2.0ms NMS per image at shape (1, 3, 448, 640)\n",
            "Saved 1 image to \u001b[1m/content/output_images_folder340\u001b[0m\n",
            "/root/.cache/torch/hub/ultralytics_yolov5_master/models/common.py:892: FutureWarning: `torch.cuda.amp.autocast(args...)` is deprecated. Please use `torch.amp.autocast('cuda', args...)` instead.\n",
            "  with amp.autocast(autocast):\n"
          ]
        },
        {
          "output_type": "stream",
          "name": "stdout",
          "text": [
            "Processed raccoon-67.jpg and saved to /content/output_images_folder/raccoon-67.jpg\n"
          ]
        },
        {
          "output_type": "stream",
          "name": "stderr",
          "text": [
            "image 1/1: 194x259 1 person, 1 bear\n",
            "Speed: 7.2ms pre-process, 526.6ms inference, 2.2ms NMS per image at shape (1, 3, 480, 640)\n",
            "Saved 1 image to \u001b[1m/content/output_images_folder341\u001b[0m\n",
            "/root/.cache/torch/hub/ultralytics_yolov5_master/models/common.py:892: FutureWarning: `torch.cuda.amp.autocast(args...)` is deprecated. Please use `torch.amp.autocast('cuda', args...)` instead.\n",
            "  with amp.autocast(autocast):\n"
          ]
        },
        {
          "output_type": "stream",
          "name": "stdout",
          "text": [
            "Processed raccoon-53.jpg and saved to /content/output_images_folder/raccoon-53.jpg\n"
          ]
        },
        {
          "output_type": "stream",
          "name": "stderr",
          "text": [
            "image 1/1: 360x480 1 bowl\n",
            "Speed: 15.4ms pre-process, 540.4ms inference, 2.0ms NMS per image at shape (1, 3, 480, 640)\n",
            "Saved 1 image to \u001b[1m/content/output_images_folder342\u001b[0m\n",
            "/root/.cache/torch/hub/ultralytics_yolov5_master/models/common.py:892: FutureWarning: `torch.cuda.amp.autocast(args...)` is deprecated. Please use `torch.amp.autocast('cuda', args...)` instead.\n",
            "  with amp.autocast(autocast):\n"
          ]
        },
        {
          "output_type": "stream",
          "name": "stdout",
          "text": [
            "Processed raccoon-65.jpg and saved to /content/output_images_folder/raccoon-65.jpg\n"
          ]
        },
        {
          "output_type": "stream",
          "name": "stderr",
          "text": [
            "image 1/1: 395x640 1 bear\n",
            "Speed: 8.1ms pre-process, 319.9ms inference, 1.9ms NMS per image at shape (1, 3, 416, 640)\n",
            "Saved 1 image to \u001b[1m/content/output_images_folder343\u001b[0m\n",
            "/root/.cache/torch/hub/ultralytics_yolov5_master/models/common.py:892: FutureWarning: `torch.cuda.amp.autocast(args...)` is deprecated. Please use `torch.amp.autocast('cuda', args...)` instead.\n",
            "  with amp.autocast(autocast):\n"
          ]
        },
        {
          "output_type": "stream",
          "name": "stdout",
          "text": [
            "Processed raccoon-49.jpg and saved to /content/output_images_folder/raccoon-49.jpg\n"
          ]
        },
        {
          "output_type": "stream",
          "name": "stderr",
          "text": [
            "image 1/1: 318x576 1 dog\n",
            "Speed: 7.4ms pre-process, 296.4ms inference, 1.9ms NMS per image at shape (1, 3, 384, 640)\n",
            "Saved 1 image to \u001b[1m/content/output_images_folder344\u001b[0m\n",
            "/root/.cache/torch/hub/ultralytics_yolov5_master/models/common.py:892: FutureWarning: `torch.cuda.amp.autocast(args...)` is deprecated. Please use `torch.amp.autocast('cuda', args...)` instead.\n",
            "  with amp.autocast(autocast):\n"
          ]
        },
        {
          "output_type": "stream",
          "name": "stdout",
          "text": [
            "Processed raccoon-46.jpg and saved to /content/output_images_folder/raccoon-46.jpg\n"
          ]
        },
        {
          "output_type": "stream",
          "name": "stderr",
          "text": [
            "image 1/1: 360x480 1 cat, 1 dog\n",
            "Speed: 7.7ms pre-process, 392.2ms inference, 1.8ms NMS per image at shape (1, 3, 480, 640)\n",
            "Saved 1 image to \u001b[1m/content/output_images_folder345\u001b[0m\n",
            "/root/.cache/torch/hub/ultralytics_yolov5_master/models/common.py:892: FutureWarning: `torch.cuda.amp.autocast(args...)` is deprecated. Please use `torch.amp.autocast('cuda', args...)` instead.\n",
            "  with amp.autocast(autocast):\n"
          ]
        },
        {
          "output_type": "stream",
          "name": "stdout",
          "text": [
            "Processed raccoon-40.jpg and saved to /content/output_images_folder/raccoon-40.jpg\n"
          ]
        },
        {
          "output_type": "stream",
          "name": "stderr",
          "text": [
            "image 1/1: 599x800 3 cats, 1 bear\n",
            "Speed: 11.2ms pre-process, 391.0ms inference, 4.9ms NMS per image at shape (1, 3, 480, 640)\n",
            "Saved 1 image to \u001b[1m/content/output_images_folder346\u001b[0m\n",
            "/root/.cache/torch/hub/ultralytics_yolov5_master/models/common.py:892: FutureWarning: `torch.cuda.amp.autocast(args...)` is deprecated. Please use `torch.amp.autocast('cuda', args...)` instead.\n",
            "  with amp.autocast(autocast):\n"
          ]
        },
        {
          "output_type": "stream",
          "name": "stdout",
          "text": [
            "Processed raccoon-51.jpg and saved to /content/output_images_folder/raccoon-51.jpg\n"
          ]
        },
        {
          "output_type": "stream",
          "name": "stderr",
          "text": [
            "image 1/1: 193x262 1 bear\n",
            "Speed: 5.0ms pre-process, 415.6ms inference, 8.1ms NMS per image at shape (1, 3, 480, 640)\n",
            "Saved 1 image to \u001b[1m/content/output_images_folder347\u001b[0m\n",
            "/root/.cache/torch/hub/ultralytics_yolov5_master/models/common.py:892: FutureWarning: `torch.cuda.amp.autocast(args...)` is deprecated. Please use `torch.amp.autocast('cuda', args...)` instead.\n",
            "  with amp.autocast(autocast):\n"
          ]
        },
        {
          "output_type": "stream",
          "name": "stdout",
          "text": [
            "Processed raccoon-47.jpg and saved to /content/output_images_folder/raccoon-47.jpg\n"
          ]
        },
        {
          "output_type": "stream",
          "name": "stderr",
          "text": [
            "image 1/1: 172x250 1 cat\n",
            "Speed: 4.9ms pre-process, 367.1ms inference, 4.1ms NMS per image at shape (1, 3, 448, 640)\n",
            "Saved 1 image to \u001b[1m/content/output_images_folder348\u001b[0m\n",
            "/root/.cache/torch/hub/ultralytics_yolov5_master/models/common.py:892: FutureWarning: `torch.cuda.amp.autocast(args...)` is deprecated. Please use `torch.amp.autocast('cuda', args...)` instead.\n",
            "  with amp.autocast(autocast):\n"
          ]
        },
        {
          "output_type": "stream",
          "name": "stdout",
          "text": [
            "Processed raccoon-39.jpg and saved to /content/output_images_folder/raccoon-39.jpg\n"
          ]
        },
        {
          "output_type": "stream",
          "name": "stderr",
          "text": [
            "image 1/1: 423x640 1 dog\n",
            "Speed: 8.5ms pre-process, 383.0ms inference, 4.3ms NMS per image at shape (1, 3, 448, 640)\n",
            "Saved 1 image to \u001b[1m/content/output_images_folder349\u001b[0m\n",
            "/root/.cache/torch/hub/ultralytics_yolov5_master/models/common.py:892: FutureWarning: `torch.cuda.amp.autocast(args...)` is deprecated. Please use `torch.amp.autocast('cuda', args...)` instead.\n",
            "  with amp.autocast(autocast):\n"
          ]
        },
        {
          "output_type": "stream",
          "name": "stdout",
          "text": [
            "Processed raccoon-68.jpg and saved to /content/output_images_folder/raccoon-68.jpg\n"
          ]
        },
        {
          "output_type": "stream",
          "name": "stderr",
          "text": [
            "image 1/1: 183x275 1 bear, 1 apple\n",
            "Speed: 5.0ms pre-process, 380.9ms inference, 1.8ms NMS per image at shape (1, 3, 448, 640)\n",
            "Saved 1 image to \u001b[1m/content/output_images_folder350\u001b[0m\n",
            "/root/.cache/torch/hub/ultralytics_yolov5_master/models/common.py:892: FutureWarning: `torch.cuda.amp.autocast(args...)` is deprecated. Please use `torch.amp.autocast('cuda', args...)` instead.\n",
            "  with amp.autocast(autocast):\n"
          ]
        },
        {
          "output_type": "stream",
          "name": "stdout",
          "text": [
            "Processed raccoon-4.jpg and saved to /content/output_images_folder/raccoon-4.jpg\n"
          ]
        },
        {
          "output_type": "stream",
          "name": "stderr",
          "text": [
            "image 1/1: 417x634 2 sheeps, 1 bear\n",
            "Speed: 9.6ms pre-process, 365.4ms inference, 4.3ms NMS per image at shape (1, 3, 448, 640)\n",
            "Saved 1 image to \u001b[1m/content/output_images_folder351\u001b[0m\n",
            "/root/.cache/torch/hub/ultralytics_yolov5_master/models/common.py:892: FutureWarning: `torch.cuda.amp.autocast(args...)` is deprecated. Please use `torch.amp.autocast('cuda', args...)` instead.\n",
            "  with amp.autocast(autocast):\n"
          ]
        },
        {
          "output_type": "stream",
          "name": "stdout",
          "text": [
            "Processed raccoon-55.jpg and saved to /content/output_images_folder/raccoon-55.jpg\n"
          ]
        },
        {
          "output_type": "stream",
          "name": "stderr",
          "text": [
            "image 1/1: 407x640 1 dog\n",
            "Speed: 8.3ms pre-process, 327.3ms inference, 1.8ms NMS per image at shape (1, 3, 416, 640)\n",
            "Saved 1 image to \u001b[1m/content/output_images_folder352\u001b[0m\n",
            "/root/.cache/torch/hub/ultralytics_yolov5_master/models/common.py:892: FutureWarning: `torch.cuda.amp.autocast(args...)` is deprecated. Please use `torch.amp.autocast('cuda', args...)` instead.\n",
            "  with amp.autocast(autocast):\n"
          ]
        },
        {
          "output_type": "stream",
          "name": "stdout",
          "text": [
            "Processed raccoon-62.jpg and saved to /content/output_images_folder/raccoon-62.jpg\n"
          ]
        },
        {
          "output_type": "stream",
          "name": "stderr",
          "text": [
            "image 1/1: 184x274 1 dog, 1 bear, 1 orange\n",
            "Speed: 5.4ms pre-process, 350.2ms inference, 1.7ms NMS per image at shape (1, 3, 448, 640)\n",
            "Saved 1 image to \u001b[1m/content/output_images_folder353\u001b[0m\n",
            "/root/.cache/torch/hub/ultralytics_yolov5_master/models/common.py:892: FutureWarning: `torch.cuda.amp.autocast(args...)` is deprecated. Please use `torch.amp.autocast('cuda', args...)` instead.\n",
            "  with amp.autocast(autocast):\n"
          ]
        },
        {
          "output_type": "stream",
          "name": "stdout",
          "text": [
            "Processed raccoon-61.jpg and saved to /content/output_images_folder/raccoon-61.jpg\n"
          ]
        },
        {
          "output_type": "stream",
          "name": "stderr",
          "text": [
            "image 1/1: 360x480 1 person, 1 bowl\n",
            "Speed: 6.2ms pre-process, 424.4ms inference, 1.8ms NMS per image at shape (1, 3, 480, 640)\n",
            "Saved 1 image to \u001b[1m/content/output_images_folder354\u001b[0m\n",
            "/root/.cache/torch/hub/ultralytics_yolov5_master/models/common.py:892: FutureWarning: `torch.cuda.amp.autocast(args...)` is deprecated. Please use `torch.amp.autocast('cuda', args...)` instead.\n",
            "  with amp.autocast(autocast):\n"
          ]
        },
        {
          "output_type": "stream",
          "name": "stdout",
          "text": [
            "Processed raccoon-43.jpg and saved to /content/output_images_folder/raccoon-43.jpg\n"
          ]
        },
        {
          "output_type": "stream",
          "name": "stderr",
          "text": [
            "image 1/1: 194x259 1 cat\n",
            "Speed: 7.4ms pre-process, 401.3ms inference, 1.6ms NMS per image at shape (1, 3, 480, 640)\n",
            "Saved 1 image to \u001b[1m/content/output_images_folder355\u001b[0m\n",
            "/root/.cache/torch/hub/ultralytics_yolov5_master/models/common.py:892: FutureWarning: `torch.cuda.amp.autocast(args...)` is deprecated. Please use `torch.amp.autocast('cuda', args...)` instead.\n",
            "  with amp.autocast(autocast):\n"
          ]
        },
        {
          "output_type": "stream",
          "name": "stdout",
          "text": [
            "Processed raccoon-64.jpg and saved to /content/output_images_folder/raccoon-64.jpg\n"
          ]
        },
        {
          "output_type": "stream",
          "name": "stderr",
          "text": [
            "image 1/1: 425x640 1 bear\n",
            "Speed: 7.6ms pre-process, 378.2ms inference, 4.9ms NMS per image at shape (1, 3, 448, 640)\n",
            "Saved 1 image to \u001b[1m/content/output_images_folder356\u001b[0m\n",
            "/root/.cache/torch/hub/ultralytics_yolov5_master/models/common.py:892: FutureWarning: `torch.cuda.amp.autocast(args...)` is deprecated. Please use `torch.amp.autocast('cuda', args...)` instead.\n",
            "  with amp.autocast(autocast):\n"
          ]
        },
        {
          "output_type": "stream",
          "name": "stdout",
          "text": [
            "Processed raccoon-57.jpg and saved to /content/output_images_folder/raccoon-57.jpg\n"
          ]
        },
        {
          "output_type": "stream",
          "name": "stderr",
          "text": [
            "image 1/1: 168x300 1 dog, 1 bear\n",
            "Speed: 6.8ms pre-process, 303.5ms inference, 1.5ms NMS per image at shape (1, 3, 384, 640)\n",
            "Saved 1 image to \u001b[1m/content/output_images_folder357\u001b[0m\n",
            "/root/.cache/torch/hub/ultralytics_yolov5_master/models/common.py:892: FutureWarning: `torch.cuda.amp.autocast(args...)` is deprecated. Please use `torch.amp.autocast('cuda', args...)` instead.\n",
            "  with amp.autocast(autocast):\n"
          ]
        },
        {
          "output_type": "stream",
          "name": "stdout",
          "text": [
            "Processed raccoon-44.jpg and saved to /content/output_images_folder/raccoon-44.jpg\n"
          ]
        },
        {
          "output_type": "stream",
          "name": "stderr",
          "text": [
            "image 1/1: 484x860 1 bear\n",
            "Speed: 13.1ms pre-process, 302.2ms inference, 1.6ms NMS per image at shape (1, 3, 384, 640)\n",
            "Saved 1 image to \u001b[1m/content/output_images_folder358\u001b[0m\n",
            "/root/.cache/torch/hub/ultralytics_yolov5_master/models/common.py:892: FutureWarning: `torch.cuda.amp.autocast(args...)` is deprecated. Please use `torch.amp.autocast('cuda', args...)` instead.\n",
            "  with amp.autocast(autocast):\n"
          ]
        },
        {
          "output_type": "stream",
          "name": "stdout",
          "text": [
            "Processed raccoon-66.jpg and saved to /content/output_images_folder/raccoon-66.jpg\n"
          ]
        },
        {
          "output_type": "stream",
          "name": "stderr",
          "text": [
            "image 1/1: 183x275 1 cat\n",
            "Speed: 5.5ms pre-process, 363.8ms inference, 4.0ms NMS per image at shape (1, 3, 448, 640)\n",
            "Saved 1 image to \u001b[1m/content/output_images_folder359\u001b[0m\n",
            "/root/.cache/torch/hub/ultralytics_yolov5_master/models/common.py:892: FutureWarning: `torch.cuda.amp.autocast(args...)` is deprecated. Please use `torch.amp.autocast('cuda', args...)` instead.\n",
            "  with amp.autocast(autocast):\n"
          ]
        },
        {
          "output_type": "stream",
          "name": "stdout",
          "text": [
            "Processed raccoon-50.jpg and saved to /content/output_images_folder/raccoon-50.jpg\n"
          ]
        },
        {
          "output_type": "stream",
          "name": "stderr",
          "text": [
            "image 1/1: 533x800 1 bear\n",
            "Speed: 10.1ms pre-process, 374.6ms inference, 4.4ms NMS per image at shape (1, 3, 448, 640)\n",
            "Saved 1 image to \u001b[1m/content/output_images_folder360\u001b[0m\n",
            "/root/.cache/torch/hub/ultralytics_yolov5_master/models/common.py:892: FutureWarning: `torch.cuda.amp.autocast(args...)` is deprecated. Please use `torch.amp.autocast('cuda', args...)` instead.\n",
            "  with amp.autocast(autocast):\n"
          ]
        },
        {
          "output_type": "stream",
          "name": "stdout",
          "text": [
            "Processed raccoon-52.jpg and saved to /content/output_images_folder/raccoon-52.jpg\n"
          ]
        },
        {
          "output_type": "stream",
          "name": "stderr",
          "text": [
            "image 1/1: 185x273 1 cat\n",
            "Speed: 5.9ms pre-process, 377.0ms inference, 1.7ms NMS per image at shape (1, 3, 448, 640)\n",
            "Saved 1 image to \u001b[1m/content/output_images_folder361\u001b[0m\n",
            "/root/.cache/torch/hub/ultralytics_yolov5_master/models/common.py:892: FutureWarning: `torch.cuda.amp.autocast(args...)` is deprecated. Please use `torch.amp.autocast('cuda', args...)` instead.\n",
            "  with amp.autocast(autocast):\n"
          ]
        },
        {
          "output_type": "stream",
          "name": "stdout",
          "text": [
            "Processed raccoon-60.jpg and saved to /content/output_images_folder/raccoon-60.jpg\n"
          ]
        },
        {
          "output_type": "stream",
          "name": "stderr",
          "text": [
            "image 1/1: 360x480 1 dog, 1 frisbee, 1 cup, 1 chair\n",
            "Speed: 9.9ms pre-process, 382.5ms inference, 1.8ms NMS per image at shape (1, 3, 480, 640)\n",
            "Saved 1 image to \u001b[1m/content/output_images_folder362\u001b[0m\n",
            "/root/.cache/torch/hub/ultralytics_yolov5_master/models/common.py:892: FutureWarning: `torch.cuda.amp.autocast(args...)` is deprecated. Please use `torch.amp.autocast('cuda', args...)` instead.\n",
            "  with amp.autocast(autocast):\n"
          ]
        },
        {
          "output_type": "stream",
          "name": "stdout",
          "text": [
            "Processed raccoon-6.jpg and saved to /content/output_images_folder/raccoon-6.jpg\n"
          ]
        },
        {
          "output_type": "stream",
          "name": "stderr",
          "text": [
            "image 1/1: 600x600 1 cat, 1 vase\n",
            "Speed: 15.0ms pre-process, 526.6ms inference, 4.5ms NMS per image at shape (1, 3, 640, 640)\n",
            "Saved 1 image to \u001b[1m/content/output_images_folder363\u001b[0m\n",
            "/root/.cache/torch/hub/ultralytics_yolov5_master/models/common.py:892: FutureWarning: `torch.cuda.amp.autocast(args...)` is deprecated. Please use `torch.amp.autocast('cuda', args...)` instead.\n",
            "  with amp.autocast(autocast):\n"
          ]
        },
        {
          "output_type": "stream",
          "name": "stdout",
          "text": [
            "Processed raccoon-59.jpg and saved to /content/output_images_folder/raccoon-59.jpg\n"
          ]
        },
        {
          "output_type": "stream",
          "name": "stderr",
          "text": [
            "image 1/1: 372x620 1 bird, 1 bear, 1 sports ball\n",
            "Speed: 7.1ms pre-process, 300.5ms inference, 1.7ms NMS per image at shape (1, 3, 384, 640)\n",
            "Saved 1 image to \u001b[1m/content/output_images_folder364\u001b[0m\n",
            "/root/.cache/torch/hub/ultralytics_yolov5_master/models/common.py:892: FutureWarning: `torch.cuda.amp.autocast(args...)` is deprecated. Please use `torch.amp.autocast('cuda', args...)` instead.\n",
            "  with amp.autocast(autocast):\n"
          ]
        },
        {
          "output_type": "stream",
          "name": "stdout",
          "text": [
            "Processed raccoon-45.jpg and saved to /content/output_images_folder/raccoon-45.jpg\n"
          ]
        },
        {
          "output_type": "stream",
          "name": "stderr",
          "text": [
            "image 1/1: 225x224 1 cat, 1 toothbrush\n",
            "Speed: 6.6ms pre-process, 525.0ms inference, 9.1ms NMS per image at shape (1, 3, 640, 640)\n",
            "Saved 1 image to \u001b[1m/content/output_images_folder365\u001b[0m\n",
            "/root/.cache/torch/hub/ultralytics_yolov5_master/models/common.py:892: FutureWarning: `torch.cuda.amp.autocast(args...)` is deprecated. Please use `torch.amp.autocast('cuda', args...)` instead.\n",
            "  with amp.autocast(autocast):\n"
          ]
        },
        {
          "output_type": "stream",
          "name": "stdout",
          "text": [
            "Processed raccoon-58.jpg and saved to /content/output_images_folder/raccoon-58.jpg\n"
          ]
        },
        {
          "output_type": "stream",
          "name": "stderr",
          "text": [
            "image 1/1: 193x261 1 bear\n",
            "Speed: 7.9ms pre-process, 401.5ms inference, 1.9ms NMS per image at shape (1, 3, 480, 640)\n",
            "Saved 1 image to \u001b[1m/content/output_images_folder366\u001b[0m\n",
            "/root/.cache/torch/hub/ultralytics_yolov5_master/models/common.py:892: FutureWarning: `torch.cuda.amp.autocast(args...)` is deprecated. Please use `torch.amp.autocast('cuda', args...)` instead.\n",
            "  with amp.autocast(autocast):\n"
          ]
        },
        {
          "output_type": "stream",
          "name": "stdout",
          "text": [
            "Processed raccoon-48.jpg and saved to /content/output_images_folder/raccoon-48.jpg\n"
          ]
        },
        {
          "output_type": "stream",
          "name": "stderr",
          "text": [
            "image 1/1: 246x205 1 sheep\n",
            "Speed: 7.6ms pre-process, 649.4ms inference, 6.4ms NMS per image at shape (1, 3, 640, 544)\n",
            "Saved 1 image to \u001b[1m/content/output_images_folder367\u001b[0m\n",
            "/root/.cache/torch/hub/ultralytics_yolov5_master/models/common.py:892: FutureWarning: `torch.cuda.amp.autocast(args...)` is deprecated. Please use `torch.amp.autocast('cuda', args...)` instead.\n",
            "  with amp.autocast(autocast):\n"
          ]
        },
        {
          "output_type": "stream",
          "name": "stdout",
          "text": [
            "Processed raccoon-69.jpg and saved to /content/output_images_folder/raccoon-69.jpg\n"
          ]
        },
        {
          "output_type": "stream",
          "name": "stderr",
          "text": [
            "image 1/1: 339x602 1 cat\n",
            "Speed: 8.8ms pre-process, 443.5ms inference, 1.8ms NMS per image at shape (1, 3, 384, 640)\n",
            "Saved 1 image to \u001b[1m/content/output_images_folder368\u001b[0m\n",
            "/root/.cache/torch/hub/ultralytics_yolov5_master/models/common.py:892: FutureWarning: `torch.cuda.amp.autocast(args...)` is deprecated. Please use `torch.amp.autocast('cuda', args...)` instead.\n",
            "  with amp.autocast(autocast):\n"
          ]
        },
        {
          "output_type": "stream",
          "name": "stdout",
          "text": [
            "Processed raccoon-54.jpg and saved to /content/output_images_folder/raccoon-54.jpg\n"
          ]
        },
        {
          "output_type": "stream",
          "name": "stderr",
          "text": [
            "image 1/1: 177x284 1 bear\n",
            "Speed: 6.5ms pre-process, 458.0ms inference, 1.6ms NMS per image at shape (1, 3, 416, 640)\n",
            "Saved 1 image to \u001b[1m/content/output_images_folder369\u001b[0m\n",
            "/root/.cache/torch/hub/ultralytics_yolov5_master/models/common.py:892: FutureWarning: `torch.cuda.amp.autocast(args...)` is deprecated. Please use `torch.amp.autocast('cuda', args...)` instead.\n",
            "  with amp.autocast(autocast):\n"
          ]
        },
        {
          "output_type": "stream",
          "name": "stdout",
          "text": [
            "Processed raccoon-73.jpg and saved to /content/output_images_folder/raccoon-73.jpg\n"
          ]
        },
        {
          "output_type": "stream",
          "name": "stderr",
          "text": [
            "image 1/1: 426x640 1 dog, 1 bear\n",
            "Speed: 10.3ms pre-process, 531.8ms inference, 6.0ms NMS per image at shape (1, 3, 448, 640)\n",
            "Saved 1 image to \u001b[1m/content/output_images_folder370\u001b[0m\n",
            "/root/.cache/torch/hub/ultralytics_yolov5_master/models/common.py:892: FutureWarning: `torch.cuda.amp.autocast(args...)` is deprecated. Please use `torch.amp.autocast('cuda', args...)` instead.\n",
            "  with amp.autocast(autocast):\n"
          ]
        },
        {
          "output_type": "stream",
          "name": "stdout",
          "text": [
            "Processed raccoon-90.jpg and saved to /content/output_images_folder/raccoon-90.jpg\n"
          ]
        },
        {
          "output_type": "stream",
          "name": "stderr",
          "text": [
            "image 1/1: 401x600 1 dog\n",
            "Speed: 9.7ms pre-process, 562.0ms inference, 6.1ms NMS per image at shape (1, 3, 448, 640)\n",
            "Saved 1 image to \u001b[1m/content/output_images_folder371\u001b[0m\n",
            "/root/.cache/torch/hub/ultralytics_yolov5_master/models/common.py:892: FutureWarning: `torch.cuda.amp.autocast(args...)` is deprecated. Please use `torch.amp.autocast('cuda', args...)` instead.\n",
            "  with amp.autocast(autocast):\n"
          ]
        },
        {
          "output_type": "stream",
          "name": "stdout",
          "text": [
            "Processed raccoon-86.jpg and saved to /content/output_images_folder/raccoon-86.jpg\n"
          ]
        },
        {
          "output_type": "stream",
          "name": "stderr",
          "text": [
            "image 1/1: 420x560 2 bears\n",
            "Speed: 13.2ms pre-process, 542.7ms inference, 2.0ms NMS per image at shape (1, 3, 480, 640)\n",
            "Saved 1 image to \u001b[1m/content/output_images_folder372\u001b[0m\n",
            "/root/.cache/torch/hub/ultralytics_yolov5_master/models/common.py:892: FutureWarning: `torch.cuda.amp.autocast(args...)` is deprecated. Please use `torch.amp.autocast('cuda', args...)` instead.\n",
            "  with amp.autocast(autocast):\n"
          ]
        },
        {
          "output_type": "stream",
          "name": "stdout",
          "text": [
            "Processed raccoon-72.jpg and saved to /content/output_images_folder/raccoon-72.jpg\n"
          ]
        },
        {
          "output_type": "stream",
          "name": "stderr",
          "text": [
            "image 1/1: 500x750 (no detections)\n",
            "Speed: 11.9ms pre-process, 508.5ms inference, 6.2ms NMS per image at shape (1, 3, 448, 640)\n",
            "Saved 1 image to \u001b[1m/content/output_images_folder373\u001b[0m\n",
            "/root/.cache/torch/hub/ultralytics_yolov5_master/models/common.py:892: FutureWarning: `torch.cuda.amp.autocast(args...)` is deprecated. Please use `torch.amp.autocast('cuda', args...)` instead.\n",
            "  with amp.autocast(autocast):\n"
          ]
        },
        {
          "output_type": "stream",
          "name": "stdout",
          "text": [
            "Processed raccoon-82.jpg and saved to /content/output_images_folder/raccoon-82.jpg\n"
          ]
        },
        {
          "output_type": "stream",
          "name": "stderr",
          "text": [
            "image 1/1: 510x347 (no detections)\n",
            "Speed: 10.3ms pre-process, 589.2ms inference, 6.0ms NMS per image at shape (1, 3, 640, 448)\n",
            "Saved 1 image to \u001b[1m/content/output_images_folder374\u001b[0m\n",
            "/root/.cache/torch/hub/ultralytics_yolov5_master/models/common.py:892: FutureWarning: `torch.cuda.amp.autocast(args...)` is deprecated. Please use `torch.amp.autocast('cuda', args...)` instead.\n",
            "  with amp.autocast(autocast):\n"
          ]
        },
        {
          "output_type": "stream",
          "name": "stdout",
          "text": [
            "Processed raccoon-9.jpg and saved to /content/output_images_folder/raccoon-9.jpg\n"
          ]
        },
        {
          "output_type": "stream",
          "name": "stderr",
          "text": [
            "image 1/1: 371x660 1 bear\n",
            "Speed: 9.6ms pre-process, 458.9ms inference, 2.1ms NMS per image at shape (1, 3, 384, 640)\n",
            "Saved 1 image to \u001b[1m/content/output_images_folder375\u001b[0m\n",
            "/root/.cache/torch/hub/ultralytics_yolov5_master/models/common.py:892: FutureWarning: `torch.cuda.amp.autocast(args...)` is deprecated. Please use `torch.amp.autocast('cuda', args...)` instead.\n",
            "  with amp.autocast(autocast):\n"
          ]
        },
        {
          "output_type": "stream",
          "name": "stdout",
          "text": [
            "Processed raccoon-83.jpg and saved to /content/output_images_folder/raccoon-83.jpg\n"
          ]
        },
        {
          "output_type": "stream",
          "name": "stderr",
          "text": [
            "image 1/1: 375x500 1 cat, 2 bears\n",
            "Speed: 9.8ms pre-process, 455.2ms inference, 1.5ms NMS per image at shape (1, 3, 480, 640)\n",
            "Saved 1 image to \u001b[1m/content/output_images_folder376\u001b[0m\n",
            "/root/.cache/torch/hub/ultralytics_yolov5_master/models/common.py:892: FutureWarning: `torch.cuda.amp.autocast(args...)` is deprecated. Please use `torch.amp.autocast('cuda', args...)` instead.\n",
            "  with amp.autocast(autocast):\n"
          ]
        },
        {
          "output_type": "stream",
          "name": "stdout",
          "text": [
            "Processed raccoon-70.jpg and saved to /content/output_images_folder/raccoon-70.jpg\n"
          ]
        },
        {
          "output_type": "stream",
          "name": "stderr",
          "text": [
            "image 1/1: 219x230 1 donut\n",
            "Speed: 5.0ms pre-process, 489.3ms inference, 4.8ms NMS per image at shape (1, 3, 640, 640)\n",
            "Saved 1 image to \u001b[1m/content/output_images_folder377\u001b[0m\n",
            "/root/.cache/torch/hub/ultralytics_yolov5_master/models/common.py:892: FutureWarning: `torch.cuda.amp.autocast(args...)` is deprecated. Please use `torch.amp.autocast('cuda', args...)` instead.\n",
            "  with amp.autocast(autocast):\n"
          ]
        },
        {
          "output_type": "stream",
          "name": "stdout",
          "text": [
            "Processed raccoon-96.jpg and saved to /content/output_images_folder/raccoon-96.jpg\n"
          ]
        },
        {
          "output_type": "stream",
          "name": "stderr",
          "text": [
            "image 1/1: 640x640 1 bear\n",
            "Speed: 10.0ms pre-process, 506.3ms inference, 4.2ms NMS per image at shape (1, 3, 640, 640)\n",
            "Saved 1 image to \u001b[1m/content/output_images_folder378\u001b[0m\n",
            "/root/.cache/torch/hub/ultralytics_yolov5_master/models/common.py:892: FutureWarning: `torch.cuda.amp.autocast(args...)` is deprecated. Please use `torch.amp.autocast('cuda', args...)` instead.\n",
            "  with amp.autocast(autocast):\n"
          ]
        },
        {
          "output_type": "stream",
          "name": "stdout",
          "text": [
            "Processed raccoon-75.jpg and saved to /content/output_images_folder/raccoon-75.jpg\n"
          ]
        },
        {
          "output_type": "stream",
          "name": "stderr",
          "text": [
            "image 1/1: 360x640 1 dog, 1 mouse\n",
            "Speed: 7.3ms pre-process, 300.1ms inference, 1.2ms NMS per image at shape (1, 3, 384, 640)\n",
            "Saved 1 image to \u001b[1m/content/output_images_folder379\u001b[0m\n",
            "/root/.cache/torch/hub/ultralytics_yolov5_master/models/common.py:892: FutureWarning: `torch.cuda.amp.autocast(args...)` is deprecated. Please use `torch.amp.autocast('cuda', args...)` instead.\n",
            "  with amp.autocast(autocast):\n"
          ]
        },
        {
          "output_type": "stream",
          "name": "stdout",
          "text": [
            "Processed raccoon-77.jpg and saved to /content/output_images_folder/raccoon-77.jpg\n"
          ]
        },
        {
          "output_type": "stream",
          "name": "stderr",
          "text": [
            "image 1/1: 640x960 1 cat\n",
            "Speed: 10.4ms pre-process, 326.0ms inference, 1.4ms NMS per image at shape (1, 3, 448, 640)\n",
            "Saved 1 image to \u001b[1m/content/output_images_folder380\u001b[0m\n",
            "/root/.cache/torch/hub/ultralytics_yolov5_master/models/common.py:892: FutureWarning: `torch.cuda.amp.autocast(args...)` is deprecated. Please use `torch.amp.autocast('cuda', args...)` instead.\n",
            "  with amp.autocast(autocast):\n"
          ]
        },
        {
          "output_type": "stream",
          "name": "stdout",
          "text": [
            "Processed raccoon-92.jpg and saved to /content/output_images_folder/raccoon-92.jpg\n"
          ]
        },
        {
          "output_type": "stream",
          "name": "stderr",
          "text": [
            "image 1/1: 194x259 1 bear\n",
            "Speed: 4.1ms pre-process, 355.6ms inference, 1.6ms NMS per image at shape (1, 3, 480, 640)\n",
            "Saved 1 image to \u001b[1m/content/output_images_folder381\u001b[0m\n",
            "/root/.cache/torch/hub/ultralytics_yolov5_master/models/common.py:892: FutureWarning: `torch.cuda.amp.autocast(args...)` is deprecated. Please use `torch.amp.autocast('cuda', args...)` instead.\n",
            "  with amp.autocast(autocast):\n"
          ]
        },
        {
          "output_type": "stream",
          "name": "stdout",
          "text": [
            "Processed raccoon-8.jpg and saved to /content/output_images_folder/raccoon-8.jpg\n"
          ]
        },
        {
          "output_type": "stream",
          "name": "stderr",
          "text": [
            "image 1/1: 226x223 1 sheep\n",
            "Speed: 10.6ms pre-process, 501.8ms inference, 6.8ms NMS per image at shape (1, 3, 640, 640)\n",
            "Saved 1 image to \u001b[1m/content/output_images_folder382\u001b[0m\n",
            "/root/.cache/torch/hub/ultralytics_yolov5_master/models/common.py:892: FutureWarning: `torch.cuda.amp.autocast(args...)` is deprecated. Please use `torch.amp.autocast('cuda', args...)` instead.\n",
            "  with amp.autocast(autocast):\n"
          ]
        },
        {
          "output_type": "stream",
          "name": "stdout",
          "text": [
            "Processed raccoon-78.jpg and saved to /content/output_images_folder/raccoon-78.jpg\n"
          ]
        },
        {
          "output_type": "stream",
          "name": "stderr",
          "text": [
            "image 1/1: 166x303 (no detections)\n",
            "Speed: 5.7ms pre-process, 288.9ms inference, 1.1ms NMS per image at shape (1, 3, 352, 640)\n",
            "Saved 1 image to \u001b[1m/content/output_images_folder383\u001b[0m\n",
            "/root/.cache/torch/hub/ultralytics_yolov5_master/models/common.py:892: FutureWarning: `torch.cuda.amp.autocast(args...)` is deprecated. Please use `torch.amp.autocast('cuda', args...)` instead.\n",
            "  with amp.autocast(autocast):\n"
          ]
        },
        {
          "output_type": "stream",
          "name": "stdout",
          "text": [
            "Processed raccoon-84.jpg and saved to /content/output_images_folder/raccoon-84.jpg\n"
          ]
        },
        {
          "output_type": "stream",
          "name": "stderr",
          "text": [
            "image 1/1: 225x225 1 cat\n",
            "Speed: 6.2ms pre-process, 503.0ms inference, 5.0ms NMS per image at shape (1, 3, 640, 640)\n",
            "Saved 1 image to \u001b[1m/content/output_images_folder384\u001b[0m\n",
            "/root/.cache/torch/hub/ultralytics_yolov5_master/models/common.py:892: FutureWarning: `torch.cuda.amp.autocast(args...)` is deprecated. Please use `torch.amp.autocast('cuda', args...)` instead.\n",
            "  with amp.autocast(autocast):\n"
          ]
        },
        {
          "output_type": "stream",
          "name": "stdout",
          "text": [
            "Processed raccoon-76.jpg and saved to /content/output_images_folder/raccoon-76.jpg\n"
          ]
        },
        {
          "output_type": "stream",
          "name": "stderr",
          "text": [
            "image 1/1: 467x700 1 bear\n",
            "Speed: 9.8ms pre-process, 332.4ms inference, 3.9ms NMS per image at shape (1, 3, 448, 640)\n",
            "Saved 1 image to \u001b[1m/content/output_images_folder385\u001b[0m\n",
            "/root/.cache/torch/hub/ultralytics_yolov5_master/models/common.py:892: FutureWarning: `torch.cuda.amp.autocast(args...)` is deprecated. Please use `torch.amp.autocast('cuda', args...)` instead.\n",
            "  with amp.autocast(autocast):\n"
          ]
        },
        {
          "output_type": "stream",
          "name": "stdout",
          "text": [
            "Processed raccoon-94.jpg and saved to /content/output_images_folder/raccoon-94.jpg\n"
          ]
        },
        {
          "output_type": "stream",
          "name": "stderr",
          "text": [
            "image 1/1: 426x640 1 bear\n",
            "Speed: 10.0ms pre-process, 323.4ms inference, 3.9ms NMS per image at shape (1, 3, 448, 640)\n",
            "Saved 1 image to \u001b[1m/content/output_images_folder386\u001b[0m\n",
            "/root/.cache/torch/hub/ultralytics_yolov5_master/models/common.py:892: FutureWarning: `torch.cuda.amp.autocast(args...)` is deprecated. Please use `torch.amp.autocast('cuda', args...)` instead.\n",
            "  with amp.autocast(autocast):\n"
          ]
        },
        {
          "output_type": "stream",
          "name": "stdout",
          "text": [
            "Processed raccoon-71.jpg and saved to /content/output_images_folder/raccoon-71.jpg\n"
          ]
        },
        {
          "output_type": "stream",
          "name": "stderr",
          "text": [
            "image 1/1: 308x410 1 cat\n",
            "Speed: 7.5ms pre-process, 394.9ms inference, 2.4ms NMS per image at shape (1, 3, 480, 640)\n",
            "Saved 1 image to \u001b[1m/content/output_images_folder387\u001b[0m\n",
            "/root/.cache/torch/hub/ultralytics_yolov5_master/models/common.py:892: FutureWarning: `torch.cuda.amp.autocast(args...)` is deprecated. Please use `torch.amp.autocast('cuda', args...)` instead.\n",
            "  with amp.autocast(autocast):\n"
          ]
        },
        {
          "output_type": "stream",
          "name": "stdout",
          "text": [
            "Processed raccoon-7.jpg and saved to /content/output_images_folder/raccoon-7.jpg\n"
          ]
        },
        {
          "output_type": "stream",
          "name": "stderr",
          "text": [
            "image 1/1: 228x252 1 cat, 1 dog\n",
            "Speed: 9.8ms pre-process, 485.5ms inference, 6.8ms NMS per image at shape (1, 3, 608, 640)\n",
            "Saved 1 image to \u001b[1m/content/output_images_folder388\u001b[0m\n",
            "/root/.cache/torch/hub/ultralytics_yolov5_master/models/common.py:892: FutureWarning: `torch.cuda.amp.autocast(args...)` is deprecated. Please use `torch.amp.autocast('cuda', args...)` instead.\n",
            "  with amp.autocast(autocast):\n"
          ]
        },
        {
          "output_type": "stream",
          "name": "stdout",
          "text": [
            "Processed raccoon-99.jpg and saved to /content/output_images_folder/raccoon-99.jpg\n"
          ]
        },
        {
          "output_type": "stream",
          "name": "stderr",
          "text": [
            "image 1/1: 465x620 1 cat, 2 bears\n",
            "Speed: 8.1ms pre-process, 382.6ms inference, 1.8ms NMS per image at shape (1, 3, 480, 640)\n",
            "Saved 1 image to \u001b[1m/content/output_images_folder389\u001b[0m\n",
            "/root/.cache/torch/hub/ultralytics_yolov5_master/models/common.py:892: FutureWarning: `torch.cuda.amp.autocast(args...)` is deprecated. Please use `torch.amp.autocast('cuda', args...)` instead.\n",
            "  with amp.autocast(autocast):\n"
          ]
        },
        {
          "output_type": "stream",
          "name": "stdout",
          "text": [
            "Processed raccoon-85.jpg and saved to /content/output_images_folder/raccoon-85.jpg\n"
          ]
        },
        {
          "output_type": "stream",
          "name": "stderr",
          "text": [
            "image 1/1: 400x320 1 bear\n",
            "Speed: 10.0ms pre-process, 411.3ms inference, 4.5ms NMS per image at shape (1, 3, 640, 512)\n",
            "Saved 1 image to \u001b[1m/content/output_images_folder390\u001b[0m\n",
            "/root/.cache/torch/hub/ultralytics_yolov5_master/models/common.py:892: FutureWarning: `torch.cuda.amp.autocast(args...)` is deprecated. Please use `torch.amp.autocast('cuda', args...)` instead.\n",
            "  with amp.autocast(autocast):\n"
          ]
        },
        {
          "output_type": "stream",
          "name": "stdout",
          "text": [
            "Processed raccoon-95.jpg and saved to /content/output_images_folder/raccoon-95.jpg\n"
          ]
        },
        {
          "output_type": "stream",
          "name": "stderr",
          "text": [
            "image 1/1: 393x500 1 dog, 1 bear\n",
            "Speed: 8.1ms pre-process, 427.0ms inference, 4.4ms NMS per image at shape (1, 3, 512, 640)\n",
            "Saved 1 image to \u001b[1m/content/output_images_folder391\u001b[0m\n",
            "/root/.cache/torch/hub/ultralytics_yolov5_master/models/common.py:892: FutureWarning: `torch.cuda.amp.autocast(args...)` is deprecated. Please use `torch.amp.autocast('cuda', args...)` instead.\n",
            "  with amp.autocast(autocast):\n"
          ]
        },
        {
          "output_type": "stream",
          "name": "stdout",
          "text": [
            "Processed raccoon-97.jpg and saved to /content/output_images_folder/raccoon-97.jpg\n"
          ]
        },
        {
          "output_type": "stream",
          "name": "stderr",
          "text": [
            "image 1/1: 197x256 1 cat\n",
            "Speed: 5.4ms pre-process, 391.0ms inference, 4.5ms NMS per image at shape (1, 3, 512, 640)\n",
            "Saved 1 image to \u001b[1m/content/output_images_folder392\u001b[0m\n",
            "/root/.cache/torch/hub/ultralytics_yolov5_master/models/common.py:892: FutureWarning: `torch.cuda.amp.autocast(args...)` is deprecated. Please use `torch.amp.autocast('cuda', args...)` instead.\n",
            "  with amp.autocast(autocast):\n"
          ]
        },
        {
          "output_type": "stream",
          "name": "stdout",
          "text": [
            "Processed raccoon-87.jpg and saved to /content/output_images_folder/raccoon-87.jpg\n"
          ]
        },
        {
          "output_type": "stream",
          "name": "stderr",
          "text": [
            "image 1/1: 201x251 1 cat\n",
            "Speed: 6.2ms pre-process, 392.9ms inference, 3.7ms NMS per image at shape (1, 3, 512, 640)\n",
            "Saved 1 image to \u001b[1m/content/output_images_folder393\u001b[0m\n",
            "/root/.cache/torch/hub/ultralytics_yolov5_master/models/common.py:892: FutureWarning: `torch.cuda.amp.autocast(args...)` is deprecated. Please use `torch.amp.autocast('cuda', args...)` instead.\n",
            "  with amp.autocast(autocast):\n"
          ]
        },
        {
          "output_type": "stream",
          "name": "stdout",
          "text": [
            "Processed raccoon-93.jpg and saved to /content/output_images_folder/raccoon-93.jpg\n"
          ]
        },
        {
          "output_type": "stream",
          "name": "stderr",
          "text": [
            "image 1/1: 225x225 (no detections)\n",
            "Speed: 5.4ms pre-process, 472.9ms inference, 4.8ms NMS per image at shape (1, 3, 640, 640)\n",
            "Saved 1 image to \u001b[1m/content/output_images_folder394\u001b[0m\n",
            "/root/.cache/torch/hub/ultralytics_yolov5_master/models/common.py:892: FutureWarning: `torch.cuda.amp.autocast(args...)` is deprecated. Please use `torch.amp.autocast('cuda', args...)` instead.\n",
            "  with amp.autocast(autocast):\n"
          ]
        },
        {
          "output_type": "stream",
          "name": "stdout",
          "text": [
            "Processed raccoon-80.jpg and saved to /content/output_images_folder/raccoon-80.jpg\n"
          ]
        },
        {
          "output_type": "stream",
          "name": "stderr",
          "text": [
            "image 1/1: 194x259 1 cat\n",
            "Speed: 5.4ms pre-process, 377.4ms inference, 1.5ms NMS per image at shape (1, 3, 480, 640)\n",
            "Saved 1 image to \u001b[1m/content/output_images_folder395\u001b[0m\n",
            "/root/.cache/torch/hub/ultralytics_yolov5_master/models/common.py:892: FutureWarning: `torch.cuda.amp.autocast(args...)` is deprecated. Please use `torch.amp.autocast('cuda', args...)` instead.\n",
            "  with amp.autocast(autocast):\n"
          ]
        },
        {
          "output_type": "stream",
          "name": "stdout",
          "text": [
            "Processed raccoon-89.jpg and saved to /content/output_images_folder/raccoon-89.jpg\n"
          ]
        },
        {
          "output_type": "stream",
          "name": "stderr",
          "text": [
            "image 1/1: 314x236 1 sheep, 1 bear\n",
            "Speed: 8.0ms pre-process, 405.0ms inference, 4.5ms NMS per image at shape (1, 3, 640, 512)\n",
            "Saved 1 image to \u001b[1m/content/output_images_folder396\u001b[0m\n",
            "/root/.cache/torch/hub/ultralytics_yolov5_master/models/common.py:892: FutureWarning: `torch.cuda.amp.autocast(args...)` is deprecated. Please use `torch.amp.autocast('cuda', args...)` instead.\n",
            "  with amp.autocast(autocast):\n"
          ]
        },
        {
          "output_type": "stream",
          "name": "stdout",
          "text": [
            "Processed raccoon-91.jpg and saved to /content/output_images_folder/raccoon-91.jpg\n"
          ]
        },
        {
          "output_type": "stream",
          "name": "stderr",
          "text": [
            "image 1/1: 533x800 1 bear\n",
            "Speed: 9.1ms pre-process, 357.8ms inference, 3.7ms NMS per image at shape (1, 3, 448, 640)\n",
            "Saved 1 image to \u001b[1m/content/output_images_folder397\u001b[0m\n",
            "/root/.cache/torch/hub/ultralytics_yolov5_master/models/common.py:892: FutureWarning: `torch.cuda.amp.autocast(args...)` is deprecated. Please use `torch.amp.autocast('cuda', args...)` instead.\n",
            "  with amp.autocast(autocast):\n"
          ]
        },
        {
          "output_type": "stream",
          "name": "stdout",
          "text": [
            "Processed raccoon-74.jpg and saved to /content/output_images_folder/raccoon-74.jpg\n"
          ]
        },
        {
          "output_type": "stream",
          "name": "stderr",
          "text": [
            "image 1/1: 480x640 1 bear\n",
            "Speed: 9.9ms pre-process, 354.7ms inference, 1.4ms NMS per image at shape (1, 3, 480, 640)\n",
            "Saved 1 image to \u001b[1m/content/output_images_folder398\u001b[0m\n",
            "/root/.cache/torch/hub/ultralytics_yolov5_master/models/common.py:892: FutureWarning: `torch.cuda.amp.autocast(args...)` is deprecated. Please use `torch.amp.autocast('cuda', args...)` instead.\n",
            "  with amp.autocast(autocast):\n"
          ]
        },
        {
          "output_type": "stream",
          "name": "stdout",
          "text": [
            "Processed raccoon-88.jpg and saved to /content/output_images_folder/raccoon-88.jpg\n"
          ]
        },
        {
          "output_type": "stream",
          "name": "stderr",
          "text": [
            "image 1/1: 425x640 1 bear\n",
            "Speed: 8.8ms pre-process, 441.3ms inference, 6.7ms NMS per image at shape (1, 3, 448, 640)\n",
            "Saved 1 image to \u001b[1m/content/output_images_folder399\u001b[0m\n",
            "/root/.cache/torch/hub/ultralytics_yolov5_master/models/common.py:892: FutureWarning: `torch.cuda.amp.autocast(args...)` is deprecated. Please use `torch.amp.autocast('cuda', args...)` instead.\n",
            "  with amp.autocast(autocast):\n"
          ]
        },
        {
          "output_type": "stream",
          "name": "stdout",
          "text": [
            "Processed raccoon-79.jpg and saved to /content/output_images_folder/raccoon-79.jpg\n"
          ]
        },
        {
          "output_type": "stream",
          "name": "stderr",
          "text": [
            "image 1/1: 360x480 1 bowl\n",
            "Speed: 10.7ms pre-process, 591.4ms inference, 6.5ms NMS per image at shape (1, 3, 480, 640)\n",
            "Saved 1 image to \u001b[1m/content/output_images_folder400\u001b[0m\n",
            "/root/.cache/torch/hub/ultralytics_yolov5_master/models/common.py:892: FutureWarning: `torch.cuda.amp.autocast(args...)` is deprecated. Please use `torch.amp.autocast('cuda', args...)` instead.\n",
            "  with amp.autocast(autocast):\n"
          ]
        },
        {
          "output_type": "stream",
          "name": "stdout",
          "text": [
            "Processed raccoon-98.jpg and saved to /content/output_images_folder/raccoon-98.jpg\n"
          ]
        },
        {
          "output_type": "stream",
          "name": "stderr",
          "text": [
            "image 1/1: 450x600 1 bear\n",
            "Speed: 11.5ms pre-process, 565.1ms inference, 5.0ms NMS per image at shape (1, 3, 480, 640)\n",
            "Saved 1 image to \u001b[1m/content/output_images_folder401\u001b[0m\n"
          ]
        },
        {
          "output_type": "stream",
          "name": "stdout",
          "text": [
            "Processed raccoon-81.jpg and saved to /content/output_images_folder/raccoon-81.jpg\n",
            "Object detection complete for all images.\n"
          ]
        }
      ]
    },
    {
      "cell_type": "code",
      "source": [],
      "metadata": {
        "id": "CK8v3AgYJ_Eh"
      },
      "execution_count": null,
      "outputs": []
    },
    {
      "cell_type": "code",
      "source": [],
      "metadata": {
        "id": "QMfmU9q8J_IP"
      },
      "execution_count": null,
      "outputs": []
    }
  ]
}